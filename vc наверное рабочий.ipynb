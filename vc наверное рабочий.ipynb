{
  "nbformat": 4,
  "nbformat_minor": 0,
  "metadata": {
    "colab": {
      "name": "vc.ipynb",
      "provenance": [],
      "collapsed_sections": []
    },
    "kernelspec": {
      "display_name": "Python 3",
      "language": "python",
      "name": "python3"
    },
    "language_info": {
      "codemirror_mode": {
        "name": "ipython",
        "version": 3
      },
      "file_extension": ".py",
      "mimetype": "text/x-python",
      "name": "python",
      "nbconvert_exporter": "python",
      "pygments_lexer": "ipython3",
      "version": "3.7.4"
    }
  },
  "cells": [
    {
      "cell_type": "code",
      "metadata": {
        "colab_type": "code",
        "id": "2K4pFE7zkajG",
        "colab": {}
      },
      "source": [
        "from bs4 import BeautifulSoup\n",
        "import requests\n",
        "import pandas as pd\n",
        "import numpy as np\n",
        "import re"
      ],
      "execution_count": 0,
      "outputs": []
    },
    {
      "cell_type": "code",
      "metadata": {
        "colab_type": "code",
        "id": "-YCd0MCl1YyG",
        "colab": {}
      },
      "source": [
        "def cleanhtml(raw_html):\n",
        "  cleanr = re.compile('<.*?>')\n",
        "  cleantext = re.sub(cleanr, '', raw_html)\n",
        "  regex = re.compile('[^A-Za-zА-Яа-я]')\n",
        "  cleantext = regex.sub(' ', cleantext)\n",
        "  return cleantext"
      ],
      "execution_count": 0,
      "outputs": []
    },
    {
      "cell_type": "code",
      "metadata": {
        "colab_type": "code",
        "id": "EAB9l_bl1YyM",
        "colab": {}
      },
      "source": [
        "def gettext(bad): \n",
        "    mid = []\n",
        "    i = 1\n",
        "    while bad[i].text.split()[0] != 'Материал' and bad[i].text.split()[1] != 'опубликован':\n",
        "        mid.append(bad[i].text)\n",
        "        i += 1\n",
        "        if i > len(mid):\n",
        "            break\n",
        "    good = [j for i in mid for j in i.split()]\n",
        "    return good"
      ],
      "execution_count": 0,
      "outputs": []
    },
    {
      "cell_type": "code",
      "metadata": {
        "id": "cv6Yuetq1YyR",
        "colab_type": "code",
        "colab": {}
      },
      "source": [
        "def getli(li):\n",
        "    mid = []\n",
        "    "
      ],
      "execution_count": 0,
      "outputs": []
    },
    {
      "cell_type": "code",
      "metadata": {
        "id": "Yp4SkBeEngT1",
        "colab_type": "code",
        "colab": {}
      },
      "source": [
        "##вроде работает для этого класса, но делает лист с листами \n",
        "page = requests.get('https://vc.ru/15000')\n",
        "soup = BeautifulSoup(page.text, 'html5lib')\n",
        "info = []\n",
        "text = []\n",
        "for item in soup.find_all('div',  class_=\"layout--с block-html\"):\n",
        "    name = item.find_all('p')\n",
        "    for i  in name:\n",
        "      text.append(i.text.split())"
      ],
      "execution_count": 0,
      "outputs": []
    },
    {
      "cell_type": "code",
      "metadata": {
        "id": "hiDKWUKgk9gs",
        "colab_type": "code",
        "colab": {}
      },
      "source": [
        "##теперь и для этого класса\n",
        "for item in soup.find_all('div',  class_=\"layout--a\"):\n",
        "    name = item.find_all('p')\n",
        "    for i  in name:\n",
        "      if i.find('span', class_=\"user_name\"):\n",
        "        break\n",
        "      text.append(i.text)\n",
        "text = text[:-2]\n",
        "info.append(text)"
      ],
      "execution_count": 0,
      "outputs": []
    },
    {
      "cell_type": "code",
      "metadata": {
        "colab_type": "code",
        "id": "ELd4rD2q1YyW",
        "colab": {}
      },
      "source": [
        "def document(id):\n",
        "    page = requests.get('https://vc.ru/' + str(id) )\n",
        "    soup = BeautifulSoup(page.text, 'html5lib')\n",
        "    info = []\n",
        "    text =[]\n",
        "    lol = []\n",
        "    if soup.find(\"h1\", class_=\"content-header__title\") and 'Вакансия' not in soup.find('title').text:\n",
        "        #titledone\n",
        "        info.append(soup.find(\"h1\", class_=\"content-header__title\").text.split())\n",
        "        #text\n",
        "        if soup.find_all('p') != None:\n",
        "          for item in soup.find_all('div',  class_=\"layout--с block-html\"):\n",
        "            name = item.find_all('p')\n",
        "            for i  in name:\n",
        "              text.append(i.text)\n",
        "          for item in soup.find_all('div',  class_=\"layout--a\"):\n",
        "              name = item.find_all('p')\n",
        "              for i  in name:\n",
        "                if i.find('span', class_=\"user_name\"):\n",
        "                  break\n",
        "                lol.append(i.text)\n",
        "          lol = lol[:-2]\n",
        "          text.append(lol)\n",
        "        if soup.find_all(\"li\") != None: \n",
        "            text.append([var for i in soup.find_all(\"li\") for var in i.text.split()])\n",
        "        else:\n",
        "            text.append('NaN')\n",
        "        info.append(text)\n",
        "        #yeardone\n",
        "        info.append(soup.find(\"time\", class_= \"time\").text.split()[2])\n",
        "        #sectiondone\n",
        "        info.append(soup.find(\"div\", class_=\n",
        "                              \"content-header-author__name\").text.split())\n",
        "        #votesdone\n",
        "        a = soup.find(\"span\", class_=\"vote__value__v vote__value__v--real\").text\n",
        "        if a[0] == '–':\n",
        "            b = int(a[1:])\n",
        "            info.append(-b)\n",
        "        else:\n",
        "            info.append(int(a))\n",
        "        #viewsdone\n",
        "        info.append(soup.find(\"span\", class_=\"views__value\").text.replace(u'\\xa0', u''))\n",
        "        #bookmarksdone\n",
        "        if soup.find('div',\n",
        "                        class_=\"favorite_marker favorite_marker--type-content favorite_marker--non_zero\"):\n",
        "            info.append(int(soup.find('div',\n",
        "                        class_=\"favorite_marker favorite_marker--type-content favorite_marker--non_zero\").text.split()[0]))\n",
        "        else:\n",
        "            info.append(0)\n",
        "        #commentsdone\n",
        "        comment1 = soup.find_all(\"div\", class_=\"comments__item__text\")\n",
        "        comments = []\n",
        "        for i in range(len(comment1)):\n",
        "        if comment1[i].text != 'Комментарий удален':\n",
        "            comments.append(comment1[i].text.split())\n",
        "            info.append(comments)\n",
        "    else:\n",
        "        info.append('NaN')\n",
        "    print(id)\n",
        "    return info"
      ],
      "execution_count": 0,
      "outputs": []
    },
    {
      "cell_type": "code",
      "metadata": {
        "colab_type": "code",
        "id": "FT0cu7pTkgKi",
        "scrolled": true,
        "colab": {}
      },
      "source": [
        "from multiprocessing import Pool\n",
        "with Pool(100) as p:\n",
        "    a = p.map(document, np.arange(3246,3346))"
      ],
      "execution_count": 0,
      "outputs": []
    },
    {
      "cell_type": "markdown",
      "metadata": {
        "id": "4qHfRncUAlr9",
        "colab_type": "text"
      },
      "source": [
        "##### Материал опубликован редакцией, а не автором"
      ]
    },
    {
      "cell_type": "code",
      "metadata": {
        "id": "ee5DzWi4_PKo",
        "colab_type": "code",
        "colab": {}
      },
      "source": [
        "document(3256)"
      ],
      "execution_count": 0,
      "outputs": []
    },
    {
      "cell_type": "code",
      "metadata": {
        "id": "vkItn0BJ36EG",
        "colab_type": "code",
        "colab": {}
      },
      "source": [
        "df = pd.DataFrame(a[1], columns=['title', 'text', 'date', 'section', 'votes', 'views', 'bookmarks', 'comments'])"
      ],
      "execution_count": 0,
      "outputs": []
    },
    {
      "cell_type": "code",
      "metadata": {
        "id": "1tCW2_9C3lL8",
        "colab_type": "code",
        "colab": {}
      },
      "source": [
        "a[:8]"
      ],
      "execution_count": 0,
      "outputs": []
    },
    {
      "cell_type": "code",
      "metadata": {
        "id": "506KuFdx17Ps",
        "colab_type": "code",
        "colab": {}
      },
      "source": [
        "i = 239400\n",
        "for j in range(239500, 351001, 100):\n",
        "    from multiprocessing import Pool\n",
        "    with Pool(100) as p:\n",
        "        b = p.map(document, np.arange(i, j))\n",
        "    try:\n",
        "        df = pd.DataFrame(b, columns=['title', 'text', 'date', 'hubs', 'tags', 'votes', 'views', 'bookmarks', 'comments'])\n",
        "        df.to_feather(str(i) + \"-\" + str(j) + '.feather')\n",
        "        from google.colab import files\n",
        "        files.download(str(i) + \"-\" + str(j) + '.feather')\n",
        "        print('done', i, j)\n",
        "    except:\n",
        "        print('ooops')\n",
        "    i += 100"
      ],
      "execution_count": 0,
      "outputs": []
    },
    {
      "cell_type": "code",
      "metadata": {
        "id": "gqR_dDtW1Yyg",
        "colab_type": "code",
        "outputId": "12c52249-954f-41b2-d892-1c51f648b178",
        "colab": {
          "base_uri": "https://localhost:8080/",
          "height": 381
        }
      },
      "source": [
        "df = pd.DataFrame(a, columns=['title', 'text', 'year', 'section', 'votes', 'views', 'bookmarks', 'comments'])\n",
        "df.dropna(inplace=True)\n",
        "df"
      ],
      "execution_count": 0,
      "outputs": [
        {
          "output_type": "error",
          "ename": "TypeError",
          "evalue": "ignored",
          "traceback": [
            "\u001b[0;31m---------------------------------------------------------------------------\u001b[0m",
            "\u001b[0;31mTypeError\u001b[0m                                 Traceback (most recent call last)",
            "\u001b[0;32m<ipython-input-15-a02649b96fa9>\u001b[0m in \u001b[0;36m<module>\u001b[0;34m()\u001b[0m\n\u001b[0;32m----> 1\u001b[0;31m \u001b[0mdf\u001b[0m \u001b[0;34m=\u001b[0m \u001b[0mpd\u001b[0m\u001b[0;34m.\u001b[0m\u001b[0mDataFrame\u001b[0m\u001b[0;34m(\u001b[0m\u001b[0ma\u001b[0m\u001b[0;34m,\u001b[0m \u001b[0mcolumns\u001b[0m\u001b[0;34m=\u001b[0m\u001b[0;34m[\u001b[0m\u001b[0;34m'title'\u001b[0m\u001b[0;34m,\u001b[0m \u001b[0;34m'text'\u001b[0m\u001b[0;34m,\u001b[0m \u001b[0;34m'year'\u001b[0m\u001b[0;34m,\u001b[0m \u001b[0;34m'section'\u001b[0m\u001b[0;34m,\u001b[0m \u001b[0;34m'votes'\u001b[0m\u001b[0;34m,\u001b[0m \u001b[0;34m'views'\u001b[0m\u001b[0;34m,\u001b[0m \u001b[0;34m'bookmarks'\u001b[0m\u001b[0;34m,\u001b[0m \u001b[0;34m'comments'\u001b[0m\u001b[0;34m]\u001b[0m\u001b[0;34m)\u001b[0m\u001b[0;34m\u001b[0m\u001b[0;34m\u001b[0m\u001b[0m\n\u001b[0m\u001b[1;32m      2\u001b[0m \u001b[0mdf\u001b[0m\u001b[0;34m.\u001b[0m\u001b[0mdropna\u001b[0m\u001b[0;34m(\u001b[0m\u001b[0minplace\u001b[0m\u001b[0;34m=\u001b[0m\u001b[0;32mTrue\u001b[0m\u001b[0;34m)\u001b[0m\u001b[0;34m\u001b[0m\u001b[0;34m\u001b[0m\u001b[0m\n\u001b[1;32m      3\u001b[0m \u001b[0mdf\u001b[0m\u001b[0;34m\u001b[0m\u001b[0;34m\u001b[0m\u001b[0m\n",
            "\u001b[0;32m/usr/local/lib/python3.6/dist-packages/pandas/core/frame.py\u001b[0m in \u001b[0;36m__init__\u001b[0;34m(self, data, index, columns, dtype, copy)\u001b[0m\n\u001b[1;32m    448\u001b[0m                     \u001b[0;32mif\u001b[0m \u001b[0mis_named_tuple\u001b[0m\u001b[0;34m(\u001b[0m\u001b[0mdata\u001b[0m\u001b[0;34m[\u001b[0m\u001b[0;36m0\u001b[0m\u001b[0;34m]\u001b[0m\u001b[0;34m)\u001b[0m \u001b[0;32mand\u001b[0m \u001b[0mcolumns\u001b[0m \u001b[0;32mis\u001b[0m \u001b[0;32mNone\u001b[0m\u001b[0;34m:\u001b[0m\u001b[0;34m\u001b[0m\u001b[0;34m\u001b[0m\u001b[0m\n\u001b[1;32m    449\u001b[0m                         \u001b[0mcolumns\u001b[0m \u001b[0;34m=\u001b[0m \u001b[0mdata\u001b[0m\u001b[0;34m[\u001b[0m\u001b[0;36m0\u001b[0m\u001b[0;34m]\u001b[0m\u001b[0;34m.\u001b[0m\u001b[0m_fields\u001b[0m\u001b[0;34m\u001b[0m\u001b[0;34m\u001b[0m\u001b[0m\n\u001b[0;32m--> 450\u001b[0;31m                     \u001b[0marrays\u001b[0m\u001b[0;34m,\u001b[0m \u001b[0mcolumns\u001b[0m \u001b[0;34m=\u001b[0m \u001b[0mto_arrays\u001b[0m\u001b[0;34m(\u001b[0m\u001b[0mdata\u001b[0m\u001b[0;34m,\u001b[0m \u001b[0mcolumns\u001b[0m\u001b[0;34m,\u001b[0m \u001b[0mdtype\u001b[0m\u001b[0;34m=\u001b[0m\u001b[0mdtype\u001b[0m\u001b[0;34m)\u001b[0m\u001b[0;34m\u001b[0m\u001b[0;34m\u001b[0m\u001b[0m\n\u001b[0m\u001b[1;32m    451\u001b[0m                     \u001b[0mcolumns\u001b[0m \u001b[0;34m=\u001b[0m \u001b[0mensure_index\u001b[0m\u001b[0;34m(\u001b[0m\u001b[0mcolumns\u001b[0m\u001b[0;34m)\u001b[0m\u001b[0;34m\u001b[0m\u001b[0;34m\u001b[0m\u001b[0m\n\u001b[1;32m    452\u001b[0m \u001b[0;34m\u001b[0m\u001b[0m\n",
            "\u001b[0;32m/usr/local/lib/python3.6/dist-packages/pandas/core/internals/construction.py\u001b[0m in \u001b[0;36mto_arrays\u001b[0;34m(data, columns, coerce_float, dtype)\u001b[0m\n\u001b[1;32m    462\u001b[0m         \u001b[0;32mreturn\u001b[0m \u001b[0;34m[\u001b[0m\u001b[0;34m]\u001b[0m\u001b[0;34m,\u001b[0m \u001b[0;34m[\u001b[0m\u001b[0;34m]\u001b[0m  \u001b[0;31m# columns if columns is not None else []\u001b[0m\u001b[0;34m\u001b[0m\u001b[0;34m\u001b[0m\u001b[0m\n\u001b[1;32m    463\u001b[0m     \u001b[0;32mif\u001b[0m \u001b[0misinstance\u001b[0m\u001b[0;34m(\u001b[0m\u001b[0mdata\u001b[0m\u001b[0;34m[\u001b[0m\u001b[0;36m0\u001b[0m\u001b[0;34m]\u001b[0m\u001b[0;34m,\u001b[0m \u001b[0;34m(\u001b[0m\u001b[0mlist\u001b[0m\u001b[0;34m,\u001b[0m \u001b[0mtuple\u001b[0m\u001b[0;34m)\u001b[0m\u001b[0;34m)\u001b[0m\u001b[0;34m:\u001b[0m\u001b[0;34m\u001b[0m\u001b[0;34m\u001b[0m\u001b[0m\n\u001b[0;32m--> 464\u001b[0;31m         \u001b[0;32mreturn\u001b[0m \u001b[0m_list_to_arrays\u001b[0m\u001b[0;34m(\u001b[0m\u001b[0mdata\u001b[0m\u001b[0;34m,\u001b[0m \u001b[0mcolumns\u001b[0m\u001b[0;34m,\u001b[0m \u001b[0mcoerce_float\u001b[0m\u001b[0;34m=\u001b[0m\u001b[0mcoerce_float\u001b[0m\u001b[0;34m,\u001b[0m \u001b[0mdtype\u001b[0m\u001b[0;34m=\u001b[0m\u001b[0mdtype\u001b[0m\u001b[0;34m)\u001b[0m\u001b[0;34m\u001b[0m\u001b[0;34m\u001b[0m\u001b[0m\n\u001b[0m\u001b[1;32m    465\u001b[0m     \u001b[0;32melif\u001b[0m \u001b[0misinstance\u001b[0m\u001b[0;34m(\u001b[0m\u001b[0mdata\u001b[0m\u001b[0;34m[\u001b[0m\u001b[0;36m0\u001b[0m\u001b[0;34m]\u001b[0m\u001b[0;34m,\u001b[0m \u001b[0mabc\u001b[0m\u001b[0;34m.\u001b[0m\u001b[0mMapping\u001b[0m\u001b[0;34m)\u001b[0m\u001b[0;34m:\u001b[0m\u001b[0;34m\u001b[0m\u001b[0;34m\u001b[0m\u001b[0m\n\u001b[1;32m    466\u001b[0m         return _list_of_dict_to_arrays(\n",
            "\u001b[0;32m/usr/local/lib/python3.6/dist-packages/pandas/core/internals/construction.py\u001b[0m in \u001b[0;36m_list_to_arrays\u001b[0;34m(data, columns, coerce_float, dtype)\u001b[0m\n\u001b[1;32m    494\u001b[0m     \u001b[0;32melse\u001b[0m\u001b[0;34m:\u001b[0m\u001b[0;34m\u001b[0m\u001b[0;34m\u001b[0m\u001b[0m\n\u001b[1;32m    495\u001b[0m         \u001b[0;31m# list of lists\u001b[0m\u001b[0;34m\u001b[0m\u001b[0;34m\u001b[0m\u001b[0;34m\u001b[0m\u001b[0m\n\u001b[0;32m--> 496\u001b[0;31m         \u001b[0mcontent\u001b[0m \u001b[0;34m=\u001b[0m \u001b[0mlist\u001b[0m\u001b[0;34m(\u001b[0m\u001b[0mlib\u001b[0m\u001b[0;34m.\u001b[0m\u001b[0mto_object_array\u001b[0m\u001b[0;34m(\u001b[0m\u001b[0mdata\u001b[0m\u001b[0;34m)\u001b[0m\u001b[0;34m.\u001b[0m\u001b[0mT\u001b[0m\u001b[0;34m)\u001b[0m\u001b[0;34m\u001b[0m\u001b[0;34m\u001b[0m\u001b[0m\n\u001b[0m\u001b[1;32m    497\u001b[0m     \u001b[0;31m# gh-26429 do not raise user-facing AssertionError\u001b[0m\u001b[0;34m\u001b[0m\u001b[0;34m\u001b[0m\u001b[0;34m\u001b[0m\u001b[0m\n\u001b[1;32m    498\u001b[0m     \u001b[0;32mtry\u001b[0m\u001b[0;34m:\u001b[0m\u001b[0;34m\u001b[0m\u001b[0;34m\u001b[0m\u001b[0m\n",
            "\u001b[0;32mpandas/_libs/lib.pyx\u001b[0m in \u001b[0;36mpandas._libs.lib.to_object_array\u001b[0;34m()\u001b[0m\n",
            "\u001b[0;31mTypeError\u001b[0m: object of type 'int' has no len()"
          ]
        }
      ]
    },
    {
      "cell_type": "code",
      "metadata": {
        "id": "6r0ilDlG1Yyl",
        "colab_type": "code",
        "colab": {}
      },
      "source": [
        "df.to_csv('vcru.csv')\n",
        "from google.colab import drive\n",
        "drive.mount('/content/drive')\n",
        "\n",
        "from google.colab import files\n",
        "files.download('vcru.csv')"
      ],
      "execution_count": 0,
      "outputs": []
    },
    {
      "cell_type": "code",
      "metadata": {
        "id": "6iZTHUZC1Yyp",
        "colab_type": "code",
        "outputId": "9084bfc9-ddb7-4441-e234-4a2aafe806b2",
        "colab": {
          "base_uri": "https://localhost:8080/",
          "height": 52
        }
      },
      "source": [
        "a = document(6832)\n",
        "len(a[-1])"
      ],
      "execution_count": 0,
      "outputs": [
        {
          "output_type": "stream",
          "text": [
            "6832\n"
          ],
          "name": "stdout"
        },
        {
          "output_type": "execute_result",
          "data": {
            "text/plain": [
              "71"
            ]
          },
          "metadata": {
            "tags": []
          },
          "execution_count": 138
        }
      ]
    },
    {
      "cell_type": "code",
      "metadata": {
        "id": "mSmqGg0m1Yyw",
        "colab_type": "code",
        "colab": {}
      },
      "source": [
        ""
      ],
      "execution_count": 0,
      "outputs": []
    }
  ]
}