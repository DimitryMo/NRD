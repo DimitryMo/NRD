{
 "cells": [
  {
   "cell_type": "code",
   "execution_count": 1,
   "metadata": {
    "colab": {},
    "colab_type": "code",
    "id": "2K4pFE7zkajG"
   },
   "outputs": [],
   "source": [
    "from bs4 import BeautifulSoup\n",
    "import requests\n",
    "import pandas as pd\n",
    "import numpy as np\n",
    "import re"
   ]
  },
  {
   "cell_type": "code",
   "execution_count": 115,
   "metadata": {
    "colab": {},
    "colab_type": "code",
    "id": "ELd4rD2q1YyW"
   },
   "outputs": [],
   "source": [
    "def document(id):\n",
    "    page = requests.get('https://vc.ru/' + str(id) )\n",
    "    soup = BeautifulSoup(page.text, 'html5lib')\n",
    "    info = []\n",
    "    text =[]\n",
    "    lol = []\n",
    "    if soup.find(\"h1\", class_=\"content-header__title\") and 'Вакансия' not in soup.find('title').text:\n",
    "        #titledone\n",
    "        info.append(soup.find(\"h1\", class_=\"content-header__title\").text.strip())\n",
    "        #text\n",
    "        text = ' '\n",
    "        for i in soup.find_all('div',  class_=\"layout--с block-html\"):\n",
    "            text += i.text.strip()\n",
    "        text += soup.find_all('div', class_=\"content content--full\")[0].find('div', class_=\"layout--a\").text.strip()\n",
    "        for i in soup.find_all(\"li\"):\n",
    "            text += i.text\n",
    "        info.append(text)\n",
    "        #yeardone\n",
    "        info.append(soup.find(\"time\", class_= \"time\").text.split()[2])\n",
    "        #sectiondone\n",
    "        info.append(soup.find(\"div\", class_=\n",
    "                              \"content-header-author__name\").text.strip())\n",
    "        #votesdone\n",
    "        a = soup.find(\"span\", class_=\"vote__value__v vote__value__v--real\").text\n",
    "        if a[0] == '–':\n",
    "            b = int(a[1:])\n",
    "            info.append(-b)\n",
    "        else:\n",
    "            info.append(int(a))\n",
    "        #viewsdone\n",
    "        info.append(soup.find(\"span\", class_=\"views__value\").text.replace(u'\\xa0', u''))\n",
    "        #bookmarksdone\n",
    "        if soup.find('div',\n",
    "                        class_=\"favorite_marker favorite_marker--type-content favorite_marker--non_zero\"):\n",
    "            info.append(int(soup.find('div',\n",
    "                        class_=\"favorite_marker favorite_marker--type-content favorite_marker--non_zero\").text.split()[0]))\n",
    "        else:\n",
    "            info.append(0)\n",
    "        #commentsdone\n",
    "        comment1 = soup.find_all(\"div\", class_=\"comments__item__text\")\n",
    "        comments = ' '\n",
    "        for i in range(len(comment1)):\n",
    "            if comment1[i].text != 'Комментарий удален':\n",
    "                comments += '~#' + comment1[i].text\n",
    "        info.append(comments)\n",
    "    else:\n",
    "        info.append('NaN')\n",
    "    print(id)\n",
    "    return info"
   ]
  },
  {
   "cell_type": "code",
   "execution_count": 0,
   "metadata": {
    "colab": {},
    "colab_type": "code",
    "id": "506KuFdx17Ps"
   },
   "outputs": [],
   "source": [
    "i = 239400\n",
    "for j in range(239500, 351001, 100):\n",
    "    from multiprocessing import Pool\n",
    "    with Pool(100) as p:\n",
    "        b = p.map(document, np.arange(i, j))\n",
    "    try:\n",
    "        df = pd.DataFrame(b, columns=['title', 'text', 'date', 'hubs', 'tags', 'votes', 'views', 'bookmarks', 'comments'])\n",
    "        df.to_feather(str(i) + \"-\" + str(j) + '.feather')\n",
    "        from google.colab import files\n",
    "        files.download(str(i) + \"-\" + str(j) + '.feather')\n",
    "        print('done', i, j)\n",
    "    except:\n",
    "        print('ooops')\n",
    "    i += 100"
   ]
  },
  {
   "cell_type": "code",
   "execution_count": 0,
   "metadata": {
    "colab": {},
    "colab_type": "code",
    "id": "6r0ilDlG1Yyl"
   },
   "outputs": [],
   "source": [
    "df.to_csv('vcru.csv')\n",
    "from google.colab import drive\n",
    "drive.mount('/content/drive')\n",
    "\n",
    "from google.colab import files\n",
    "files.download('vcru.csv')"
   ]
  }
 ],
 "metadata": {
  "colab": {
   "collapsed_sections": [],
   "name": "vc.ipynb",
   "provenance": []
  },
  "kernelspec": {
   "display_name": "Python 3",
   "language": "python",
   "name": "python3"
  },
  "language_info": {
   "codemirror_mode": {
    "name": "ipython",
    "version": 3
   },
   "file_extension": ".py",
   "mimetype": "text/x-python",
   "name": "python",
   "nbconvert_exporter": "python",
   "pygments_lexer": "ipython3",
   "version": "3.7.4"
  }
 },
 "nbformat": 4,
 "nbformat_minor": 1
}
