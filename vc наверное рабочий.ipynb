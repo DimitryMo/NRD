{
 "cells": [
  {
   "cell_type": "code",
   "execution_count": 1,
   "metadata": {
    "colab": {},
    "colab_type": "code",
    "id": "2K4pFE7zkajG"
   },
   "outputs": [],
   "source": [
    "from bs4 import BeautifulSoup\n",
    "import requests\n",
    "import pandas as pd\n",
    "import numpy as np\n",
    "import re"
   ]
  },
  {
   "cell_type": "code",
   "execution_count": 0,
   "metadata": {
    "colab": {},
    "colab_type": "code",
    "id": "-YCd0MCl1YyG"
   },
   "outputs": [],
   "source": [
    "def cleanhtml(raw_html):\n",
    "  cleanr = re.compile('<.*?>')\n",
    "  cleantext = re.sub(cleanr, '', raw_html)\n",
    "  regex = re.compile('[^A-Za-zА-Яа-я]')\n",
    "  cleantext = regex.sub(' ', cleantext)\n",
    "  return cleantext"
   ]
  },
  {
   "cell_type": "markdown",
   "metadata": {},
   "source": [
    "### Text"
   ]
  },
  {
   "cell_type": "code",
   "execution_count": 30,
   "metadata": {
    "colab": {},
    "colab_type": "code",
    "id": "Yp4SkBeEngT1"
   },
   "outputs": [],
   "source": [
    "##вроде работает для этого класса, но делает лист с листами\n",
    "def text(url):\n",
    "    page = requests.get('https://vc.ru/' + str(url))\n",
    "    soup = BeautifulSoup(page.text, 'html5lib')\n",
    "    text = ''\n",
    "    for item in soup.find_all('div',  class_=\"layout--с block-html\"):\n",
    "        text += item.text\n",
    "    return text"
   ]
  },
  {
   "cell_type": "code",
   "execution_count": 115,
   "metadata": {
    "colab": {},
    "colab_type": "code",
    "id": "ELd4rD2q1YyW"
   },
   "outputs": [],
   "source": [
    "def document(id):\n",
    "    page = requests.get('https://vc.ru/' + str(id) )\n",
    "    soup = BeautifulSoup(page.text, 'html5lib')\n",
    "    info = []\n",
    "    text =[]\n",
    "    lol = []\n",
    "    if soup.find(\"h1\", class_=\"content-header__title\") and 'Вакансия' not in soup.find('title').text:\n",
    "        #titledone\n",
    "        info.append(soup.find(\"h1\", class_=\"content-header__title\").text.strip())\n",
    "        #text\n",
    "        text = ' '\n",
    "        for i in soup.find_all('div',  class_=\"layout--с block-html\"):\n",
    "            text += i.text.strip()\n",
    "        text += soup.find_all('div', class_=\"content content--full\")[0].find('div', class_=\"layout--a\").text.strip()\n",
    "        for i in soup.find_all(\"li\"):\n",
    "            text += i.text\n",
    "        info.append(text)\n",
    "        #yeardone\n",
    "        info.append(soup.find(\"time\", class_= \"time\").text.split()[2])\n",
    "        #sectiondone\n",
    "        info.append(soup.find(\"div\", class_=\n",
    "                              \"content-header-author__name\").text.strip())\n",
    "        #votesdone\n",
    "        a = soup.find(\"span\", class_=\"vote__value__v vote__value__v--real\").text\n",
    "        if a[0] == '–':\n",
    "            b = int(a[1:])\n",
    "            info.append(-b)\n",
    "        else:\n",
    "            info.append(int(a))\n",
    "        #viewsdone\n",
    "        info.append(soup.find(\"span\", class_=\"views__value\").text.replace(u'\\xa0', u''))\n",
    "        #bookmarksdone\n",
    "        if soup.find('div',\n",
    "                        class_=\"favorite_marker favorite_marker--type-content favorite_marker--non_zero\"):\n",
    "            info.append(int(soup.find('div',\n",
    "                        class_=\"favorite_marker favorite_marker--type-content favorite_marker--non_zero\").text.split()[0]))\n",
    "        else:\n",
    "            info.append(0)\n",
    "        #commentsdone\n",
    "        comment1 = soup.find_all(\"div\", class_=\"comments__item__text\")\n",
    "        comments = ' '\n",
    "        for i in range(len(comment1)):\n",
    "            if comment1[i].text != 'Комментарий удален':\n",
    "                comments += '~#' + comment1[i].text\n",
    "        info.append(comments)\n",
    "    else:\n",
    "        info.append('NaN')\n",
    "    print(id)\n",
    "    return info"
   ]
  },
  {
   "cell_type": "code",
   "execution_count": 111,
   "metadata": {
    "colab": {},
    "colab_type": "code",
    "id": "ee5DzWi4_PKo"
   },
   "outputs": [],
   "source": [
    "a = map(document, [110342, 110343])"
   ]
  },
  {
   "cell_type": "code",
   "execution_count": 112,
   "metadata": {},
   "outputs": [
    {
     "ename": "TypeError",
     "evalue": "object of type 'map' has no len()",
     "output_type": "error",
     "traceback": [
      "\u001b[1;31m---------------------------------------------------------------------------\u001b[0m",
      "\u001b[1;31mTypeError\u001b[0m                                 Traceback (most recent call last)",
      "\u001b[1;32m<ipython-input-112-1a2e6ec5f1e3>\u001b[0m in \u001b[0;36m<module>\u001b[1;34m\u001b[0m\n\u001b[1;32m----> 1\u001b[1;33m \u001b[0mlen\u001b[0m\u001b[1;33m(\u001b[0m\u001b[0ma\u001b[0m\u001b[1;33m)\u001b[0m\u001b[1;33m\u001b[0m\u001b[1;33m\u001b[0m\u001b[0m\n\u001b[0m",
      "\u001b[1;31mTypeError\u001b[0m: object of type 'map' has no len()"
     ]
    }
   ],
   "source": [
    "len(a)"
   ]
  },
  {
   "cell_type": "code",
   "execution_count": 113,
   "metadata": {
    "colab": {},
    "colab_type": "code",
    "id": "vkItn0BJ36EG"
   },
   "outputs": [
    {
     "name": "stdout",
     "output_type": "stream",
     "text": [
      "110342\n",
      "110343\n"
     ]
    }
   ],
   "source": [
    "df = pd.DataFrame(a, columns=['title', 'text', 'date', 'section', 'votes', 'views', 'bookmarks', 'comments'])"
   ]
  },
  {
   "cell_type": "code",
   "execution_count": 114,
   "metadata": {},
   "outputs": [
    {
     "data": {
      "text/html": [
       "<div>\n",
       "<style scoped>\n",
       "    .dataframe tbody tr th:only-of-type {\n",
       "        vertical-align: middle;\n",
       "    }\n",
       "\n",
       "    .dataframe tbody tr th {\n",
       "        vertical-align: top;\n",
       "    }\n",
       "\n",
       "    .dataframe thead th {\n",
       "        text-align: right;\n",
       "    }\n",
       "</style>\n",
       "<table border=\"1\" class=\"dataframe\">\n",
       "  <thead>\n",
       "    <tr style=\"text-align: right;\">\n",
       "      <th></th>\n",
       "      <th>title</th>\n",
       "      <th>text</th>\n",
       "      <th>date</th>\n",
       "      <th>section</th>\n",
       "      <th>votes</th>\n",
       "      <th>views</th>\n",
       "      <th>bookmarks</th>\n",
       "      <th>comments</th>\n",
       "    </tr>\n",
       "  </thead>\n",
       "  <tbody>\n",
       "    <tr>\n",
       "      <td>0</td>\n",
       "      <td>Как сервис по подбору психологов Alter из агре...</td>\n",
       "      <td>Раньше Alter работал в формате агрегатора: кл...</td>\n",
       "      <td>16:51</td>\n",
       "      <td>\\n                    Сервисы</td>\n",
       "      <td>33.0</td>\n",
       "      <td>3573</td>\n",
       "      <td>126.0</td>\n",
       "      <td>~#Скайенг с психологами по скайпу! Срочно под...</td>\n",
       "    </tr>\n",
       "    <tr>\n",
       "      <td>1</td>\n",
       "      <td>NaN</td>\n",
       "      <td>None</td>\n",
       "      <td>None</td>\n",
       "      <td>None</td>\n",
       "      <td>NaN</td>\n",
       "      <td>None</td>\n",
       "      <td>NaN</td>\n",
       "      <td>None</td>\n",
       "    </tr>\n",
       "  </tbody>\n",
       "</table>\n",
       "</div>"
      ],
      "text/plain": [
       "                                               title  \\\n",
       "0  Как сервис по подбору психологов Alter из агре...   \n",
       "1                                                NaN   \n",
       "\n",
       "                                                text   date  \\\n",
       "0   Раньше Alter работал в формате агрегатора: кл...  16:51   \n",
       "1                                               None   None   \n",
       "\n",
       "                                         section  votes views  bookmarks  \\\n",
       "0  \\n                    Сервисы                   33.0  3573      126.0   \n",
       "1                                           None    NaN  None        NaN   \n",
       "\n",
       "                                            comments  \n",
       "0   ~#Скайенг с психологами по скайпу! Срочно под...  \n",
       "1                                               None  "
      ]
     },
     "execution_count": 114,
     "metadata": {},
     "output_type": "execute_result"
    }
   ],
   "source": [
    "df"
   ]
  },
  {
   "cell_type": "code",
   "execution_count": 0,
   "metadata": {
    "colab": {},
    "colab_type": "code",
    "id": "506KuFdx17Ps"
   },
   "outputs": [],
   "source": [
    "i = 239400\n",
    "for j in range(239500, 351001, 100):\n",
    "    from multiprocessing import Pool\n",
    "    with Pool(100) as p:\n",
    "        b = p.map(document, np.arange(i, j))\n",
    "    try:\n",
    "        df = pd.DataFrame(b, columns=['title', 'text', 'date', 'hubs', 'tags', 'votes', 'views', 'bookmarks', 'comments'])\n",
    "        df.to_feather(str(i) + \"-\" + str(j) + '.feather')\n",
    "        from google.colab import files\n",
    "        files.download(str(i) + \"-\" + str(j) + '.feather')\n",
    "        print('done', i, j)\n",
    "    except:\n",
    "        print('ooops')\n",
    "    i += 100"
   ]
  },
  {
   "cell_type": "code",
   "execution_count": 0,
   "metadata": {
    "colab": {},
    "colab_type": "code",
    "id": "6r0ilDlG1Yyl"
   },
   "outputs": [],
   "source": [
    "df.to_csv('vcru.csv')\n",
    "from google.colab import drive\n",
    "drive.mount('/content/drive')\n",
    "\n",
    "from google.colab import files\n",
    "files.download('vcru.csv')"
   ]
  }
 ],
 "metadata": {
  "colab": {
   "collapsed_sections": [],
   "name": "vc.ipynb",
   "provenance": []
  },
  "kernelspec": {
   "display_name": "Python 3",
   "language": "python",
   "name": "python3"
  },
  "language_info": {
   "codemirror_mode": {
    "name": "ipython",
    "version": 3
   },
   "file_extension": ".py",
   "mimetype": "text/x-python",
   "name": "python",
   "nbconvert_exporter": "python",
   "pygments_lexer": "ipython3",
   "version": "3.7.4"
  }
 },
 "nbformat": 4,
 "nbformat_minor": 1
}
