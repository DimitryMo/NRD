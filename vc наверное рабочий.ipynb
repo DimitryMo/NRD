{
 "cells": [
  {
   "cell_type": "code",
   "execution_count": 1,
   "metadata": {
    "colab": {},
    "colab_type": "code",
    "id": "2K4pFE7zkajG"
   },
   "outputs": [],
   "source": [
    "from bs4 import BeautifulSoup\n",
    "import requests\n",
    "import pandas as pd\n",
    "import numpy as np\n",
    "import re"
   ]
  },
  {
   "cell_type": "code",
   "execution_count": 2,
   "metadata": {
    "colab": {},
    "colab_type": "code",
    "id": "-YCd0MCl1YyG"
   },
   "outputs": [],
   "source": [
    "def cleanhtml(raw_html):\n",
    "  cleanr = re.compile('<.*?>')\n",
    "  cleantext = re.sub(cleanr, '', raw_html)\n",
    "  regex = re.compile('[^A-Za-zА-Яа-я]')\n",
    "  cleantext = regex.sub(' ', cleantext)\n",
    "  return cleantext"
   ]
  },
  {
   "cell_type": "code",
   "execution_count": 30,
   "metadata": {
    "colab": {},
    "colab_type": "code",
    "id": "Yp4SkBeEngT1"
   },
   "outputs": [],
   "source": [
    "##вроде работает для этого класса, но делает лист с листами\n",
    "def text(url):\n",
    "    page = requests.get('https://vc.ru/' + str(url))\n",
    "    soup = BeautifulSoup(page.text, 'html5lib')\n",
    "    text = ''\n",
    "    for item in soup.find_all('div',  class_=\"layout--с block-html\"):\n",
    "        text += item.text\n",
    "    return text"
   ]
  },
  {
   "cell_type": "code",
   "execution_count": 12,
   "metadata": {
    "colab": {},
    "colab_type": "code",
    "id": "ELd4rD2q1YyW"
   },
   "outputs": [],
   "source": [
    "def document(id):\n",
    "    page = requests.get('https://vc.ru/' + str(id) )\n",
    "    soup = BeautifulSoup(page.text, 'html5lib')\n",
    "    info = []\n",
    "    text =[]\n",
    "    lol = []\n",
    "    if soup.find(\"h1\", class_=\"content-header__title\") and 'Вакансия' not in soup.find('title').text:\n",
    "        #titledone\n",
    "        info.append(soup.find(\"h1\", class_=\"content-header__title\").text.strip())\n",
    "        #text\n",
    "        text = ' '\n",
    "        for i in soup.find_all('div',  class_=\"layout--с block-html\"):\n",
    "            text += i.text.strip()\n",
    "        if soup.find_all('div', class_=\"content content--full\"):\n",
    "            text += soup.find_all('div', class_=\"content content--full\")[0].find('div', class_=\"layout--a\").text.strip()\n",
    "        for i in soup.find_all(\"li\"):\n",
    "            text += i.text\n",
    "        info.append(text)\n",
    "        #yeardone\n",
    "        b = soup.find(\"time\", class_= \"time\").text.split()\n",
    "        c = b[1]\n",
    "        d = b[2]\n",
    "        if c == 'янв':\n",
    "            a = d + \"-\" +'01'\n",
    "            info.append(a)\n",
    "        elif c == 'фев':\n",
    "            a = d + \"-\" +'02'\n",
    "            info.append(a)\n",
    "        elif c == 'мар':\n",
    "            a = d + \"-\" +'03'\n",
    "            info.append(a)\n",
    "        elif c == 'апр':\n",
    "            a = d + \"-\" +'04'\n",
    "            info.append(a)\n",
    "        elif c == 'мая':\n",
    "            a = d + \"-\" +'05'\n",
    "            info.append(a)\n",
    "        elif c == 'июн':\n",
    "            a = d + \"-\" +'06'\n",
    "            info.append(a)\n",
    "        elif c == 'июл':\n",
    "            a = d + \"-\" +'07'\n",
    "            info.append(a)\n",
    "        elif c == 'авг':\n",
    "            a = d + \"-\" +'08'\n",
    "            info.append(a)\n",
    "        elif c == 'сен':\n",
    "            a = d + \"-\" +'09'\n",
    "            info.append(a)\n",
    "        elif c == 'окт':\n",
    "            a = d + \"-\" +'10'\n",
    "            info.append(a)\n",
    "        elif c == 'ноя':\n",
    "            a = d + \"-\" +'11'\n",
    "            info.append(a)\n",
    "        else:\n",
    "            a = d + \"-\" +'12'\n",
    "            info.append(a)\n",
    "        #sectiondone\n",
    "        info.append(soup.find(\"div\", class_=\n",
    "                              \"content-header-author__name\").text.strip())\n",
    "        #votesdone\n",
    "        a = soup.find(\"span\", class_=\"vote__value__v vote__value__v--real\").text\n",
    "        if a[0] == '–':\n",
    "            b = int(a[1:])\n",
    "            info.append(-b)\n",
    "        elif a == '—':\n",
    "            info.append(0)\n",
    "        else:\n",
    "            info.append(int(a))\n",
    "        #viewsdone\n",
    "        info.append(soup.find(\"span\", class_=\"views__value\").text.replace(u'\\xa0', u''))\n",
    "        #bookmarksdone\n",
    "        if soup.find('div',\n",
    "                        class_=\"favorite_marker favorite_marker--type-content favorite_marker--non_zero\"):\n",
    "            info.append(int(soup.find('div',\n",
    "                        class_=\"favorite_marker favorite_marker--type-content favorite_marker--non_zero\").text.split()[0]))\n",
    "        else:\n",
    "            info.append(0)\n",
    "        #commentsdone\n",
    "        comment1 = soup.find_all(\"div\", class_=\"comments__item__text\")\n",
    "        comments = ' '\n",
    "        for i in range(len(comment1)):\n",
    "            if comment1[i].text != 'Комментарий удален':\n",
    "                comments += '~#' + comment1[i].text\n",
    "        info.append(comments)\n",
    "    else:\n",
    "        info.append('NaN')\n",
    "    print(id)\n",
    "    return info"
   ]
  },
  {
   "cell_type": "code",
   "execution_count": 111,
   "metadata": {
    "colab": {},
    "colab_type": "code",
    "id": "ee5DzWi4_PKo"
   },
   "outputs": [],
   "source": [
    "from multiprocessing import Pool\n",
    "with Pool(100) as p:\n",
    "    a = p.map(document, np.arange(100000,100101))"
   ]
  },
  {
   "cell_type": "code",
   "execution_count": 113,
   "metadata": {
    "colab": {},
    "colab_type": "code",
    "id": "vkItn0BJ36EG"
   },
   "outputs": [
    {
     "name": "stdout",
     "output_type": "stream",
     "text": [
      "110342\n",
      "110343\n"
     ]
    }
   ],
   "source": [
    "df = pd.DataFrame(a, columns=['title', 'text', 'date', 'section', 'votes', 'views', 'bookmarks', 'comments'])"
   ]
  },
  {
   "cell_type": "code",
   "execution_count": null,
   "metadata": {
    "colab": {},
    "colab_type": "code",
    "id": "506KuFdx17Ps",
    "scrolled": true
   },
   "outputs": [
    {
     "name": "stdout",
     "output_type": "stream",
     "text": [
      "4746\n",
      "4747\n",
      "4748\n",
      "4749\n",
      "4750\n",
      "4751\n",
      "4752\n",
      "4753\n",
      "4754\n",
      "4755\n",
      "4756\n",
      "4757\n",
      "4758\n",
      "4759\n",
      "4760\n",
      "4761\n",
      "4762\n",
      "4763\n",
      "4764\n",
      "4765\n",
      "4766\n",
      "4767\n",
      "4768\n",
      "4769\n",
      "4770\n",
      "4771\n",
      "4772\n",
      "4773\n",
      "4774\n",
      "4775\n",
      "4776\n",
      "4777\n",
      "4778\n",
      "4779\n",
      "4780\n",
      "4781\n",
      "4782\n",
      "4783\n",
      "4784\n",
      "4785\n",
      "4786\n",
      "4787\n",
      "4788\n",
      "4789\n",
      "4790\n",
      "4791\n",
      "4792\n",
      "4793\n",
      "4794\n",
      "4795\n",
      "4796\n",
      "4797\n",
      "4798\n",
      "4799\n",
      "4800\n",
      "4801\n",
      "4802\n",
      "4803\n",
      "4804\n",
      "4805\n",
      "4806\n",
      "4807\n",
      "4808\n",
      "4809\n",
      "4810\n",
      "4811\n",
      "4812\n",
      "4813\n",
      "4814\n",
      "4815\n",
      "4816\n",
      "4817\n",
      "4818\n",
      "4819\n",
      "4820\n",
      "4821\n",
      "4822\n",
      "4823\n",
      "4824\n",
      "4825\n",
      "4826\n",
      "4827\n",
      "4828\n",
      "4829\n",
      "4830\n",
      "4831\n",
      "4832\n",
      "4833\n",
      "4834\n",
      "4835\n",
      "4836\n",
      "4837\n",
      "4838\n",
      "4839\n",
      "4840\n",
      "4841\n",
      "4842\n",
      "4843\n",
      "4844\n",
      "4845\n",
      "4846\n",
      "4847\n",
      "4848\n",
      "4849\n",
      "4850\n",
      "4851\n",
      "4852\n",
      "4853\n",
      "4854\n",
      "4855\n",
      "4856\n",
      "4857\n",
      "4858\n",
      "4859\n",
      "4860\n",
      "4861\n",
      "4862\n",
      "4863\n",
      "4864\n",
      "4865\n",
      "4866\n",
      "4867\n",
      "4868\n",
      "4869\n",
      "4870\n",
      "4871\n",
      "4872\n",
      "4873\n",
      "4874\n",
      "4875\n",
      "4876\n",
      "4877\n",
      "4878\n",
      "4879\n"
     ]
    }
   ],
   "source": [
    "i = 4746\n",
    "for j in range(4846, 56846, 100):\n",
    "    try:\n",
    "        b = list(map(document, np.arange(i, j)))\n",
    "        df = pd.DataFrame(b, columns=['title', 'text', 'date', 'section', 'votes', 'views', 'bookmarks', 'comments'])\n",
    "        df.to_feather('vc_' + str(i) + \"-\" + str(j) + '.feather')\n",
    "    except:\n",
    "        get(i, j)\n",
    "    i += 100"
   ]
  },
  {
   "cell_type": "code",
   "execution_count": 18,
   "metadata": {},
   "outputs": [],
   "source": [
    "def get(i, j):\n",
    "    try:\n",
    "        b = list(map(document, np.arange(i, j)))\n",
    "        df = pd.DataFrame(b, columns=['title', 'text', 'date', 'section', 'votes', 'views', 'bookmarks', 'comments'])\n",
    "        df.to_feather('vc_' + str(i) + \"-\" + str(j) + '.feather')\n",
    "    except:\n",
    "        get(i, j)"
   ]
  },
  {
   "cell_type": "code",
   "execution_count": 8,
   "metadata": {},
   "outputs": [
    {
     "name": "stdout",
     "output_type": "stream",
     "text": [
      "2945\n"
     ]
    },
    {
     "data": {
      "text/plain": [
       "8"
      ]
     },
     "execution_count": 8,
     "metadata": {},
     "output_type": "execute_result"
    }
   ],
   "source": [
    "len(document(2945))"
   ]
  },
  {
   "cell_type": "code",
   "execution_count": 0,
   "metadata": {
    "colab": {},
    "colab_type": "code",
    "id": "6r0ilDlG1Yyl"
   },
   "outputs": [],
   "source": [
    "df.to_csv('vcru.csv')\n",
    "from google.colab import drive\n",
    "drive.mount('/content/drive')\n",
    "\n",
    "from google.colab import files\n",
    "files.download('vcru.csv')"
   ]
  }
 ],
 "metadata": {
  "colab": {
   "collapsed_sections": [],
   "name": "vc.ipynb",
   "provenance": []
  },
  "kernelspec": {
   "display_name": "Python 3",
   "language": "python",
   "name": "python3"
  },
  "language_info": {
   "codemirror_mode": {
    "name": "ipython",
    "version": 3
   },
   "file_extension": ".py",
   "mimetype": "text/x-python",
   "name": "python",
   "nbconvert_exporter": "python",
   "pygments_lexer": "ipython3",
   "version": "3.7.4"
  }
 },
 "nbformat": 4,
 "nbformat_minor": 1
}
