{
 "cells": [
  {
   "cell_type": "code",
   "execution_count": 1,
   "metadata": {},
   "outputs": [],
   "source": [
    "from bs4 import BeautifulSoup\n",
    "import requests\n",
    "import pandas as pd\n",
    "import numpy as np\n",
    "import re"
   ]
  },
  {
   "cell_type": "code",
   "execution_count": 2,
   "metadata": {},
   "outputs": [],
   "source": [
    "def cleanhtml(raw_html):\n",
    "  cleanr = re.compile('<.*?>')\n",
    "  cleantext = re.sub(cleanr, '', raw_html)\n",
    "  regex = re.compile('[^A-Za-zА-Яа-я]')\n",
    "  cleantext = regex.sub(' ', cleantext)\n",
    "  return cleantext"
   ]
  },
  {
   "cell_type": "code",
   "execution_count": 3,
   "metadata": {},
   "outputs": [],
   "source": [
    "def isvotes(tag):\n",
    "    return tag.has_attr('class') and tag.has_attr('onclick') and not tag.has_attr('href') and not tag.has_attr('type')"
   ]
  },
  {
   "cell_type": "code",
   "execution_count": 151,
   "metadata": {},
   "outputs": [],
   "source": [
    "def document(id):\n",
    "    page = requests.get('https://habr.com/ru/post/' + str(id) + '/')\n",
    "    soup = BeautifulSoup(page.text, 'html5lib')\n",
    "    info = []\n",
    "    if soup.find(\"span\", class_= \"post__title-text\"):\n",
    "        #title\n",
    "        info.append(soup.find(\"span\", class_= \"post__title-text\").text)\n",
    "        #text\n",
    "        text = soup.find(\"div\", class_=\"post__text post__text-html\").text\n",
    "        info.append(cleanhtml(text))\n",
    "        #date\n",
    "        b = soup.find(\"span\", class_= \"post__time\")\n",
    "        c = b.text.split()[1]\n",
    "        d = b.text.split()[2]\n",
    "        if c == 'января':\n",
    "            a = d + \"-\" +'01'\n",
    "            info.append(a)\n",
    "        elif c == 'ферваля':\n",
    "            a = d + \"-\" +'02'\n",
    "            info.append(a)\n",
    "        elif c == 'марта':\n",
    "            a = d + \"-\" +'03'\n",
    "            info.append(a)\n",
    "        elif c == 'апреля':\n",
    "            a = d + \"-\" +'04'\n",
    "            info.append(a)\n",
    "        elif c == 'мая':\n",
    "            a = d + \"-\" +'05'\n",
    "            info.append(a)\n",
    "        elif c == 'июня':\n",
    "            a = d + \"-\" +'06'\n",
    "            info.append(a)\n",
    "        elif c == 'июля':\n",
    "            a = d + \"-\" +'07'\n",
    "            info.append(a)\n",
    "        elif c == 'августа':\n",
    "            a = d + \"-\" +'08'\n",
    "            info.append(a)\n",
    "        elif c == 'сентября':\n",
    "            a = d + \"-\" +'09'\n",
    "            info.append(a)\n",
    "        elif c == 'октября':\n",
    "            a = d + \"-\" +'10'\n",
    "            info.append(a)\n",
    "        elif c == 'ноября':\n",
    "            a = d + \"-\" +'11'\n",
    "            info.append(a)\n",
    "        else:\n",
    "            a = d + \"-\" +'12'\n",
    "            info.append(a)\n",
    "        #hubs\n",
    "        tagsshit = soup.find_all(\"a\", class_=\"inline-list__item-link hub-link\")\n",
    "        hubs = ''\n",
    "        for i in range(len(tagsshit)):\n",
    "            hubs += tagsshit[i].text + ' '\n",
    "        info.append(hubs)\n",
    "        #tags\n",
    "        tags = ''\n",
    "        for tag in soup.find_all('li', class_= \"inline-list__item inline-list__item_tag\"):\n",
    "            tags += tag.text + ' '\n",
    "        info.append(tags)\n",
    "        #votes\n",
    "        a = soup.find(isvotes).text\n",
    "        if a[0] == '–':\n",
    "            b = int(a[1:])\n",
    "            info.append(-b)\n",
    "        else:\n",
    "            info.append(int(a))\n",
    "        #views\n",
    "        a = soup.find(\"div\", class_=\"post-stats__views\").text.strip()\n",
    "        if 'k' in a:\n",
    "            views = float(a[:-1].replace(',', '.')) * 1000\n",
    "        else:\n",
    "            views = int(a)\n",
    "        info.append(views)\n",
    "        #bookmarks\n",
    "        info.append(int(soup.find(\"span\", class_=\"bookmark__counter js-favs_count\").text))\n",
    "        #comments\n",
    "        cauthor = soup.find_all('span', class_=\"user-info__nickname user-info__nickname_small user-info__nickname_comment\")\n",
    "        author = soup.find('span', class_=\"user-info__nickname user-info__nickname_small\").text\n",
    "        allcauthors = [i.text.split() for i in cauthor]\n",
    "        comment1 = soup.find_all(\"div\", class_=\"comment__message\")\n",
    "        comments = [i.text for i in comment1]\n",
    "        commentss = []\n",
    "        for i in range(len(comments)):\n",
    "            if comments[i] != 'НЛО прилетело и опубликовало эту надпись здесь':\n",
    "                commentss.append(comments[i])\n",
    "        commentsitog = ''\n",
    "        for i in range(len(commentss)):\n",
    "            if allcauthors[i][0] == author:\n",
    "                commentsitog += commentss[i] + '~#'\n",
    "        info.append(commentsitog)\n",
    "    else:\n",
    "        info.append('NaN')\n",
    "    print(id)\n",
    "    return info"
   ]
  },
  {
   "cell_type": "code",
   "execution_count": null,
   "metadata": {},
   "outputs": [],
   "source": [
    "from multiprocessing import Pool\n",
    "with Pool(100) as p:\n",
    "    b = p.map(document, np.arange(206668, 489000))"
   ]
  },
  {
   "cell_type": "code",
   "execution_count": 167,
   "metadata": {},
   "outputs": [],
   "source": [
    "df = pd.DataFrame(b, columns=['title', 'text', 'date', 'hubs', 'tags', 'votes', 'views', 'bookmarks', 'comments'])"
   ]
  },
  {
   "cell_type": "code",
   "execution_count": 161,
   "metadata": {},
   "outputs": [],
   "source": [
    "df.to_csv('habr.csv')"
   ]
  },
  {
   "cell_type": "code",
   "execution_count": 162,
   "metadata": {},
   "outputs": [],
   "source": [
    "df = pd.read_csv('habr.csv')"
   ]
  },
  {
   "cell_type": "markdown",
   "metadata": {},
   "source": [
    "Если качаешь с колаба:"
   ]
  },
  {
   "cell_type": "code",
   "execution_count": null,
   "metadata": {},
   "outputs": [],
   "source": [
    "df.to_csv('habr.csv')\n",
    "from google.colab import files\n",
    "files.download('habr.csv')`"
   ]
  }
 ],
 "metadata": {
  "kernelspec": {
   "display_name": "Python 3",
   "language": "python",
   "name": "python3"
  },
  "language_info": {
   "codemirror_mode": {
    "name": "ipython",
    "version": 3
   },
   "file_extension": ".py",
   "mimetype": "text/x-python",
   "name": "python",
   "nbconvert_exporter": "python",
   "pygments_lexer": "ipython3",
   "version": "3.7.4"
  }
 },
 "nbformat": 4,
 "nbformat_minor": 2
}
