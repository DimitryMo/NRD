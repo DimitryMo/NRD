{
 "cells": [
  {
   "cell_type": "code",
   "execution_count": 1,
   "metadata": {
    "colab": {},
    "colab_type": "code",
    "id": "FYjVe2yonBfE"
   },
   "outputs": [],
   "source": [
    "from bs4 import BeautifulSoup\n",
    "import requests\n",
    "import pandas as pd\n",
    "import numpy as np\n",
    "import re"
   ]
  },
  {
   "cell_type": "code",
   "execution_count": 2,
   "metadata": {
    "colab": {},
    "colab_type": "code",
    "id": "FYjVe2yonBfE"
   },
   "outputs": [],
   "source": [
    "def cleanhtml(raw_html):\n",
    "  cleanr = re.compile('<.*?>')\n",
    "  cleantext = re.sub(cleanr, '', raw_html)\n",
    "  regex = re.compile('[^A-Za-zА-Яа-я]')\n",
    "  cleantext = regex.sub(' ', cleantext)\n",
    "  return cleantext"
   ]
  },
  {
   "cell_type": "code",
   "execution_count": 3,
   "metadata": {
    "colab": {},
    "colab_type": "code",
    "id": "FYjVe2yonBfE"
   },
   "outputs": [],
   "source": [
    "def isvotes(tag):\n",
    "    return tag.has_attr('class') and tag.has_attr('onclick') and not tag.has_attr('href') and not tag.has_attr('type')"
   ]
  },
  {
   "cell_type": "code",
   "execution_count": 35,
   "metadata": {
    "colab": {},
    "colab_type": "code",
    "id": "FYjVe2yonBfE"
   },
   "outputs": [],
   "source": [
    "def document(id):\n",
    "    page = requests.get('https://habr.com/ru/post/' + str(id) + '/')\n",
    "    try:\n",
    "        soup = BeautifulSoup(page.text, 'html5lib')\n",
    "        info = []\n",
    "        if soup.find(\"span\", class_= \"post__title-text\"):\n",
    "            #id\n",
    "            info.append(id)\n",
    "            #title\n",
    "            info.append(soup.find(\"span\", class_= \"post__title-text\").text)\n",
    "            #text\n",
    "            text = soup.find(\"div\", class_=\"post__text post__text-html post__text_v1\").text\n",
    "            info.append(cleanhtml(text))\n",
    "            #date\n",
    "            b = soup.find(\"span\", class_= \"post__time\")\n",
    "            c = b.text.split()[1]\n",
    "            d = b.text.split()[2]\n",
    "            if c == 'января':\n",
    "                a = d + \"-\" +'01'\n",
    "                info.append(a)\n",
    "            elif c == 'ферваля':\n",
    "                a = d + \"-\" +'02'\n",
    "                info.append(a)\n",
    "            elif c == 'марта':\n",
    "                a = d + \"-\" +'03'\n",
    "                info.append(a)\n",
    "            elif c == 'апреля':\n",
    "                a = d + \"-\" +'04'\n",
    "                info.append(a)\n",
    "            elif c == 'мая':\n",
    "                a = d + \"-\" +'05'\n",
    "                info.append(a)\n",
    "            elif c == 'июня':\n",
    "                a = d + \"-\" +'06'\n",
    "                info.append(a)\n",
    "            elif c == 'июля':\n",
    "                a = d + \"-\" +'07'\n",
    "                info.append(a)\n",
    "            elif c == 'августа':\n",
    "                a = d + \"-\" +'08'\n",
    "                info.append(a)\n",
    "            elif c == 'сентября':\n",
    "                a = d + \"-\" +'09'\n",
    "                info.append(a)\n",
    "            elif c == 'октября':\n",
    "                a = d + \"-\" +'10'\n",
    "                info.append(a)\n",
    "            elif c == 'ноября':\n",
    "                a = d + \"-\" +'11'\n",
    "                info.append(a)\n",
    "            else:\n",
    "                a = d + \"-\" +'12'\n",
    "                info.append(a)\n",
    "            #hubs\n",
    "            tagsshit = soup.find_all(\"a\", class_=\"inline-list__item-link hub-link\")\n",
    "            hubs = ''\n",
    "            for i in range(len(tagsshit)):\n",
    "                hubs += tagsshit[i].text + ' '\n",
    "            info.append(hubs)\n",
    "            #tags\n",
    "            tags = ''\n",
    "            for tag in soup.find_all('li', class_= \"inline-list__item inline-list__item_tag\"):\n",
    "                tags += tag.text + ' '\n",
    "            info.append(tags)\n",
    "            #votes\n",
    "            a = soup.find(isvotes).text\n",
    "            if a[0] == '–':\n",
    "                b = int(a[1:])\n",
    "                info.append(-b)\n",
    "            else:\n",
    "                info.append(int(a))\n",
    "            #views\n",
    "            a = soup.find(\"div\", class_=\"post-stats__views\").text.strip()\n",
    "            if 'k' in a:\n",
    "                views = float(a[:-1].replace(',', '.')) * 1000\n",
    "            else:\n",
    "                views = int(a)\n",
    "            info.append(views)\n",
    "            #bookmarks\n",
    "            info.append(int(soup.find(\"span\", class_=\"bookmark__counter js-favs_count\").text))\n",
    "            #comments\n",
    "            cauthor = soup.find_all('span', class_=\"user-info__nickname user-info__nickname_small user-info__nickname_comment\")\n",
    "            author = soup.find('span', class_=\"user-info__nickname user-info__nickname_small\").text\n",
    "            allcauthors = [i.text.split() for i in cauthor]\n",
    "            comment1 = soup.find_all(\"div\", class_=\"comment__message\")\n",
    "            comments = [i.text for i in comment1]\n",
    "            commentss = []\n",
    "            for i in range(len(comments)):\n",
    "                if comments[i] != 'НЛО прилетело и опубликовало эту надпись здесь':\n",
    "                    commentss.append(comments[i])\n",
    "            commentsitog = ''\n",
    "            for i in range(len(commentss)):\n",
    "                if allcauthors[i][0] != author:\n",
    "                    commentsitog += commentss[i] + '~#'\n",
    "            info.append(commentsitog)\n",
    "        else:\n",
    "            info.append('NaN')\n",
    "    except:\n",
    "            if page.status_code != 200:\n",
    "                document(id)\n",
    "    print(id)\n",
    "    return info"
   ]
  },
  {
   "cell_type": "markdown",
   "metadata": {},
   "source": [
    "### Функция для скачивания:"
   ]
  },
  {
   "cell_type": "code",
   "execution_count": 22,
   "metadata": {
    "colab": {},
    "colab_type": "code",
    "id": "FYjVe2yonBfE"
   },
   "outputs": [],
   "source": [
    "i = 'your number one'\n",
    "for j in range('your number one + 100', 'your nubmer two', 100):\n",
    "    b = map(document, np.arange(i, j))\n",
    "    df = pd.DataFrame(b, columns=['id', 'title', 'text', 'date', 'hubs', 'tags', 'votes', 'views', 'bookmarks', 'comments'])\n",
    "    df.to_feather('habr' + str(i) + \"-\" + str(j) + '.feather') \n",
    "    print('done', i, j)\n",
    "    i += 100"
   ]
  },
  {
   "cell_type": "markdown",
   "metadata": {},
   "source": [
    "### Функция для объединения:"
   ]
  },
  {
   "cell_type": "code",
   "execution_count": null,
   "metadata": {},
   "outputs": [],
   "source": [
    "allhabr = pd.DataFrame(columns=['id', 'title', 'text', 'date', 'hubs', 'tags', 'votes', 'views', 'bookmarks', 'comments'])\n",
    "i = #your number\n",
    "for j in range('your number', 'your number', 100):\n",
    "    new = pd.read_feather(str(i) + \"-\" + str(j) + '.feather')\n",
    "    allhabr = allhabr.append(new, ignore_index=True)\n",
    "    print('OK')\n",
    "    i += 100"
   ]
  },
  {
   "cell_type": "markdown",
   "metadata": {},
   "source": [
    "### Тест:"
   ]
  },
  {
   "cell_type": "code",
   "execution_count": 36,
   "metadata": {},
   "outputs": [
    {
     "name": "stdout",
     "output_type": "stream",
     "text": [
      "493852\n"
     ]
    }
   ],
   "source": [
    "df = pd.DataFrame([document(493852)],columns=['id', 'title', 'text', 'date', 'hubs', 'tags', 'votes', 'views', 'bookmarks', 'comments'])"
   ]
  },
  {
   "cell_type": "markdown",
   "metadata": {},
   "source": [
    "### Номера статей:"
   ]
  },
  {
   "cell_type": "code",
   "execution_count": 50,
   "metadata": {},
   "outputs": [
    {
     "name": "stdout",
     "output_type": "stream",
     "text": [
      "Саша, your number 1: 207900 your number 2: 262801\n",
      "Misha, your number 1: 262800 your number 2: 317701\n",
      "Dasha, your number 1: 317700 your number 2: 372601\n",
      "Anton, your number 1: 372600 your number 2: 427501\n",
      "Dima, your number 1: 427500 your number 2: 482401\n"
     ]
    }
   ],
   "source": [
    "cnt = 207900\n",
    "for i in ['Саша', 'Misha', 'Dasha', 'Anton', 'Dima']:\n",
    "    print(i +',', 'your number 1:', str(cnt),'your number 2:', (cnt + a + 81))\n",
    "    cnt += a + 80"
   ]
  }
 ],
 "metadata": {
  "colab": {
   "collapsed_sections": [],
   "name": "Download_Habr.ipynb",
   "provenance": []
  },
  "kernelspec": {
   "display_name": "Python 3",
   "language": "python",
   "name": "python3"
  },
  "language_info": {
   "codemirror_mode": {
    "name": "ipython",
    "version": 3
   },
   "file_extension": ".py",
   "mimetype": "text/x-python",
   "name": "python",
   "nbconvert_exporter": "python",
   "pygments_lexer": "ipython3",
   "version": "3.7.4"
  }
 },
 "nbformat": 4,
 "nbformat_minor": 1
}
