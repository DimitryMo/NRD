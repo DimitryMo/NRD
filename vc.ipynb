{
  "nbformat": 4,
  "nbformat_minor": 0,
  "metadata": {
    "colab": {
      "name": "vc.ipynb",
      "provenance": [],
      "collapsed_sections": []
    },
    "kernelspec": {
      "display_name": "Python 3",
      "language": "python",
      "name": "python3"
    },
    "language_info": {
      "codemirror_mode": {
        "name": "ipython",
        "version": 3
      },
      "file_extension": ".py",
      "mimetype": "text/x-python",
      "name": "python",
      "nbconvert_exporter": "python",
      "pygments_lexer": "ipython3",
      "version": "3.7.4"
    }
  },
  "cells": [
    {
      "cell_type": "code",
      "metadata": {
        "colab_type": "code",
        "id": "2K4pFE7zkajG",
        "colab": {}
      },
      "source": [
        "from bs4 import BeautifulSoup\n",
        "import requests\n",
        "import pandas as pd\n",
        "import numpy as np\n",
        "import re"
      ],
      "execution_count": 0,
      "outputs": []
    },
    {
      "cell_type": "code",
      "metadata": {
        "colab_type": "code",
        "id": "-YCd0MCl1YyG",
        "colab": {}
      },
      "source": [
        "def cleanhtml(raw_html):\n",
        "  cleanr = re.compile('<.*?>')\n",
        "  cleantext = re.sub(cleanr, '', raw_html)\n",
        "  regex = re.compile('[^A-Za-zА-Яа-я]')\n",
        "  cleantext = regex.sub(' ', cleantext)\n",
        "  return cleantext"
      ],
      "execution_count": 0,
      "outputs": []
    },
    {
      "cell_type": "code",
      "metadata": {
        "colab_type": "code",
        "id": "EAB9l_bl1YyM",
        "colab": {}
      },
      "source": [
        "def gettext(bad): \n",
        "    mid = []\n",
        "    i = 1\n",
        "    while bad[i].text.split()[0] != 'Материал' and bad[i].text.split()[1] != 'опубликован':\n",
        "        mid.append(bad[i].text)\n",
        "        i += 1\n",
        "        if i > len(mid):\n",
        "            break\n",
        "    good = [j for i in mid for j in i.split()]\n",
        "    return good"
      ],
      "execution_count": 0,
      "outputs": []
    },
    {
      "cell_type": "code",
      "metadata": {
        "id": "cv6Yuetq1YyR",
        "colab_type": "code",
        "colab": {}
      },
      "source": [
        "def getli(li):\n",
        "    mid = []\n",
        "    "
      ],
      "execution_count": 0,
      "outputs": []
    },
    {
      "cell_type": "code",
      "metadata": {
        "id": "Fdiw9SpxUohI",
        "colab_type": "code",
        "colab": {
          "base_uri": "https://localhost:8080/",
          "height": 1000
        },
        "outputId": "bb8b614d-1bdb-4695-e68a-2c314bf5d3e8"
      },
      "source": [
        "page = requests.get('https://vc.ru/6832')\n",
        "soup = BeautifulSoup(page.text, 'html5lib')\n",
        "info = []\n",
        "text = []\n",
        "comment1 = soup.find_all(\"div\", class_=\"comments__item__text\")\n",
        "comments = []\n",
        "for i in range(len(comment1)):\n",
        "  if comment1[i].text != 'Комментарий удален':\n",
        "    comments.append(comment1[i].text.split())\n",
        "    info.append(comments)\n",
        "len(info)"
      ],
      "execution_count": 143,
      "outputs": [
        {
          "output_type": "stream",
          "text": [
            "<div class=\"comments__item__text\"><p>Слать такую куда подальше. Настоящая женщина поддержит своего мужчину в любых начинаниях, пусть и глупых. Ведь он ей вернет все с полна, когда добьется успеха, так как благодаря её поддержки он это сделает.</p></div>\n",
            "<div class=\"comments__item__text\"><p>Ну-ну)))) Вернёт, конечно)))</p></div>\n",
            "<div class=\"comments__item__text\"><p>Если не вернет — не мужик и тогда ему это обернется крахом бизнеса. Проверено.</p></div>\n",
            "<div class=\"comments__item__text\"><p>Уже вижу как возвращает))))</p></div>\n",
            "<div class=\"comments__item__text\"><p>Беня Крик всё рассказал уже, можно даже комменты закрывать.</p></div>\n",
            "<div class=\"comments__item__text\"><p>С маленькой поправкой. С какого момента парень становится \"своим мужчиной\"?<br/>\n",
            "Поддерживать любимого мужа и замечательного отца своих детей - это одно.<br/>\n",
            "А парня, с которым 2 месяца встречается, и с которым отношений толком еще не сложилось, уже сложнее.</p></div>\n",
            "<div class=\"comments__item__text\"><p>Как только вы договоритесь:</p><p>\n",
            "1. О стратегически важных ценностях в жизни;</p><p>\n",
            "2. О разделении обязанностей и ответсвенности;</p><p>\n",
            "3. О планах на ближайшие 15 лет;</p><p>\n",
            "4. О детях.</p></div>\n",
            "<div class=\"comments__item__text\"><p>Вообще в любых? Тогда это баба, а не женщина.</p></div>\n",
            "<div class=\"comments__item__text\"><p>Моя девущка сказала \"Или я или твой стартап\". Я буду иногда скучать по ней.</p></div>\n",
            "<div class=\"comments__item__text\"><p>Если ваша девушка поставит выбор она или стартап, какой коворкинг для своего стартапа вы выберете?</p></div>\n",
            "<div class=\"comments__item__text\"><p>Квартиру девушка оплачивала?</p></div>\n",
            "<div class=\"comments__item__text\"></div>\n",
            "<div class=\"comments__item__text\"><p>На этот вопрос могут быть разные точки зрения и ответы, но сквозящее местами в ответах пренебрежительное отношение к собственным девушкам омерзительно.</p></div>\n",
            "<div class=\"comments__item__text\"><p>Тут всё просто— маленький прибор по жизни, маленький в голове. Как ещё поднять самооценку, кроме как за счёт принижения других? <br/>\n",
            "Или с другой стороны, кто ты такой, если живешь с такой?<br/>\n",
            "Люди предпочитают не думать с этой стороны по понятной причине.</p></div>\n",
            "<div class=\"comments__item__text\"><p>Тоже заметила эту милую особенность в комментах.</p></div>\n",
            "<div class=\"comments__item__text\"><p>Почитать про Николу Теслу.</p></div>\n",
            "<div class=\"comments__item__text\"><p>Вот вот, вместо девушки всегда можно завести голубя)))</p></div>\n",
            "<div class=\"comments__item__text\"><p>Можно еще кота, тоже вариант =)</p></div>\n",
            "<div class=\"comments__item__text\"><p>А можно вкалывать и придумать себе мини-проект для души :)</p></div>\n",
            "<div class=\"comments__item__text\"><p>голубкА?</p></div>\n",
            "<div class=\"comments__item__text\"><p>Ты спросишь меня, что я люблю больше - тебя или стартапы. Я скажу, что стартапы.<br/>\n",
            "Ты уйдешь, так и не узнав, что я хотел сделать пивот.</p></div>\n",
            "<div class=\"comments__item__text\"><p>сейчас куда ни плюнь - в стартапера попадешь</p></div>\n",
            "<div class=\"comments__item__text\"><p>Если девушка такое говорит, то это не девушка, а баба. Два разных термина.</p></div>\n",
            "<div class=\"comments__item__text\"><p>Если дорожишь человеком - примешь его со всеми сложностями, уж тем более с работой сутками. Вопрос всегда в том, насколько ты заинтересован. А ставить ультиматумы бессмысленно</p></div>\n",
            "<div class=\"comments__item__text\"><p>Вообще надо сказать, когда один человек другому ставит такие ультиматумы (независимо от пола), то значит, в отношения что-то не так. Это очевидная попытка продавить партнера, манипуляторская техника.</p></div>\n",
            "<div class=\"comments__item__text\"><p>I lost a lot of money chasing women. But I never lost women chasing money. How real is that?</p></div>\n",
            "<div class=\"comments__item__text\"><p>Предлагаю эпиграф к статье: <br/>\n",
            "-- Холодную водку я уважаю, Теплую водку я тоже люблю. Но ежели водка учебе мешает, Ну ее на фиг учебу мою.</p><p>\n",
            ":)</p></div>\n",
            "<div class=\"comments__item__text\"><p>Что за бред, зачем иметь отношения с кем то, кто ставит тебя перед выбором? До свидания!</p></div>\n",
            "<div class=\"comments__item__text\"><p>когда у меня встал этот вопрос<br/>\n",
            "я выбрал работу/бизнес <br/>\n",
            "и не жалею.</p></div>\n",
            "<div class=\"comments__item__text\"><p>С тех пор вопрос больше не вставал?</p></div>\n",
            "<div class=\"comments__item__text\"><p>Пожалеешь лет через 10, но уже стоять не будет.</p></div>\n",
            "<div class=\"comments__item__text\"><p>Выбор очевиден)</p></div>\n",
            "<div class=\"comments__item__text\"><p>Именно. Более того, стоит еще прилюдно смешать ее с грязью, выставить посмешищем; глядишь и новая идея для бизнеса появится...</p></div>\n",
            "<div class=\"comments__item__text\"><p>Если ты стартапер и у тебя с таким графиком есть девушка, то лучше ценить такую)</p></div>\n",
            "<div class=\"comments__item__text\"><p>Вовлечь девушку в стартап нормальная же тема, чо)</p></div>\n",
            "<div class=\"comments__item__text\"><p>\"You can lead a nice life; you can be a nice guy or you can be a great scientist. But nice guys end last, is what Leo Durocher said. If you want to lead a nice happy life with a lot of recreation and everything else, you'll lead a nice life.\"</p></div>\n",
            "<div class=\"comments__item__text\"><p>Я выдержал целый день, но больше не могу терпеть не задать этот вопрос:</p><p>\n",
            "Wat?</p></div>\n",
            "<div class=\"comments__item__text\"><p>Это цитата из одной длинной лекции. Конкретно этот отрывок - про то, что ты можешь быть либо великим ученым либо классным парнем, внимательным мужем и заботливым отцом. В нашем случае учный=стартапер.</p></div>\n",
            "<div class=\"comments__item__text\"><p>ну, так себе сравнение, если честно)</p></div>\n",
            "<div class=\"comments__item__text\"><p>Сталкивался с этим. Пришлось расстаться, ибо приоритеты такие сложились.</p></div>\n",
            "<div class=\"comments__item__text\"><p>Почитала коменты. Забавно. Люди, которые не способны выстроить отношения с собственной девушкой, человеком изначально наиболее к ним лояльным, думают что легко построят отношения с инвесторами, клиентами, партнёрами и наёмными работниками, создавая стартап.</p></div>\n",
            "<div class=\"comments__item__text\"><p>Что делать, если ваш геморрой ставит перед выбором - либо ваше здоровье, либо стартап?</p></div>\n",
            "<div class=\"comments__item__text\"><p>.</p></div>\n",
            "<div class=\"comments__item__text\"><p>свести с конкурентом — чтобы ставила ультиматумы ему </p><p>\n",
            "Четко</p></div>\n",
            "<div class=\"comments__item__text\"><p>Забейте на такую девушку, заведите или купите себе новую девушку!</p></div>\n"
          ],
          "name": "stdout"
        },
        {
          "output_type": "execute_result",
          "data": {
            "text/plain": [
              "45"
            ]
          },
          "metadata": {
            "tags": []
          },
          "execution_count": 143
        }
      ]
    },
    {
      "cell_type": "code",
      "metadata": {
        "id": "7SKUP_ftWOu9",
        "colab_type": "code",
        "colab": {
          "base_uri": "https://localhost:8080/",
          "height": 35
        },
        "outputId": "46d64392-2f3c-4f2f-cc60-3d4d7a88563b"
      },
      "source": [
        "len(info)"
      ],
      "execution_count": 133,
      "outputs": [
        {
          "output_type": "execute_result",
          "data": {
            "text/plain": [
              "67"
            ]
          },
          "metadata": {
            "tags": []
          },
          "execution_count": 133
        }
      ]
    },
    {
      "cell_type": "markdown",
      "metadata": {
        "id": "iMAgPpQfUJHf",
        "colab_type": "text"
      },
      "source": [
        "Нужно остановить, когда встречает p class=\"comments__item__user__name\">, можно, наверное уже в листе это делать"
      ]
    },
    {
      "cell_type": "code",
      "metadata": {
        "id": "4ll6UwvZIlZH",
        "colab_type": "code",
        "colab": {}
      },
      "source": [
        "page = requests.get('https://vc.ru/87456')\n",
        "soup = BeautifulSoup(page.text, 'html5lib')\n",
        "info = []\n",
        "text = []\n",
        "for item in soup.find_all('div',  class_=\"layout--a\"):\n",
        "    name = item.find_all('p')\n",
        "    text.append(name)\n",
        "text"
      ],
      "execution_count": 0,
      "outputs": []
    },
    {
      "cell_type": "markdown",
      "metadata": {
        "id": "PcvVUEdXQmvB",
        "colab_type": "text"
      },
      "source": [
        "div class=\"layout--с block-html\">\n"
      ]
    },
    {
      "cell_type": "code",
      "metadata": {
        "colab_type": "code",
        "id": "ELd4rD2q1YyW",
        "colab": {}
      },
      "source": [
        "def document(id):\n",
        "    page = requests.get('https://vc.ru/' + str(id) )\n",
        "    soup = BeautifulSoup(page.text, 'html5lib')\n",
        "    info = []\n",
        "    text =[]\n",
        "    if soup.find(\"h1\", class_=\"content-header__title\") and 'Вакансия' not in soup.find('title').text:\n",
        "        #titledone\n",
        "        info.append(soup.find(\"h1\", class_=\"content-header__title\").text.split())\n",
        "        #text\n",
        "        if soup.find_all('p') != None:\n",
        "            bad = soup.find_all('p')\n",
        "            text.append(gettext(bad))\n",
        "        if soup.find_all(\"li\") != None: \n",
        "            text.append([var for i in soup.find_all(\"li\") for var in i.text.split()])\n",
        "        else:\n",
        "            text.append('NaN')\n",
        "        info.append(text)\n",
        "        #yeardone\n",
        "        info.append(soup.find(\"time\", class_= \"time\").text.split()[2])\n",
        "        #sectiondone\n",
        "        info.append(soup.find(\"div\", class_=\n",
        "                              \"content-header-author__name\").text.split())\n",
        "        #votesdone\n",
        "        a = soup.find(\"span\", class_=\"vote__value__v vote__value__v--real\").text\n",
        "        if a[0] == '–':\n",
        "            b = int(a[1:])\n",
        "            info.append(-b)\n",
        "        else:\n",
        "            info.append(int(a))\n",
        "        #viewsdone\n",
        "        info.append(soup.find(\"span\", class_=\"views__value\").text.replace(u'\\xa0', u''))\n",
        "        #bookmarksdone\n",
        "        if soup.find('div',\n",
        "                        class_=\"favorite_marker favorite_marker--type-content favorite_marker--non_zero\"):\n",
        "            info.append(int(soup.find('div',\n",
        "                        class_=\"favorite_marker favorite_marker--type-content favorite_marker--non_zero\").text.split()[0]))\n",
        "        else:\n",
        "            info.append(0)\n",
        "        #commentsdone\n",
        "        comment1 = soup.find_all(\"div\", class_=\"comments__item__text\")\n",
        "        comments = []\n",
        "        for i in range(len(comment1)):\n",
        "        if comment1[i].text != 'Комментарий удален':\n",
        "            comments.append(comment1[i].text.split())\n",
        "            info.append(comments)\n",
        "    else:\n",
        "        info.append('NaN')\n",
        "    print(id)\n",
        "    return info"
      ],
      "execution_count": 0,
      "outputs": []
    },
    {
      "cell_type": "code",
      "metadata": {
        "colab_type": "code",
        "id": "FT0cu7pTkgKi",
        "scrolled": true,
        "colab": {}
      },
      "source": [
        "from multiprocessing import Pool\n",
        "with Pool(100) as p:\n",
        "    a = p.map(document, np.arange(3246,3346))"
      ],
      "execution_count": 0,
      "outputs": []
    },
    {
      "cell_type": "markdown",
      "metadata": {
        "id": "4qHfRncUAlr9",
        "colab_type": "text"
      },
      "source": [
        "##### Материал опубликован редакцией, а не автором"
      ]
    },
    {
      "cell_type": "code",
      "metadata": {
        "id": "ee5DzWi4_PKo",
        "colab_type": "code",
        "colab": {}
      },
      "source": [
        "document(3256)"
      ],
      "execution_count": 0,
      "outputs": []
    },
    {
      "cell_type": "code",
      "metadata": {
        "id": "vkItn0BJ36EG",
        "colab_type": "code",
        "colab": {}
      },
      "source": [
        "df = pd.DataFrame(a[1], columns=['title', 'text', 'date', 'section', 'votes', 'views', 'bookmarks', 'comments'])"
      ],
      "execution_count": 0,
      "outputs": []
    },
    {
      "cell_type": "code",
      "metadata": {
        "id": "1tCW2_9C3lL8",
        "colab_type": "code",
        "colab": {}
      },
      "source": [
        "a[:8]"
      ],
      "execution_count": 0,
      "outputs": []
    },
    {
      "cell_type": "code",
      "metadata": {
        "id": "506KuFdx17Ps",
        "colab_type": "code",
        "colab": {}
      },
      "source": [
        "i = 239400\n",
        "for j in range(239500, 351001, 100):\n",
        "    from multiprocessing import Pool\n",
        "    with Pool(100) as p:\n",
        "        b = p.map(document, np.arange(i, j))\n",
        "    try:\n",
        "        df = pd.DataFrame(b, columns=['title', 'text', 'date', 'hubs', 'tags', 'votes', 'views', 'bookmarks', 'comments'])\n",
        "        df.to_feather(str(i) + \"-\" + str(j) + '.feather')\n",
        "        from google.colab import files\n",
        "        files.download(str(i) + \"-\" + str(j) + '.feather')\n",
        "        print('done', i, j)\n",
        "    except:\n",
        "        print('ooops')\n",
        "    i += 100"
      ],
      "execution_count": 0,
      "outputs": []
    },
    {
      "cell_type": "code",
      "metadata": {
        "id": "gqR_dDtW1Yyg",
        "colab_type": "code",
        "colab": {
          "base_uri": "https://localhost:8080/",
          "height": 381
        },
        "outputId": "12c52249-954f-41b2-d892-1c51f648b178"
      },
      "source": [
        "df = pd.DataFrame(a, columns=['title', 'text', 'year', 'section', 'votes', 'views', 'bookmarks', 'comments'])\n",
        "df.dropna(inplace=True)\n",
        "df"
      ],
      "execution_count": 15,
      "outputs": [
        {
          "output_type": "error",
          "ename": "TypeError",
          "evalue": "ignored",
          "traceback": [
            "\u001b[0;31m---------------------------------------------------------------------------\u001b[0m",
            "\u001b[0;31mTypeError\u001b[0m                                 Traceback (most recent call last)",
            "\u001b[0;32m<ipython-input-15-a02649b96fa9>\u001b[0m in \u001b[0;36m<module>\u001b[0;34m()\u001b[0m\n\u001b[0;32m----> 1\u001b[0;31m \u001b[0mdf\u001b[0m \u001b[0;34m=\u001b[0m \u001b[0mpd\u001b[0m\u001b[0;34m.\u001b[0m\u001b[0mDataFrame\u001b[0m\u001b[0;34m(\u001b[0m\u001b[0ma\u001b[0m\u001b[0;34m,\u001b[0m \u001b[0mcolumns\u001b[0m\u001b[0;34m=\u001b[0m\u001b[0;34m[\u001b[0m\u001b[0;34m'title'\u001b[0m\u001b[0;34m,\u001b[0m \u001b[0;34m'text'\u001b[0m\u001b[0;34m,\u001b[0m \u001b[0;34m'year'\u001b[0m\u001b[0;34m,\u001b[0m \u001b[0;34m'section'\u001b[0m\u001b[0;34m,\u001b[0m \u001b[0;34m'votes'\u001b[0m\u001b[0;34m,\u001b[0m \u001b[0;34m'views'\u001b[0m\u001b[0;34m,\u001b[0m \u001b[0;34m'bookmarks'\u001b[0m\u001b[0;34m,\u001b[0m \u001b[0;34m'comments'\u001b[0m\u001b[0;34m]\u001b[0m\u001b[0;34m)\u001b[0m\u001b[0;34m\u001b[0m\u001b[0;34m\u001b[0m\u001b[0m\n\u001b[0m\u001b[1;32m      2\u001b[0m \u001b[0mdf\u001b[0m\u001b[0;34m.\u001b[0m\u001b[0mdropna\u001b[0m\u001b[0;34m(\u001b[0m\u001b[0minplace\u001b[0m\u001b[0;34m=\u001b[0m\u001b[0;32mTrue\u001b[0m\u001b[0;34m)\u001b[0m\u001b[0;34m\u001b[0m\u001b[0;34m\u001b[0m\u001b[0m\n\u001b[1;32m      3\u001b[0m \u001b[0mdf\u001b[0m\u001b[0;34m\u001b[0m\u001b[0;34m\u001b[0m\u001b[0m\n",
            "\u001b[0;32m/usr/local/lib/python3.6/dist-packages/pandas/core/frame.py\u001b[0m in \u001b[0;36m__init__\u001b[0;34m(self, data, index, columns, dtype, copy)\u001b[0m\n\u001b[1;32m    448\u001b[0m                     \u001b[0;32mif\u001b[0m \u001b[0mis_named_tuple\u001b[0m\u001b[0;34m(\u001b[0m\u001b[0mdata\u001b[0m\u001b[0;34m[\u001b[0m\u001b[0;36m0\u001b[0m\u001b[0;34m]\u001b[0m\u001b[0;34m)\u001b[0m \u001b[0;32mand\u001b[0m \u001b[0mcolumns\u001b[0m \u001b[0;32mis\u001b[0m \u001b[0;32mNone\u001b[0m\u001b[0;34m:\u001b[0m\u001b[0;34m\u001b[0m\u001b[0;34m\u001b[0m\u001b[0m\n\u001b[1;32m    449\u001b[0m                         \u001b[0mcolumns\u001b[0m \u001b[0;34m=\u001b[0m \u001b[0mdata\u001b[0m\u001b[0;34m[\u001b[0m\u001b[0;36m0\u001b[0m\u001b[0;34m]\u001b[0m\u001b[0;34m.\u001b[0m\u001b[0m_fields\u001b[0m\u001b[0;34m\u001b[0m\u001b[0;34m\u001b[0m\u001b[0m\n\u001b[0;32m--> 450\u001b[0;31m                     \u001b[0marrays\u001b[0m\u001b[0;34m,\u001b[0m \u001b[0mcolumns\u001b[0m \u001b[0;34m=\u001b[0m \u001b[0mto_arrays\u001b[0m\u001b[0;34m(\u001b[0m\u001b[0mdata\u001b[0m\u001b[0;34m,\u001b[0m \u001b[0mcolumns\u001b[0m\u001b[0;34m,\u001b[0m \u001b[0mdtype\u001b[0m\u001b[0;34m=\u001b[0m\u001b[0mdtype\u001b[0m\u001b[0;34m)\u001b[0m\u001b[0;34m\u001b[0m\u001b[0;34m\u001b[0m\u001b[0m\n\u001b[0m\u001b[1;32m    451\u001b[0m                     \u001b[0mcolumns\u001b[0m \u001b[0;34m=\u001b[0m \u001b[0mensure_index\u001b[0m\u001b[0;34m(\u001b[0m\u001b[0mcolumns\u001b[0m\u001b[0;34m)\u001b[0m\u001b[0;34m\u001b[0m\u001b[0;34m\u001b[0m\u001b[0m\n\u001b[1;32m    452\u001b[0m \u001b[0;34m\u001b[0m\u001b[0m\n",
            "\u001b[0;32m/usr/local/lib/python3.6/dist-packages/pandas/core/internals/construction.py\u001b[0m in \u001b[0;36mto_arrays\u001b[0;34m(data, columns, coerce_float, dtype)\u001b[0m\n\u001b[1;32m    462\u001b[0m         \u001b[0;32mreturn\u001b[0m \u001b[0;34m[\u001b[0m\u001b[0;34m]\u001b[0m\u001b[0;34m,\u001b[0m \u001b[0;34m[\u001b[0m\u001b[0;34m]\u001b[0m  \u001b[0;31m# columns if columns is not None else []\u001b[0m\u001b[0;34m\u001b[0m\u001b[0;34m\u001b[0m\u001b[0m\n\u001b[1;32m    463\u001b[0m     \u001b[0;32mif\u001b[0m \u001b[0misinstance\u001b[0m\u001b[0;34m(\u001b[0m\u001b[0mdata\u001b[0m\u001b[0;34m[\u001b[0m\u001b[0;36m0\u001b[0m\u001b[0;34m]\u001b[0m\u001b[0;34m,\u001b[0m \u001b[0;34m(\u001b[0m\u001b[0mlist\u001b[0m\u001b[0;34m,\u001b[0m \u001b[0mtuple\u001b[0m\u001b[0;34m)\u001b[0m\u001b[0;34m)\u001b[0m\u001b[0;34m:\u001b[0m\u001b[0;34m\u001b[0m\u001b[0;34m\u001b[0m\u001b[0m\n\u001b[0;32m--> 464\u001b[0;31m         \u001b[0;32mreturn\u001b[0m \u001b[0m_list_to_arrays\u001b[0m\u001b[0;34m(\u001b[0m\u001b[0mdata\u001b[0m\u001b[0;34m,\u001b[0m \u001b[0mcolumns\u001b[0m\u001b[0;34m,\u001b[0m \u001b[0mcoerce_float\u001b[0m\u001b[0;34m=\u001b[0m\u001b[0mcoerce_float\u001b[0m\u001b[0;34m,\u001b[0m \u001b[0mdtype\u001b[0m\u001b[0;34m=\u001b[0m\u001b[0mdtype\u001b[0m\u001b[0;34m)\u001b[0m\u001b[0;34m\u001b[0m\u001b[0;34m\u001b[0m\u001b[0m\n\u001b[0m\u001b[1;32m    465\u001b[0m     \u001b[0;32melif\u001b[0m \u001b[0misinstance\u001b[0m\u001b[0;34m(\u001b[0m\u001b[0mdata\u001b[0m\u001b[0;34m[\u001b[0m\u001b[0;36m0\u001b[0m\u001b[0;34m]\u001b[0m\u001b[0;34m,\u001b[0m \u001b[0mabc\u001b[0m\u001b[0;34m.\u001b[0m\u001b[0mMapping\u001b[0m\u001b[0;34m)\u001b[0m\u001b[0;34m:\u001b[0m\u001b[0;34m\u001b[0m\u001b[0;34m\u001b[0m\u001b[0m\n\u001b[1;32m    466\u001b[0m         return _list_of_dict_to_arrays(\n",
            "\u001b[0;32m/usr/local/lib/python3.6/dist-packages/pandas/core/internals/construction.py\u001b[0m in \u001b[0;36m_list_to_arrays\u001b[0;34m(data, columns, coerce_float, dtype)\u001b[0m\n\u001b[1;32m    494\u001b[0m     \u001b[0;32melse\u001b[0m\u001b[0;34m:\u001b[0m\u001b[0;34m\u001b[0m\u001b[0;34m\u001b[0m\u001b[0m\n\u001b[1;32m    495\u001b[0m         \u001b[0;31m# list of lists\u001b[0m\u001b[0;34m\u001b[0m\u001b[0;34m\u001b[0m\u001b[0;34m\u001b[0m\u001b[0m\n\u001b[0;32m--> 496\u001b[0;31m         \u001b[0mcontent\u001b[0m \u001b[0;34m=\u001b[0m \u001b[0mlist\u001b[0m\u001b[0;34m(\u001b[0m\u001b[0mlib\u001b[0m\u001b[0;34m.\u001b[0m\u001b[0mto_object_array\u001b[0m\u001b[0;34m(\u001b[0m\u001b[0mdata\u001b[0m\u001b[0;34m)\u001b[0m\u001b[0;34m.\u001b[0m\u001b[0mT\u001b[0m\u001b[0;34m)\u001b[0m\u001b[0;34m\u001b[0m\u001b[0;34m\u001b[0m\u001b[0m\n\u001b[0m\u001b[1;32m    497\u001b[0m     \u001b[0;31m# gh-26429 do not raise user-facing AssertionError\u001b[0m\u001b[0;34m\u001b[0m\u001b[0;34m\u001b[0m\u001b[0;34m\u001b[0m\u001b[0m\n\u001b[1;32m    498\u001b[0m     \u001b[0;32mtry\u001b[0m\u001b[0;34m:\u001b[0m\u001b[0;34m\u001b[0m\u001b[0;34m\u001b[0m\u001b[0m\n",
            "\u001b[0;32mpandas/_libs/lib.pyx\u001b[0m in \u001b[0;36mpandas._libs.lib.to_object_array\u001b[0;34m()\u001b[0m\n",
            "\u001b[0;31mTypeError\u001b[0m: object of type 'int' has no len()"
          ]
        }
      ]
    },
    {
      "cell_type": "code",
      "metadata": {
        "id": "6r0ilDlG1Yyl",
        "colab_type": "code",
        "colab": {}
      },
      "source": [
        "df.to_csv('vcru.csv')\n",
        "from google.colab import drive\n",
        "drive.mount('/content/drive')\n",
        "\n",
        "from google.colab import files\n",
        "files.download('vcru.csv')"
      ],
      "execution_count": 0,
      "outputs": []
    },
    {
      "cell_type": "code",
      "metadata": {
        "id": "6iZTHUZC1Yyp",
        "colab_type": "code",
        "colab": {
          "base_uri": "https://localhost:8080/",
          "height": 52
        },
        "outputId": "9084bfc9-ddb7-4441-e234-4a2aafe806b2"
      },
      "source": [
        "a = document(6832)\n",
        "len(a[-1])"
      ],
      "execution_count": 138,
      "outputs": [
        {
          "output_type": "stream",
          "text": [
            "6832\n"
          ],
          "name": "stdout"
        },
        {
          "output_type": "execute_result",
          "data": {
            "text/plain": [
              "71"
            ]
          },
          "metadata": {
            "tags": []
          },
          "execution_count": 138
        }
      ]
    },
    {
      "cell_type": "code",
      "metadata": {
        "id": "mSmqGg0m1Yyw",
        "colab_type": "code",
        "colab": {}
      },
      "source": [
        ""
      ],
      "execution_count": 0,
      "outputs": []
    }
  ]
}