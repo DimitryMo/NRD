{
 "cells": [
  {
   "cell_type": "markdown",
   "metadata": {
    "colab_type": "text",
    "id": "view-in-github"
   },
   "source": [
    "<a href=\"https://colab.research.google.com/github/DimitryMo/NSD/blob/master/Untitled1.ipynb\" target=\"_parent\"><img src=\"https://colab.research.google.com/assets/colab-badge.svg\" alt=\"Open In Colab\"/></a>"
   ]
  },
  {
   "cell_type": "code",
   "execution_count": 1,
   "metadata": {
    "colab": {},
    "colab_type": "code",
    "id": "t6LFgfLrb7ug"
   },
   "outputs": [],
   "source": [
    "import matplotlib.pyplot as plt\n",
    "import pandas as pd"
   ]
  },
  {
   "cell_type": "code",
   "execution_count": 2,
   "metadata": {
    "colab": {
     "base_uri": "https://localhost:8080/",
     "height": 295
    },
    "colab_type": "code",
    "id": "zLm1lBZsCK4c",
    "outputId": "a7218534-82ec-4c92-b665-bcfcdc78e7cf"
   },
   "outputs": [],
   "source": [
    "import nltk\n",
    "#nltk.download()"
   ]
  },
  {
   "cell_type": "code",
   "execution_count": 3,
   "metadata": {
    "colab": {
     "base_uri": "https://localhost:8080/",
     "height": 35
    },
    "colab_type": "code",
    "id": "Wy4jQLf2b_ae",
    "outputId": "aa1b90e8-3be1-447d-ec89-2a0ceb4121bb"
   },
   "outputs": [
    {
     "data": {
      "text/plain": [
       "131072"
      ]
     },
     "execution_count": 3,
     "metadata": {},
     "output_type": "execute_result"
    }
   ],
   "source": [
    "import sys\n",
    "import csv\n",
    "csv.field_size_limit(sys.maxsize)"
   ]
  },
  {
   "cell_type": "code",
   "execution_count": 4,
   "metadata": {
    "colab": {},
    "colab_type": "code",
    "id": "NFOnmR8tc-nV"
   },
   "outputs": [],
   "source": [
    "data = pd.read_csv(\"allhabr.csv\", delimiter=',', engine='python', encoding='utf-8', error_bad_lines=False)"
   ]
  },
  {
   "cell_type": "code",
   "execution_count": 5,
   "metadata": {
    "colab": {
     "base_uri": "https://localhost:8080/",
     "height": 621
    },
    "colab_type": "code",
    "id": "52Fjh2TcoPBi",
    "outputId": "1e99456e-20a1-43af-9c9f-d69af1a55a6c"
   },
   "outputs": [
    {
     "data": {
      "text/html": [
       "<div>\n",
       "<style scoped>\n",
       "    .dataframe tbody tr th:only-of-type {\n",
       "        vertical-align: middle;\n",
       "    }\n",
       "\n",
       "    .dataframe tbody tr th {\n",
       "        vertical-align: top;\n",
       "    }\n",
       "\n",
       "    .dataframe thead th {\n",
       "        text-align: right;\n",
       "    }\n",
       "</style>\n",
       "<table border=\"1\" class=\"dataframe\">\n",
       "  <thead>\n",
       "    <tr style=\"text-align: right;\">\n",
       "      <th></th>\n",
       "      <th>Unnamed: 0</th>\n",
       "      <th>title</th>\n",
       "      <th>text</th>\n",
       "      <th>date</th>\n",
       "      <th>hubs</th>\n",
       "      <th>tags</th>\n",
       "      <th>votes</th>\n",
       "      <th>views</th>\n",
       "      <th>bookmarks</th>\n",
       "      <th>comments</th>\n",
       "    </tr>\n",
       "  </thead>\n",
       "  <tbody>\n",
       "    <tr>\n",
       "      <td>0</td>\n",
       "      <td>0</td>\n",
       "      <td>Психологическая обусловленность возникновения ...</td>\n",
       "      <td>Видимо  вспышки на солнце  в том числе  послуж...</td>\n",
       "      <td>2014-01</td>\n",
       "      <td>Разработка веб-сайтов</td>\n",
       "      <td>Web 3.0 психология социальные сети носимая эле...</td>\n",
       "      <td>-3.0</td>\n",
       "      <td>6600.0</td>\n",
       "      <td>10.0</td>\n",
       "      <td>Думаю, всем нам известно, что это будут за час...</td>\n",
       "    </tr>\n",
       "    <tr>\n",
       "      <td>1</td>\n",
       "      <td>1</td>\n",
       "      <td>Обзор трафарет+блокнот для прототипирования</td>\n",
       "      <td>Некоторое время были у меня в руках предметы  ...</td>\n",
       "      <td>2014-01</td>\n",
       "      <td>Интерфейсы</td>\n",
       "      <td>prototype прототип prototyping прототипировани...</td>\n",
       "      <td>35.0</td>\n",
       "      <td>38400.0</td>\n",
       "      <td>124.0</td>\n",
       "      <td>Где можно такой заказать?~#www.uistencils.com/...</td>\n",
       "    </tr>\n",
       "    <tr>\n",
       "      <td>2</td>\n",
       "      <td>2</td>\n",
       "      <td>Хранилище данных уровня SOHO из картона</td>\n",
       "      <td>Потребность в хранилище данных у меня возник...</td>\n",
       "      <td>2014-01</td>\n",
       "      <td>DIY или Сделай сам</td>\n",
       "      <td>diy или сделай сам хранение данных хранилище д...</td>\n",
       "      <td>-11.0</td>\n",
       "      <td>13700.0</td>\n",
       "      <td>12.0</td>\n",
       "      <td>Тему переименовать — Как собрать скворечник.\\n...</td>\n",
       "    </tr>\n",
       "    <tr>\n",
       "      <td>3</td>\n",
       "      <td>3</td>\n",
       "      <td>Год большого рывка: краткие итоги 2013-го</td>\n",
       "      <td>год был годом новых базовых станций и н...</td>\n",
       "      <td>2014-01</td>\n",
       "      <td>Блог компании ВымпелКом (Билайн) Разработка си...</td>\n",
       "      <td>Сотовая связь сервис LTE Билайн Вымпелком 2013</td>\n",
       "      <td>20.0</td>\n",
       "      <td>14000.0</td>\n",
       "      <td>19.0</td>\n",
       "      <td>В москве и области функционал дозвона в режиме...</td>\n",
       "    </tr>\n",
       "    <tr>\n",
       "      <td>4</td>\n",
       "      <td>4</td>\n",
       "      <td>6 простых вопросов по C# с подвохом</td>\n",
       "      <td>Почитав    простых задач на c  с подвохом я ог...</td>\n",
       "      <td>2014-01</td>\n",
       "      <td>.NET</td>\n",
       "      <td>c# .net внезапно не делайте так никогда кровь ...</td>\n",
       "      <td>37.0</td>\n",
       "      <td>35800.0</td>\n",
       "      <td>204.0</td>\n",
       "      <td>«Можно ли в C# „поковырять“ память, которую вы...</td>\n",
       "    </tr>\n",
       "  </tbody>\n",
       "</table>\n",
       "</div>"
      ],
      "text/plain": [
       "   Unnamed: 0                                              title  \\\n",
       "0           0  Психологическая обусловленность возникновения ...   \n",
       "1           1        Обзор трафарет+блокнот для прототипирования   \n",
       "2           2            Хранилище данных уровня SOHO из картона   \n",
       "3           3          Год большого рывка: краткие итоги 2013-го   \n",
       "4           4                6 простых вопросов по C# с подвохом   \n",
       "\n",
       "                                                text     date  \\\n",
       "0  Видимо  вспышки на солнце  в том числе  послуж...  2014-01   \n",
       "1  Некоторое время были у меня в руках предметы  ...  2014-01   \n",
       "2    Потребность в хранилище данных у меня возник...  2014-01   \n",
       "3         год был годом новых базовых станций и н...  2014-01   \n",
       "4  Почитав    простых задач на c  с подвохом я ог...  2014-01   \n",
       "\n",
       "                                                hubs  \\\n",
       "0                             Разработка веб-сайтов    \n",
       "1                                        Интерфейсы    \n",
       "2                                DIY или Сделай сам    \n",
       "3  Блог компании ВымпелКом (Билайн) Разработка си...   \n",
       "4                                              .NET    \n",
       "\n",
       "                                                tags  votes    views  \\\n",
       "0  Web 3.0 психология социальные сети носимая эле...   -3.0   6600.0   \n",
       "1  prototype прототип prototyping прототипировани...   35.0  38400.0   \n",
       "2  diy или сделай сам хранение данных хранилище д...  -11.0  13700.0   \n",
       "3    Сотовая связь сервис LTE Билайн Вымпелком 2013    20.0  14000.0   \n",
       "4  c# .net внезапно не делайте так никогда кровь ...   37.0  35800.0   \n",
       "\n",
       "   bookmarks                                           comments  \n",
       "0       10.0  Думаю, всем нам известно, что это будут за час...  \n",
       "1      124.0  Где можно такой заказать?~#www.uistencils.com/...  \n",
       "2       12.0  Тему переименовать — Как собрать скворечник.\\n...  \n",
       "3       19.0  В москве и области функционал дозвона в режиме...  \n",
       "4      204.0  «Можно ли в C# „поковырять“ память, которую вы...  "
      ]
     },
     "execution_count": 5,
     "metadata": {},
     "output_type": "execute_result"
    }
   ],
   "source": [
    "data.head()"
   ]
  },
  {
   "cell_type": "code",
   "execution_count": 6,
   "metadata": {
    "colab": {
     "base_uri": "https://localhost:8080/",
     "height": 35
    },
    "colab_type": "code",
    "id": "wvtOC75FpL8v",
    "outputId": "f9075547-df07-41d0-8a8b-6731301b6732"
   },
   "outputs": [
    {
     "data": {
      "text/plain": [
       "49780"
      ]
     },
     "execution_count": 6,
     "metadata": {},
     "output_type": "execute_result"
    }
   ],
   "source": [
    "data.shape[0]"
   ]
  },
  {
   "cell_type": "code",
   "execution_count": 7,
   "metadata": {},
   "outputs": [],
   "source": [
    "filik = data[0:100]"
   ]
  },
  {
   "cell_type": "code",
   "execution_count": 8,
   "metadata": {
    "colab": {},
    "colab_type": "code",
    "id": "_e_pqknXovMh"
   },
   "outputs": [
    {
     "name": "stderr",
     "output_type": "stream",
     "text": [
      "/opt/anaconda3/lib/python3.7/site-packages/ipykernel_launcher.py:1: SettingWithCopyWarning: \n",
      "A value is trying to be set on a copy of a slice from a DataFrame\n",
      "\n",
      "See the caveats in the documentation: http://pandas.pydata.org/pandas-docs/stable/user_guide/indexing.html#returning-a-view-versus-a-copy\n",
      "  \"\"\"Entry point for launching an IPython kernel.\n"
     ]
    }
   ],
   "source": [
    "filik.dropna(inplace=True)"
   ]
  },
  {
   "cell_type": "code",
   "execution_count": 9,
   "metadata": {
    "colab": {},
    "colab_type": "code",
    "id": "WUuzqcAJO8jq"
   },
   "outputs": [
    {
     "name": "stderr",
     "output_type": "stream",
     "text": [
      "/opt/anaconda3/lib/python3.7/site-packages/ipykernel_launcher.py:9: SettingWithCopyWarning: \n",
      "A value is trying to be set on a copy of a slice from a DataFrame.\n",
      "Try using .loc[row_indexer,col_indexer] = value instead\n",
      "\n",
      "See the caveats in the documentation: http://pandas.pydata.org/pandas-docs/stable/user_guide/indexing.html#returning-a-view-versus-a-copy\n",
      "  if __name__ == '__main__':\n"
     ]
    },
    {
     "data": {
      "text/plain": [
       "0     [видимо, вспышки, на, солнце, в, том, числе, п...\n",
       "1     [некоторое, время, были, у, меня, в, руках, пр...\n",
       "2     [потребность, в, хранилище, данных, у, меня, в...\n",
       "3     [год, был, годом, новых, базовых, станций, и, ...\n",
       "4     [почитав, простых, задач, на, c, с, подвохом, ...\n",
       "                            ...                        \n",
       "95    [введение, всем, доброго, времени, суток, в, с...\n",
       "96    [хочется, напомнить, всем, кому, интересно, ра...\n",
       "97    [технологии, в, ролевых, играх, часть, техноло...\n",
       "98    [у, jquery, есть, встроенная, фича, если, серв...\n",
       "99    [с, луны, несмотря, на, выходные, поступают, н...\n",
       "Name: textlower, Length: 98, dtype: object"
      ]
     },
     "execution_count": 9,
     "metadata": {},
     "output_type": "execute_result"
    }
   ],
   "source": [
    "dat = filik['text'] #создаем новую колонку, в которой все слова текста в нижнем регистре представлены в форме списка\n",
    "\n",
    "bignew=[]\n",
    "for i in dat:\n",
    "    new = []\n",
    "    for j in i.split():\n",
    "        new.append(j.lower())\n",
    "    bignew.append(new)\n",
    "filik['textlower'] = bignew\n",
    "filik['textlower']\n"
   ]
  },
  {
   "cell_type": "code",
   "execution_count": 10,
   "metadata": {},
   "outputs": [
    {
     "name": "stderr",
     "output_type": "stream",
     "text": [
      "/opt/anaconda3/lib/python3.7/site-packages/ipykernel_launcher.py:1: SettingWithCopyWarning: \n",
      "A value is trying to be set on a copy of a slice from a DataFrame.\n",
      "Try using .loc[row_indexer,col_indexer] = value instead\n",
      "\n",
      "See the caveats in the documentation: http://pandas.pydata.org/pandas-docs/stable/user_guide/indexing.html#returning-a-view-versus-a-copy\n",
      "  \"\"\"Entry point for launching an IPython kernel.\n"
     ]
    }
   ],
   "source": [
    "filik['textlowerstring'] = filik['textlower'].apply(' '.join)"
   ]
  },
  {
   "cell_type": "code",
   "execution_count": 11,
   "metadata": {},
   "outputs": [
    {
     "data": {
      "text/plain": [
       "0     видимо вспышки на солнце в том числе послужили...\n",
       "1     некоторое время были у меня в руках предметы и...\n",
       "2     потребность в хранилище данных у меня возникла...\n",
       "3     год был годом новых базовых станций и новых се...\n",
       "4     почитав простых задач на c с подвохом я огорчи...\n",
       "                            ...                        \n",
       "95    введение всем доброго времени суток в своей пе...\n",
       "96    хочется напомнить всем кому интересно развитие...\n",
       "97    технологии в ролевых играх часть технология и ...\n",
       "98    у jquery есть встроенная фича если сервер отве...\n",
       "99    с луны несмотря на выходные поступают новости ...\n",
       "Name: textlowerstring, Length: 98, dtype: object"
      ]
     },
     "execution_count": 11,
     "metadata": {},
     "output_type": "execute_result"
    }
   ],
   "source": [
    "filik['textlowerstring']"
   ]
  },
  {
   "cell_type": "code",
   "execution_count": 12,
   "metadata": {},
   "outputs": [
    {
     "name": "stderr",
     "output_type": "stream",
     "text": [
      "[nltk_data] Downloading package punkt to /Users/freezylex/nltk_data...\n",
      "[nltk_data]   Package punkt is already up-to-date!\n",
      "[nltk_data] Downloading package stopwords to\n",
      "[nltk_data]     /Users/freezylex/nltk_data...\n",
      "[nltk_data]   Package stopwords is already up-to-date!\n"
     ]
    },
    {
     "data": {
      "text/plain": [
       "True"
      ]
     },
     "execution_count": 12,
     "metadata": {},
     "output_type": "execute_result"
    }
   ],
   "source": [
    "from nltk.corpus import stopwords\n",
    "import nltk\n",
    "nltk.download('punkt')\n",
    "nltk.download('stopwords')"
   ]
  },
  {
   "cell_type": "code",
   "execution_count": 13,
   "metadata": {},
   "outputs": [],
   "source": [
    "from nltk.tokenize import word_tokenize"
   ]
  },
  {
   "cell_type": "code",
   "execution_count": 14,
   "metadata": {},
   "outputs": [
    {
     "name": "stderr",
     "output_type": "stream",
     "text": [
      "/opt/anaconda3/lib/python3.7/site-packages/ipykernel_launcher.py:1: SettingWithCopyWarning: \n",
      "A value is trying to be set on a copy of a slice from a DataFrame.\n",
      "Try using .loc[row_indexer,col_indexer] = value instead\n",
      "\n",
      "See the caveats in the documentation: http://pandas.pydata.org/pandas-docs/stable/user_guide/indexing.html#returning-a-view-versus-a-copy\n",
      "  \"\"\"Entry point for launching an IPython kernel.\n"
     ]
    },
    {
     "data": {
      "text/plain": [
       "0     [видимо, вспышки, на, солнце, в, том, числе, п...\n",
       "1     [некоторое, время, были, у, меня, в, руках, пр...\n",
       "2     [потребность, в, хранилище, данных, у, меня, в...\n",
       "3     [год, был, годом, новых, базовых, станций, и, ...\n",
       "4     [почитав, простых, задач, на, c, с, подвохом, ...\n",
       "                            ...                        \n",
       "95    [введение, всем, доброго, времени, суток, в, с...\n",
       "96    [хочется, напомнить, всем, кому, интересно, ра...\n",
       "97    [технологии, в, ролевых, играх, часть, техноло...\n",
       "98    [у, jquery, есть, встроенная, фича, если, серв...\n",
       "99    [с, луны, несмотря, на, выходные, поступают, н...\n",
       "Name: texttok, Length: 98, dtype: object"
      ]
     },
     "execution_count": 14,
     "metadata": {},
     "output_type": "execute_result"
    }
   ],
   "source": [
    "filik['texttok'] = filik.textlowerstring.apply(lambda x: word_tokenize(x))\n",
    "filik['texttok']"
   ]
  },
  {
   "cell_type": "code",
   "execution_count": 15,
   "metadata": {},
   "outputs": [
    {
     "name": "stderr",
     "output_type": "stream",
     "text": [
      "/opt/anaconda3/lib/python3.7/site-packages/ipykernel_launcher.py:10: SettingWithCopyWarning: \n",
      "A value is trying to be set on a copy of a slice from a DataFrame.\n",
      "Try using .loc[row_indexer,col_indexer] = value instead\n",
      "\n",
      "See the caveats in the documentation: http://pandas.pydata.org/pandas-docs/stable/user_guide/indexing.html#returning-a-view-versus-a-copy\n",
      "  # Remove the CWD from sys.path while we load stuff.\n"
     ]
    },
    {
     "data": {
      "text/plain": [
       "0     [видимо, вспышки, солнце, числе, послужили, пр...\n",
       "1     [некоторое, время, руках, предметы, интересные...\n",
       "2     [потребность, хранилище, данных, возникла, дов...\n",
       "3     [год, годом, новых, базовых, станций, новых, с...\n",
       "4     [почитав, простых, задач, c, подвохом, огорчил...\n",
       "                            ...                        \n",
       "95    [введение, всем, доброго, времени, суток, свое...\n",
       "96    [хочется, напомнить, всем, кому, интересно, ра...\n",
       "97    [технологии, ролевых, играх, часть, технология...\n",
       "98    [jquery, встроенная, фича, сервер, ответит, co...\n",
       "99    [луны, несмотря, выходные, поступают, новости,...\n",
       "Name: textalmostdone, Length: 98, dtype: object"
      ]
     },
     "execution_count": 15,
     "metadata": {},
     "output_type": "execute_result"
    }
   ],
   "source": [
    "nomorebadwords = []\n",
    "from nltk.corpus import stopwords\n",
    "stop_words = set(stopwords.words(\"russian\"))\n",
    "for j in filik['texttok']:\n",
    "    smallbw = []\n",
    "    for i in j:\n",
    "        if i not in stop_words:\n",
    "            smallbw.append(i)\n",
    "    nomorebadwords.append(smallbw)\n",
    "filik['textalmostdone'] = nomorebadwords\n",
    "filik['textalmostdone']\n",
    "    "
   ]
  },
  {
   "cell_type": "code",
   "execution_count": 16,
   "metadata": {},
   "outputs": [],
   "source": [
    "import pymorphy2\n",
    "morph = pymorphy2.MorphAnalyzer()\n"
   ]
  },
  {
   "cell_type": "code",
   "execution_count": 19,
   "metadata": {},
   "outputs": [
    {
     "name": "stderr",
     "output_type": "stream",
     "text": [
      "/opt/anaconda3/lib/python3.7/site-packages/ipykernel_launcher.py:12: SettingWithCopyWarning: \n",
      "A value is trying to be set on a copy of a slice from a DataFrame.\n",
      "Try using .loc[row_indexer,col_indexer] = value instead\n",
      "\n",
      "See the caveats in the documentation: http://pandas.pydata.org/pandas-docs/stable/user_guide/indexing.html#returning-a-view-versus-a-copy\n",
      "  if sys.path[0] == '':\n"
     ]
    }
   ],
   "source": [
    "def lemmatize(text):    #приводим в исходную форму слово\n",
    "    res = list()\n",
    "    for line in text:\n",
    "        res1 = list()\n",
    "        for word in line:\n",
    "            p = morph.parse(word)[0]\n",
    "            res1.append(p.normal_form)\n",
    "        res.append(res1)\n",
    "\n",
    "    return res\n",
    "\n",
    "filik['done'] = lemmatize(filik['textalmostdone'])\n"
   ]
  },
  {
   "cell_type": "code",
   "execution_count": 20,
   "metadata": {},
   "outputs": [
    {
     "data": {
      "text/plain": [
       "0     [видимо, вспышка, солнце, число, послужить, пр...\n",
       "1     [некоторый, время, рука, предмет, интересный, ...\n",
       "2     [потребность, хранилище, дать, возникнуть, дов...\n",
       "3     [год, год, новый, базовый, станция, новый, сер...\n",
       "4     [почитать, простой, задача, c, подвох, огорчит...\n",
       "                            ...                        \n",
       "95    [введение, весь, добрый, время, сутки, свой, о...\n",
       "96    [хотеться, напомнить, весь, кома, интересно, р...\n",
       "97    [технология, ролевый, игра, часть, технология,...\n",
       "98    [jquery, встроить, фич, сервер, ответить, cont...\n",
       "99    [луна, несмотря, выходной, поступать, новость,...\n",
       "Name: done, Length: 98, dtype: object"
      ]
     },
     "execution_count": 20,
     "metadata": {},
     "output_type": "execute_result"
    }
   ],
   "source": [
    "filik['done']"
   ]
  },
  {
   "cell_type": "code",
   "execution_count": 21,
   "metadata": {},
   "outputs": [
    {
     "data": {
      "text/html": [
       "<div>\n",
       "<style scoped>\n",
       "    .dataframe tbody tr th:only-of-type {\n",
       "        vertical-align: middle;\n",
       "    }\n",
       "\n",
       "    .dataframe tbody tr th {\n",
       "        vertical-align: top;\n",
       "    }\n",
       "\n",
       "    .dataframe thead th {\n",
       "        text-align: right;\n",
       "    }\n",
       "</style>\n",
       "<table border=\"1\" class=\"dataframe\">\n",
       "  <thead>\n",
       "    <tr style=\"text-align: right;\">\n",
       "      <th></th>\n",
       "      <th>Unnamed: 0</th>\n",
       "      <th>title</th>\n",
       "      <th>text</th>\n",
       "      <th>date</th>\n",
       "      <th>hubs</th>\n",
       "      <th>tags</th>\n",
       "      <th>votes</th>\n",
       "      <th>views</th>\n",
       "      <th>bookmarks</th>\n",
       "      <th>comments</th>\n",
       "      <th>textlower</th>\n",
       "      <th>textlowerstring</th>\n",
       "      <th>texttok</th>\n",
       "      <th>textalmostdone</th>\n",
       "      <th>done</th>\n",
       "    </tr>\n",
       "  </thead>\n",
       "  <tbody>\n",
       "    <tr>\n",
       "      <td>0</td>\n",
       "      <td>0</td>\n",
       "      <td>Психологическая обусловленность возникновения ...</td>\n",
       "      <td>Видимо  вспышки на солнце  в том числе  послуж...</td>\n",
       "      <td>2014-01</td>\n",
       "      <td>Разработка веб-сайтов</td>\n",
       "      <td>Web 3.0 психология социальные сети носимая эле...</td>\n",
       "      <td>-3.0</td>\n",
       "      <td>6600.0</td>\n",
       "      <td>10.0</td>\n",
       "      <td>Думаю, всем нам известно, что это будут за час...</td>\n",
       "      <td>[видимо, вспышки, на, солнце, в, том, числе, п...</td>\n",
       "      <td>видимо вспышки на солнце в том числе послужили...</td>\n",
       "      <td>[видимо, вспышки, на, солнце, в, том, числе, п...</td>\n",
       "      <td>[видимо, вспышки, солнце, числе, послужили, пр...</td>\n",
       "      <td>[видимо, вспышка, солнце, число, послужить, пр...</td>\n",
       "    </tr>\n",
       "    <tr>\n",
       "      <td>1</td>\n",
       "      <td>1</td>\n",
       "      <td>Обзор трафарет+блокнот для прототипирования</td>\n",
       "      <td>Некоторое время были у меня в руках предметы  ...</td>\n",
       "      <td>2014-01</td>\n",
       "      <td>Интерфейсы</td>\n",
       "      <td>prototype прототип prototyping прототипировани...</td>\n",
       "      <td>35.0</td>\n",
       "      <td>38400.0</td>\n",
       "      <td>124.0</td>\n",
       "      <td>Где можно такой заказать?~#www.uistencils.com/...</td>\n",
       "      <td>[некоторое, время, были, у, меня, в, руках, пр...</td>\n",
       "      <td>некоторое время были у меня в руках предметы и...</td>\n",
       "      <td>[некоторое, время, были, у, меня, в, руках, пр...</td>\n",
       "      <td>[некоторое, время, руках, предметы, интересные...</td>\n",
       "      <td>[некоторый, время, рука, предмет, интересный, ...</td>\n",
       "    </tr>\n",
       "    <tr>\n",
       "      <td>2</td>\n",
       "      <td>2</td>\n",
       "      <td>Хранилище данных уровня SOHO из картона</td>\n",
       "      <td>Потребность в хранилище данных у меня возник...</td>\n",
       "      <td>2014-01</td>\n",
       "      <td>DIY или Сделай сам</td>\n",
       "      <td>diy или сделай сам хранение данных хранилище д...</td>\n",
       "      <td>-11.0</td>\n",
       "      <td>13700.0</td>\n",
       "      <td>12.0</td>\n",
       "      <td>Тему переименовать — Как собрать скворечник.\\n...</td>\n",
       "      <td>[потребность, в, хранилище, данных, у, меня, в...</td>\n",
       "      <td>потребность в хранилище данных у меня возникла...</td>\n",
       "      <td>[потребность, в, хранилище, данных, у, меня, в...</td>\n",
       "      <td>[потребность, хранилище, данных, возникла, дов...</td>\n",
       "      <td>[потребность, хранилище, дать, возникнуть, дов...</td>\n",
       "    </tr>\n",
       "    <tr>\n",
       "      <td>3</td>\n",
       "      <td>3</td>\n",
       "      <td>Год большого рывка: краткие итоги 2013-го</td>\n",
       "      <td>год был годом новых базовых станций и н...</td>\n",
       "      <td>2014-01</td>\n",
       "      <td>Блог компании ВымпелКом (Билайн) Разработка си...</td>\n",
       "      <td>Сотовая связь сервис LTE Билайн Вымпелком 2013</td>\n",
       "      <td>20.0</td>\n",
       "      <td>14000.0</td>\n",
       "      <td>19.0</td>\n",
       "      <td>В москве и области функционал дозвона в режиме...</td>\n",
       "      <td>[год, был, годом, новых, базовых, станций, и, ...</td>\n",
       "      <td>год был годом новых базовых станций и новых се...</td>\n",
       "      <td>[год, был, годом, новых, базовых, станций, и, ...</td>\n",
       "      <td>[год, годом, новых, базовых, станций, новых, с...</td>\n",
       "      <td>[год, год, новый, базовый, станция, новый, сер...</td>\n",
       "    </tr>\n",
       "    <tr>\n",
       "      <td>4</td>\n",
       "      <td>4</td>\n",
       "      <td>6 простых вопросов по C# с подвохом</td>\n",
       "      <td>Почитав    простых задач на c  с подвохом я ог...</td>\n",
       "      <td>2014-01</td>\n",
       "      <td>.NET</td>\n",
       "      <td>c# .net внезапно не делайте так никогда кровь ...</td>\n",
       "      <td>37.0</td>\n",
       "      <td>35800.0</td>\n",
       "      <td>204.0</td>\n",
       "      <td>«Можно ли в C# „поковырять“ память, которую вы...</td>\n",
       "      <td>[почитав, простых, задач, на, c, с, подвохом, ...</td>\n",
       "      <td>почитав простых задач на c с подвохом я огорчи...</td>\n",
       "      <td>[почитав, простых, задач, на, c, с, подвохом, ...</td>\n",
       "      <td>[почитав, простых, задач, c, подвохом, огорчил...</td>\n",
       "      <td>[почитать, простой, задача, c, подвох, огорчит...</td>\n",
       "    </tr>\n",
       "    <tr>\n",
       "      <td>...</td>\n",
       "      <td>...</td>\n",
       "      <td>...</td>\n",
       "      <td>...</td>\n",
       "      <td>...</td>\n",
       "      <td>...</td>\n",
       "      <td>...</td>\n",
       "      <td>...</td>\n",
       "      <td>...</td>\n",
       "      <td>...</td>\n",
       "      <td>...</td>\n",
       "      <td>...</td>\n",
       "      <td>...</td>\n",
       "      <td>...</td>\n",
       "      <td>...</td>\n",
       "      <td>...</td>\n",
       "    </tr>\n",
       "    <tr>\n",
       "      <td>95</td>\n",
       "      <td>95</td>\n",
       "      <td>Зашифрованное взаимодействие между клиентом и ...</td>\n",
       "      <td>Введение Всем доброго времени суток  В своей п...</td>\n",
       "      <td>2014-01</td>\n",
       "      <td>Разработка веб-сайтов Криптография Laravel</td>\n",
       "      <td>laravel шифрование данных rsa aes solid дизайн</td>\n",
       "      <td>12.0</td>\n",
       "      <td>16200.0</td>\n",
       "      <td>83.0</td>\n",
       "      <td>Все существующие алгоритмы шифрования можно ра...</td>\n",
       "      <td>[введение, всем, доброго, времени, суток, в, с...</td>\n",
       "      <td>введение всем доброго времени суток в своей пе...</td>\n",
       "      <td>[введение, всем, доброго, времени, суток, в, с...</td>\n",
       "      <td>[введение, всем, доброго, времени, суток, свое...</td>\n",
       "      <td>[введение, весь, добрый, время, сутки, свой, о...</td>\n",
       "    </tr>\n",
       "    <tr>\n",
       "      <td>96</td>\n",
       "      <td>96</td>\n",
       "      <td>Начинаются курсы «Универсариума»</td>\n",
       "      <td>Хочется напомнить всем  кому интересно развити...</td>\n",
       "      <td>2014-01</td>\n",
       "      <td>Я пиарюсь</td>\n",
       "      <td>mooc e-learning online-обучение education</td>\n",
       "      <td>24.0</td>\n",
       "      <td>5500.0</td>\n",
       "      <td>62.0</td>\n",
       "      <td>Пока бродил по Вашему сайту наткнулся на дохлы...</td>\n",
       "      <td>[хочется, напомнить, всем, кому, интересно, ра...</td>\n",
       "      <td>хочется напомнить всем кому интересно развитие...</td>\n",
       "      <td>[хочется, напомнить, всем, кому, интересно, ра...</td>\n",
       "      <td>[хочется, напомнить, всем, кому, интересно, ра...</td>\n",
       "      <td>[хотеться, напомнить, весь, кома, интересно, р...</td>\n",
       "    </tr>\n",
       "    <tr>\n",
       "      <td>97</td>\n",
       "      <td>97</td>\n",
       "      <td>Технологии в ролевых играх. Часть 3. Технологи...</td>\n",
       "      <td>Технологии в ролевых играх  Часть    Технологи...</td>\n",
       "      <td>2014-01</td>\n",
       "      <td>Разработка игр</td>\n",
       "      <td>ролевые игры технологии магия киберпанк</td>\n",
       "      <td>40.0</td>\n",
       "      <td>29600.0</td>\n",
       "      <td>110.0</td>\n",
       "      <td>Девушку случайно не Настя зовут на иллюстрации...</td>\n",
       "      <td>[технологии, в, ролевых, играх, часть, техноло...</td>\n",
       "      <td>технологии в ролевых играх часть технология и ...</td>\n",
       "      <td>[технологии, в, ролевых, играх, часть, техноло...</td>\n",
       "      <td>[технологии, ролевых, играх, часть, технология...</td>\n",
       "      <td>[технология, ролевый, игра, часть, технология,...</td>\n",
       "    </tr>\n",
       "    <tr>\n",
       "      <td>98</td>\n",
       "      <td>98</td>\n",
       "      <td>Почему не нужно использовать RJS</td>\n",
       "      <td>У jQuery есть встроенная фича   если сервер от...</td>\n",
       "      <td>2014-01</td>\n",
       "      <td>Информационная безопасность Разработка веб-сай...</td>\n",
       "      <td>rails rjs</td>\n",
       "      <td>24.0</td>\n",
       "      <td>12000.0</td>\n",
       "      <td>48.0</td>\n",
       "      <td>Про какое исправление в какой конкретно новой ...</td>\n",
       "      <td>[у, jquery, есть, встроенная, фича, если, серв...</td>\n",
       "      <td>у jquery есть встроенная фича если сервер отве...</td>\n",
       "      <td>[у, jquery, есть, встроенная, фича, если, серв...</td>\n",
       "      <td>[jquery, встроенная, фича, сервер, ответит, co...</td>\n",
       "      <td>[jquery, встроить, фич, сервер, ответить, cont...</td>\n",
       "    </tr>\n",
       "    <tr>\n",
       "      <td>99</td>\n",
       "      <td>99</td>\n",
       "      <td>Панорама Луны от «Чанъе 3» и выход из строя гл...</td>\n",
       "      <td>С Луны  несмотря на выходные  поступают ново...</td>\n",
       "      <td>2014-01</td>\n",
       "      <td>Космонавтика</td>\n",
       "      <td>луна космос луноход юйту Чанъе</td>\n",
       "      <td>35.0</td>\n",
       "      <td>39300.0</td>\n",
       "      <td>18.0</td>\n",
       "      <td>А вот фотография лунного грунта, сделанная ком...</td>\n",
       "      <td>[с, луны, несмотря, на, выходные, поступают, н...</td>\n",
       "      <td>с луны несмотря на выходные поступают новости ...</td>\n",
       "      <td>[с, луны, несмотря, на, выходные, поступают, н...</td>\n",
       "      <td>[луны, несмотря, выходные, поступают, новости,...</td>\n",
       "      <td>[луна, несмотря, выходной, поступать, новость,...</td>\n",
       "    </tr>\n",
       "  </tbody>\n",
       "</table>\n",
       "<p>98 rows × 15 columns</p>\n",
       "</div>"
      ],
      "text/plain": [
       "    Unnamed: 0                                              title  \\\n",
       "0            0  Психологическая обусловленность возникновения ...   \n",
       "1            1        Обзор трафарет+блокнот для прототипирования   \n",
       "2            2            Хранилище данных уровня SOHO из картона   \n",
       "3            3          Год большого рывка: краткие итоги 2013-го   \n",
       "4            4                6 простых вопросов по C# с подвохом   \n",
       "..         ...                                                ...   \n",
       "95          95  Зашифрованное взаимодействие между клиентом и ...   \n",
       "96          96                   Начинаются курсы «Универсариума»   \n",
       "97          97  Технологии в ролевых играх. Часть 3. Технологи...   \n",
       "98          98                   Почему не нужно использовать RJS   \n",
       "99          99  Панорама Луны от «Чанъе 3» и выход из строя гл...   \n",
       "\n",
       "                                                 text     date  \\\n",
       "0   Видимо  вспышки на солнце  в том числе  послуж...  2014-01   \n",
       "1   Некоторое время были у меня в руках предметы  ...  2014-01   \n",
       "2     Потребность в хранилище данных у меня возник...  2014-01   \n",
       "3          год был годом новых базовых станций и н...  2014-01   \n",
       "4   Почитав    простых задач на c  с подвохом я ог...  2014-01   \n",
       "..                                                ...      ...   \n",
       "95  Введение Всем доброго времени суток  В своей п...  2014-01   \n",
       "96  Хочется напомнить всем  кому интересно развити...  2014-01   \n",
       "97  Технологии в ролевых играх  Часть    Технологи...  2014-01   \n",
       "98  У jQuery есть встроенная фича   если сервер от...  2014-01   \n",
       "99    С Луны  несмотря на выходные  поступают ново...  2014-01   \n",
       "\n",
       "                                                 hubs  \\\n",
       "0                              Разработка веб-сайтов    \n",
       "1                                         Интерфейсы    \n",
       "2                                 DIY или Сделай сам    \n",
       "3   Блог компании ВымпелКом (Билайн) Разработка си...   \n",
       "4                                               .NET    \n",
       "..                                                ...   \n",
       "95        Разработка веб-сайтов Криптография Laravel    \n",
       "96                                         Я пиарюсь    \n",
       "97                                    Разработка игр    \n",
       "98  Информационная безопасность Разработка веб-сай...   \n",
       "99                                      Космонавтика    \n",
       "\n",
       "                                                 tags  votes    views  \\\n",
       "0   Web 3.0 психология социальные сети носимая эле...   -3.0   6600.0   \n",
       "1   prototype прототип prototyping прототипировани...   35.0  38400.0   \n",
       "2   diy или сделай сам хранение данных хранилище д...  -11.0  13700.0   \n",
       "3     Сотовая связь сервис LTE Билайн Вымпелком 2013    20.0  14000.0   \n",
       "4   c# .net внезапно не делайте так никогда кровь ...   37.0  35800.0   \n",
       "..                                                ...    ...      ...   \n",
       "95    laravel шифрование данных rsa aes solid дизайн    12.0  16200.0   \n",
       "96         mooc e-learning online-обучение education    24.0   5500.0   \n",
       "97           ролевые игры технологии магия киберпанк    40.0  29600.0   \n",
       "98                                         rails rjs    24.0  12000.0   \n",
       "99                    луна космос луноход юйту Чанъе    35.0  39300.0   \n",
       "\n",
       "    bookmarks                                           comments  \\\n",
       "0        10.0  Думаю, всем нам известно, что это будут за час...   \n",
       "1       124.0  Где можно такой заказать?~#www.uistencils.com/...   \n",
       "2        12.0  Тему переименовать — Как собрать скворечник.\\n...   \n",
       "3        19.0  В москве и области функционал дозвона в режиме...   \n",
       "4       204.0  «Можно ли в C# „поковырять“ память, которую вы...   \n",
       "..        ...                                                ...   \n",
       "95       83.0  Все существующие алгоритмы шифрования можно ра...   \n",
       "96       62.0  Пока бродил по Вашему сайту наткнулся на дохлы...   \n",
       "97      110.0  Девушку случайно не Настя зовут на иллюстрации...   \n",
       "98       48.0  Про какое исправление в какой конкретно новой ...   \n",
       "99       18.0  А вот фотография лунного грунта, сделанная ком...   \n",
       "\n",
       "                                            textlower  \\\n",
       "0   [видимо, вспышки, на, солнце, в, том, числе, п...   \n",
       "1   [некоторое, время, были, у, меня, в, руках, пр...   \n",
       "2   [потребность, в, хранилище, данных, у, меня, в...   \n",
       "3   [год, был, годом, новых, базовых, станций, и, ...   \n",
       "4   [почитав, простых, задач, на, c, с, подвохом, ...   \n",
       "..                                                ...   \n",
       "95  [введение, всем, доброго, времени, суток, в, с...   \n",
       "96  [хочется, напомнить, всем, кому, интересно, ра...   \n",
       "97  [технологии, в, ролевых, играх, часть, техноло...   \n",
       "98  [у, jquery, есть, встроенная, фича, если, серв...   \n",
       "99  [с, луны, несмотря, на, выходные, поступают, н...   \n",
       "\n",
       "                                      textlowerstring  \\\n",
       "0   видимо вспышки на солнце в том числе послужили...   \n",
       "1   некоторое время были у меня в руках предметы и...   \n",
       "2   потребность в хранилище данных у меня возникла...   \n",
       "3   год был годом новых базовых станций и новых се...   \n",
       "4   почитав простых задач на c с подвохом я огорчи...   \n",
       "..                                                ...   \n",
       "95  введение всем доброго времени суток в своей пе...   \n",
       "96  хочется напомнить всем кому интересно развитие...   \n",
       "97  технологии в ролевых играх часть технология и ...   \n",
       "98  у jquery есть встроенная фича если сервер отве...   \n",
       "99  с луны несмотря на выходные поступают новости ...   \n",
       "\n",
       "                                              texttok  \\\n",
       "0   [видимо, вспышки, на, солнце, в, том, числе, п...   \n",
       "1   [некоторое, время, были, у, меня, в, руках, пр...   \n",
       "2   [потребность, в, хранилище, данных, у, меня, в...   \n",
       "3   [год, был, годом, новых, базовых, станций, и, ...   \n",
       "4   [почитав, простых, задач, на, c, с, подвохом, ...   \n",
       "..                                                ...   \n",
       "95  [введение, всем, доброго, времени, суток, в, с...   \n",
       "96  [хочется, напомнить, всем, кому, интересно, ра...   \n",
       "97  [технологии, в, ролевых, играх, часть, техноло...   \n",
       "98  [у, jquery, есть, встроенная, фича, если, серв...   \n",
       "99  [с, луны, несмотря, на, выходные, поступают, н...   \n",
       "\n",
       "                                       textalmostdone  \\\n",
       "0   [видимо, вспышки, солнце, числе, послужили, пр...   \n",
       "1   [некоторое, время, руках, предметы, интересные...   \n",
       "2   [потребность, хранилище, данных, возникла, дов...   \n",
       "3   [год, годом, новых, базовых, станций, новых, с...   \n",
       "4   [почитав, простых, задач, c, подвохом, огорчил...   \n",
       "..                                                ...   \n",
       "95  [введение, всем, доброго, времени, суток, свое...   \n",
       "96  [хочется, напомнить, всем, кому, интересно, ра...   \n",
       "97  [технологии, ролевых, играх, часть, технология...   \n",
       "98  [jquery, встроенная, фича, сервер, ответит, co...   \n",
       "99  [луны, несмотря, выходные, поступают, новости,...   \n",
       "\n",
       "                                                 done  \n",
       "0   [видимо, вспышка, солнце, число, послужить, пр...  \n",
       "1   [некоторый, время, рука, предмет, интересный, ...  \n",
       "2   [потребность, хранилище, дать, возникнуть, дов...  \n",
       "3   [год, год, новый, базовый, станция, новый, сер...  \n",
       "4   [почитать, простой, задача, c, подвох, огорчит...  \n",
       "..                                                ...  \n",
       "95  [введение, весь, добрый, время, сутки, свой, о...  \n",
       "96  [хотеться, напомнить, весь, кома, интересно, р...  \n",
       "97  [технология, ролевый, игра, часть, технология,...  \n",
       "98  [jquery, встроить, фич, сервер, ответить, cont...  \n",
       "99  [луна, несмотря, выходной, поступать, новость,...  \n",
       "\n",
       "[98 rows x 15 columns]"
      ]
     },
     "execution_count": 21,
     "metadata": {},
     "output_type": "execute_result"
    }
   ],
   "source": [
    "filik"
   ]
  },
  {
   "cell_type": "code",
   "execution_count": null,
   "metadata": {},
   "outputs": [],
   "source": []
  }
 ],
 "metadata": {
  "colab": {
   "authorship_tag": "ABX9TyPYRrZiRs9OQn+u3xoVMH7X",
   "collapsed_sections": [],
   "include_colab_link": true,
   "mount_file_id": "1_2lpSesPC5wFohalVNn7goy6S7SAb8M8",
   "name": "Untitled0.ipynb",
   "provenance": []
  },
  "kernelspec": {
   "display_name": "Python 3",
   "language": "python",
   "name": "python3"
  },
  "language_info": {
   "codemirror_mode": {
    "name": "ipython",
    "version": 3
   },
   "file_extension": ".py",
   "mimetype": "text/x-python",
   "name": "python",
   "nbconvert_exporter": "python",
   "pygments_lexer": "ipython3",
   "version": "3.7.4"
  }
 },
 "nbformat": 4,
 "nbformat_minor": 1
}
