{
  "nbformat": 4,
  "nbformat_minor": 0,
  "metadata": {
    "colab": {
      "name": "Untitled0.ipynb",
      "provenance": [],
      "collapsed_sections": [],
      "authorship_tag": "ABX9TyMVOZNLy9zDJAFj1wkES8/g",
      "include_colab_link": true
    },
    "kernelspec": {
      "name": "python3",
      "display_name": "Python 3"
    }
  },
  "cells": [
    {
      "cell_type": "markdown",
      "metadata": {
        "id": "view-in-github",
        "colab_type": "text"
      },
      "source": [
        "<a href=\"https://colab.research.google.com/github/DimitryMo/NSD/blob/master/colab.ipynb\" target=\"_parent\"><img src=\"https://colab.research.google.com/assets/colab-badge.svg\" alt=\"Open In Colab\"/></a>"
      ]
    },
    {
      "cell_type": "code",
      "metadata": {
        "id": "t6LFgfLrb7ug",
        "colab_type": "code",
        "colab": {}
      },
      "source": [
        "import matplotlib.pyplot as plt\n",
        "import pandas as pd\n"
      ],
      "execution_count": 0,
      "outputs": []
    },
    {
      "cell_type": "code",
      "metadata": {
        "id": "Wy4jQLf2b_ae",
        "colab_type": "code",
        "outputId": "06c235b0-0641-44ad-a6b4-592402d37fae",
        "colab": {
          "base_uri": "https://localhost:8080/",
          "height": 35
        }
      },
      "source": [
        "import sys\n",
        "import csv\n",
        "csv.field_size_limit(sys.maxsize)"
      ],
      "execution_count": 35,
      "outputs": [
        {
          "output_type": "execute_result",
          "data": {
            "text/plain": [
              "131072"
            ]
          },
          "metadata": {
            "tags": []
          },
          "execution_count": 35
        }
      ]
    },
    {
      "cell_type": "code",
      "metadata": {
        "id": "NFOnmR8tc-nV",
        "colab_type": "code",
        "colab": {
          "base_uri": "https://localhost:8080/",
          "height": 35
        },
        "outputId": "c8b8dabb-7782-4544-ddb7-4f204e35a4c9"
      },
      "source": [
        "data = pd.read_csv('veshabr.csv', delimiter=',', engine='python', encoding='utf-8', error_bad_lines=False)\n"
      ],
      "execution_count": 37,
      "outputs": [
        {
          "output_type": "stream",
          "text": [
            "Skipping line 3990: unexpected end of data\n"
          ],
          "name": "stderr"
        }
      ]
    },
    {
      "cell_type": "code",
      "metadata": {
        "id": "52Fjh2TcoPBi",
        "colab_type": "code",
        "colab": {
          "base_uri": "https://localhost:8080/",
          "height": 445
        },
        "outputId": "35f15437-0643-4270-b167-377aa6199485"
      },
      "source": [
        "data.head()"
      ],
      "execution_count": 38,
      "outputs": [
        {
          "output_type": "execute_result",
          "data": {
            "text/html": [
              "<div>\n",
              "<style scoped>\n",
              "    .dataframe tbody tr th:only-of-type {\n",
              "        vertical-align: middle;\n",
              "    }\n",
              "\n",
              "    .dataframe tbody tr th {\n",
              "        vertical-align: top;\n",
              "    }\n",
              "\n",
              "    .dataframe thead th {\n",
              "        text-align: right;\n",
              "    }\n",
              "</style>\n",
              "<table border=\"1\" class=\"dataframe\">\n",
              "  <thead>\n",
              "    <tr style=\"text-align: right;\">\n",
              "      <th></th>\n",
              "      <th>Unnamed: 0</th>\n",
              "      <th>bookmarks</th>\n",
              "      <th>comments</th>\n",
              "      <th>date</th>\n",
              "      <th>hubs</th>\n",
              "      <th>index</th>\n",
              "      <th>tags</th>\n",
              "      <th>text</th>\n",
              "      <th>title</th>\n",
              "      <th>views</th>\n",
              "      <th>votes</th>\n",
              "    </tr>\n",
              "  </thead>\n",
              "  <tbody>\n",
              "    <tr>\n",
              "      <th>0</th>\n",
              "      <td>0</td>\n",
              "      <td>10.0</td>\n",
              "      <td>Думаю, всем нам известно, что это будут за час...</td>\n",
              "      <td>2014-01</td>\n",
              "      <td>Разработка веб-сайтов</td>\n",
              "      <td>0.0</td>\n",
              "      <td>Web 3.0 психология социальные сети носимая эле...</td>\n",
              "      <td>Видимо  вспышки на солнце  в том числе  послуж...</td>\n",
              "      <td>Психологическая обусловленность возникновения ...</td>\n",
              "      <td>6600.0</td>\n",
              "      <td>-3.0</td>\n",
              "    </tr>\n",
              "    <tr>\n",
              "      <th>1</th>\n",
              "      <td>1</td>\n",
              "      <td>124.0</td>\n",
              "      <td>Где можно такой заказать?~#www.uistencils.com/...</td>\n",
              "      <td>2014-01</td>\n",
              "      <td>Интерфейсы</td>\n",
              "      <td>2.0</td>\n",
              "      <td>prototype прототип prototyping прототипировани...</td>\n",
              "      <td>Некоторое время были у меня в руках предметы  ...</td>\n",
              "      <td>Обзор трафарет+блокнот для прототипирования</td>\n",
              "      <td>38400.0</td>\n",
              "      <td>35.0</td>\n",
              "    </tr>\n",
              "    <tr>\n",
              "      <th>2</th>\n",
              "      <td>2</td>\n",
              "      <td>12.0</td>\n",
              "      <td>Тему переименовать — Как собрать скворечник.\\n...</td>\n",
              "      <td>2014-01</td>\n",
              "      <td>DIY или Сделай сам</td>\n",
              "      <td>4.0</td>\n",
              "      <td>diy или сделай сам хранение данных хранилище д...</td>\n",
              "      <td>Потребность в хранилище данных у меня возник...</td>\n",
              "      <td>Хранилище данных уровня SOHO из картона</td>\n",
              "      <td>13700.0</td>\n",
              "      <td>-11.0</td>\n",
              "    </tr>\n",
              "    <tr>\n",
              "      <th>3</th>\n",
              "      <td>3</td>\n",
              "      <td>19.0</td>\n",
              "      <td>В москве и области функционал дозвона в режиме...</td>\n",
              "      <td>2014-01</td>\n",
              "      <td>Блог компании ВымпелКом (Билайн) Разработка си...</td>\n",
              "      <td>6.0</td>\n",
              "      <td>Сотовая связь сервис LTE Билайн Вымпелком 2013</td>\n",
              "      <td>год был годом новых базовых станций и н...</td>\n",
              "      <td>Год большого рывка: краткие итоги 2013-го</td>\n",
              "      <td>14000.0</td>\n",
              "      <td>20.0</td>\n",
              "    </tr>\n",
              "    <tr>\n",
              "      <th>4</th>\n",
              "      <td>4</td>\n",
              "      <td>204.0</td>\n",
              "      <td>«Можно ли в C# „поковырять“ память, которую вы...</td>\n",
              "      <td>2014-01</td>\n",
              "      <td>.NET</td>\n",
              "      <td>8.0</td>\n",
              "      <td>c# .net внезапно не делайте так никогда кровь ...</td>\n",
              "      <td>Почитав    простых задач на c  с подвохом я ог...</td>\n",
              "      <td>6 простых вопросов по C# с подвохом</td>\n",
              "      <td>35800.0</td>\n",
              "      <td>37.0</td>\n",
              "    </tr>\n",
              "  </tbody>\n",
              "</table>\n",
              "</div>"
            ],
            "text/plain": [
              "   Unnamed: 0  bookmarks  ...    views votes\n",
              "0           0       10.0  ...   6600.0  -3.0\n",
              "1           1      124.0  ...  38400.0  35.0\n",
              "2           2       12.0  ...  13700.0 -11.0\n",
              "3           3       19.0  ...  14000.0  20.0\n",
              "4           4      204.0  ...  35800.0  37.0\n",
              "\n",
              "[5 rows x 11 columns]"
            ]
          },
          "metadata": {
            "tags": []
          },
          "execution_count": 38
        }
      ]
    },
    {
      "cell_type": "code",
      "metadata": {
        "id": "wvtOC75FpL8v",
        "colab_type": "code",
        "colab": {
          "base_uri": "https://localhost:8080/",
          "height": 35
        },
        "outputId": "f28c86f0-9a5d-4a9a-c0aa-77e8d4abbb57"
      },
      "source": [
        "data.shape[0]"
      ],
      "execution_count": 43,
      "outputs": [
        {
          "output_type": "execute_result",
          "data": {
            "text/plain": [
              "3775"
            ]
          },
          "metadata": {
            "tags": []
          },
          "execution_count": 43
        }
      ]
    },
    {
      "cell_type": "code",
      "metadata": {
        "id": "xM_RkuhfoqVR",
        "colab_type": "code",
        "colab": {
          "base_uri": "https://localhost:8080/",
          "height": 35
        },
        "outputId": "e0f69337-e46a-4e0e-f7a8-45ecb15612df"
      },
      "source": [
        "data.isnull().any().any()"
      ],
      "execution_count": 40,
      "outputs": [
        {
          "output_type": "execute_result",
          "data": {
            "text/plain": [
              "True"
            ]
          },
          "metadata": {
            "tags": []
          },
          "execution_count": 40
        }
      ]
    },
    {
      "cell_type": "code",
      "metadata": {
        "id": "_e_pqknXovMh",
        "colab_type": "code",
        "colab": {}
      },
      "source": [
        "data.dropna(inplace=True)"
      ],
      "execution_count": 0,
      "outputs": []
    },
    {
      "cell_type": "code",
      "metadata": {
        "id": "THrYJRlBpE9L",
        "colab_type": "code",
        "colab": {
          "base_uri": "https://localhost:8080/",
          "height": 35
        },
        "outputId": "f1f68ac7-fa9f-410e-f59b-de69f4e3039e"
      },
      "source": [
        "data.shape[0]"
      ],
      "execution_count": 42,
      "outputs": [
        {
          "output_type": "execute_result",
          "data": {
            "text/plain": [
              "3775"
            ]
          },
          "metadata": {
            "tags": []
          },
          "execution_count": 42
        }
      ]
    },
    {
      "cell_type": "code",
      "metadata": {
        "id": "Y6ya0C5PpJ5g",
        "colab_type": "code",
        "colab": {
          "base_uri": "https://localhost:8080/",
          "height": 69
        },
        "outputId": "8110bbb6-b342-46cc-eb5e-12c14aeaf3c3"
      },
      "source": [
        "data.columns"
      ],
      "execution_count": 47,
      "outputs": [
        {
          "output_type": "execute_result",
          "data": {
            "text/plain": [
              "Index(['Unnamed: 0', 'bookmarks', 'comments', 'date', 'hubs', 'index', 'tags',\n",
              "       'text', 'title', 'views', 'votes'],\n",
              "      dtype='object')"
            ]
          },
          "metadata": {
            "tags": []
          },
          "execution_count": 47
        }
      ]
    },
    {
      "cell_type": "code",
      "metadata": {
        "id": "srcGkdfNpVmi",
        "colab_type": "code",
        "colab": {}
      },
      "source": [
        ""
      ],
      "execution_count": 0,
      "outputs": []
    }
  ]
}