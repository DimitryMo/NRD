{
 "cells": [
  {
   "cell_type": "code",
   "execution_count": 70,
   "metadata": {},
   "outputs": [],
   "source": [
    "import pandas as pd\n",
    "import numpy as np\n",
    "from sklearn.feature_extraction.text import TfidfVectorizer\n",
    "from sklearn.model_selection import train_test_split\n",
    "from sklearn.linear_model import SGDClassifier\n",
    "from sklearn.metrics import accuracy_score, confusion_matrix, recall_score, precision_score"
   ]
  },
  {
   "cell_type": "code",
   "execution_count": 2,
   "metadata": {},
   "outputs": [],
   "source": [
    "df = pd.read_csv('all_vc_goodtext.csv')"
   ]
  },
  {
   "cell_type": "code",
   "execution_count": 3,
   "metadata": {},
   "outputs": [],
   "source": [
    "data = pd.concat([df[df['section'] == 'Финансы'], df[df['section'] == 'Находки'],\n",
    "                 df[df['section'] == 'Миграция'], df[df['section'] == 'Транспорт'], df[df['section'] == 'SEO'],\n",
    "                 df[df['section'] == 'Офис'], df[df['section'] == 'Сломалось']])"
   ]
  },
  {
   "cell_type": "code",
   "execution_count": 4,
   "metadata": {},
   "outputs": [],
   "source": [
    "texts = [i for i in data['good text']]"
   ]
  },
  {
   "cell_type": "code",
   "execution_count": 5,
   "metadata": {},
   "outputs": [],
   "source": [
    "tf = TfidfVectorizer()"
   ]
  },
  {
   "cell_type": "code",
   "execution_count": 6,
   "metadata": {},
   "outputs": [],
   "source": [
    "words = tf.fit_transform(texts)"
   ]
  },
  {
   "cell_type": "code",
   "execution_count": 7,
   "metadata": {},
   "outputs": [],
   "source": [
    "words = pd.DataFrame(words.toarray())"
   ]
  },
  {
   "cell_type": "code",
   "execution_count": 8,
   "metadata": {
    "collapsed": true
   },
   "outputs": [
    {
     "data": {
      "text/html": [
       "<div>\n",
       "<style scoped>\n",
       "    .dataframe tbody tr th:only-of-type {\n",
       "        vertical-align: middle;\n",
       "    }\n",
       "\n",
       "    .dataframe tbody tr th {\n",
       "        vertical-align: top;\n",
       "    }\n",
       "\n",
       "    .dataframe thead th {\n",
       "        text-align: right;\n",
       "    }\n",
       "</style>\n",
       "<table border=\"1\" class=\"dataframe\">\n",
       "  <thead>\n",
       "    <tr style=\"text-align: right;\">\n",
       "      <th></th>\n",
       "      <th>index</th>\n",
       "      <th>Unnamed: 0</th>\n",
       "      <th>title</th>\n",
       "      <th>text</th>\n",
       "      <th>date</th>\n",
       "      <th>section</th>\n",
       "      <th>votes</th>\n",
       "      <th>views</th>\n",
       "      <th>bookmarks</th>\n",
       "      <th>comments</th>\n",
       "      <th>good text</th>\n",
       "    </tr>\n",
       "  </thead>\n",
       "  <tbody>\n",
       "    <tr>\n",
       "      <td>0</td>\n",
       "      <td>88</td>\n",
       "      <td>88</td>\n",
       "      <td>Вопрос на миллион: зарплата фаундера стартапа</td>\n",
       "      <td>Команда – это одна из самых главных составляю...</td>\n",
       "      <td>2014-01</td>\n",
       "      <td>Финансы</td>\n",
       "      <td>23.0</td>\n",
       "      <td>13501.0</td>\n",
       "      <td>0.0</td>\n",
       "      <td></td>\n",
       "      <td>команда это самый главный составлять успех люб...</td>\n",
       "    </tr>\n",
       "    <tr>\n",
       "      <td>1</td>\n",
       "      <td>92</td>\n",
       "      <td>92</td>\n",
       "      <td>Path взломали, но никому нет дела</td>\n",
       "      <td>Социальная сеть Path, известная своим красивы...</td>\n",
       "      <td>2014-01</td>\n",
       "      <td>Финансы</td>\n",
       "      <td>14.0</td>\n",
       "      <td>5904.0</td>\n",
       "      <td>0.0</td>\n",
       "      <td></td>\n",
       "      <td>социальный сеть path известный свой красивый м...</td>\n",
       "    </tr>\n",
       "    <tr>\n",
       "      <td>2</td>\n",
       "      <td>182</td>\n",
       "      <td>182</td>\n",
       "      <td>Indiegogo привлёк $40 миллионов на глобальное ...</td>\n",
       "      <td>Популярный краудфандинговый сервис Indiegogo ...</td>\n",
       "      <td>2014-01</td>\n",
       "      <td>Финансы</td>\n",
       "      <td>11.0</td>\n",
       "      <td>2749.0</td>\n",
       "      <td>0.0</td>\n",
       "      <td></td>\n",
       "      <td>популярный краудфандинговый сервис indiegogo п...</td>\n",
       "    </tr>\n",
       "    <tr>\n",
       "      <td>3</td>\n",
       "      <td>193</td>\n",
       "      <td>193</td>\n",
       "      <td>Для помощи интернет-магазинам Яндекс выкупил к...</td>\n",
       "      <td>Российская компания Яндекс заключила соглашен...</td>\n",
       "      <td>2014-01</td>\n",
       "      <td>Финансы</td>\n",
       "      <td>14.0</td>\n",
       "      <td>5384.0</td>\n",
       "      <td>0.0</td>\n",
       "      <td></td>\n",
       "      <td>российский компания яндекс заключить соглашени...</td>\n",
       "    </tr>\n",
       "    <tr>\n",
       "      <td>4</td>\n",
       "      <td>240</td>\n",
       "      <td>240</td>\n",
       "      <td>Microsoft вложит $15 млн в Foursquare и будет ...</td>\n",
       "      <td>Всего через пару часов после новости о том, ч...</td>\n",
       "      <td>2014-02</td>\n",
       "      <td>Финансы</td>\n",
       "      <td>11.0</td>\n",
       "      <td>2740.0</td>\n",
       "      <td>0.0</td>\n",
       "      <td></td>\n",
       "      <td>пара часы новость сатие наделла утвердить долж...</td>\n",
       "    </tr>\n",
       "    <tr>\n",
       "      <td>...</td>\n",
       "      <td>...</td>\n",
       "      <td>...</td>\n",
       "      <td>...</td>\n",
       "      <td>...</td>\n",
       "      <td>...</td>\n",
       "      <td>...</td>\n",
       "      <td>...</td>\n",
       "      <td>...</td>\n",
       "      <td>...</td>\n",
       "      <td>...</td>\n",
       "      <td>...</td>\n",
       "    </tr>\n",
       "    <tr>\n",
       "      <td>5110</td>\n",
       "      <td>45948</td>\n",
       "      <td>46238</td>\n",
       "      <td>Что-то пошло не так</td>\n",
       "      <td>iOS 13.3</td>\n",
       "      <td>в-01</td>\n",
       "      <td>Сломалось</td>\n",
       "      <td>-1.0</td>\n",
       "      <td>266.0</td>\n",
       "      <td>1.0</td>\n",
       "      <td>~#Такое может происходить при автоматической ...</td>\n",
       "      <td>ios 13 3</td>\n",
       "    </tr>\n",
       "    <tr>\n",
       "      <td>5111</td>\n",
       "      <td>45959</td>\n",
       "      <td>46249</td>\n",
       "      <td>iPad. Темная тема iOS</td>\n",
       "      <td>Цвета комментариев чёрные на чёрном. Фото не ...</td>\n",
       "      <td>в-01</td>\n",
       "      <td>Сломалось</td>\n",
       "      <td>0.0</td>\n",
       "      <td>98.0</td>\n",
       "      <td>1.0</td>\n",
       "      <td>~#Здравствуйте. \\nПопробуйте обновиться до по...</td>\n",
       "      <td>цвет комментарий чёрный чёрный фото давать при...</td>\n",
       "    </tr>\n",
       "    <tr>\n",
       "      <td>5112</td>\n",
       "      <td>46602</td>\n",
       "      <td>46896</td>\n",
       "      <td>Через приложение vc.ru для iPhone нельзя зарег...</td>\n",
       "      <td>Есть возможность только для авторизации, а ре...</td>\n",
       "      <td>в-02</td>\n",
       "      <td>Сломалось</td>\n",
       "      <td>-3.0</td>\n",
       "      <td>83.0</td>\n",
       "      <td>1.0</td>\n",
       "      <td>~#У меня норм 🤷‍♂️~#Айфон или Андроид?</td>\n",
       "      <td>возможность авторизация регистрироваться комп</td>\n",
       "    </tr>\n",
       "    <tr>\n",
       "      <td>5113</td>\n",
       "      <td>46976</td>\n",
       "      <td>47271</td>\n",
       "      <td>Не грузятся картинки в комментарии</td>\n",
       "      <td>Загружаю картинку на десктопе в комментарий, ...</td>\n",
       "      <td>в-02</td>\n",
       "      <td>Сломалось</td>\n",
       "      <td>1.0</td>\n",
       "      <td>58.0</td>\n",
       "      <td>1.0</td>\n",
       "      <td>~#Да. Сейчас у нас нагрузки на сервера. Из-за...</td>\n",
       "      <td>загружать картинка десктоп комментарий мигать ...</td>\n",
       "    </tr>\n",
       "    <tr>\n",
       "      <td>5114</td>\n",
       "      <td>47809</td>\n",
       "      <td>48110</td>\n",
       "      <td>vc.ru вы издеваетесь?</td>\n",
       "      <td>Уже 5 ра-з ответил что мячик жёлтый и 3 раза ...</td>\n",
       "      <td>в-03</td>\n",
       "      <td>Сломалось</td>\n",
       "      <td>0.0</td>\n",
       "      <td>175.0</td>\n",
       "      <td>0.0</td>\n",
       "      <td>~#Мы так нейронку просто обучаем цвета узнава...</td>\n",
       "      <td>5 ра з ответить мячик жёлтый 3 зелёный весь со...</td>\n",
       "    </tr>\n",
       "  </tbody>\n",
       "</table>\n",
       "<p>5115 rows × 11 columns</p>\n",
       "</div>"
      ],
      "text/plain": [
       "      index  Unnamed: 0                                              title  \\\n",
       "0        88          88      Вопрос на миллион: зарплата фаундера стартапа   \n",
       "1        92          92                  Path взломали, но никому нет дела   \n",
       "2       182         182  Indiegogo привлёк $40 миллионов на глобальное ...   \n",
       "3       193         193  Для помощи интернет-магазинам Яндекс выкупил к...   \n",
       "4       240         240  Microsoft вложит $15 млн в Foursquare и будет ...   \n",
       "...     ...         ...                                                ...   \n",
       "5110  45948       46238                                Что-то пошло не так   \n",
       "5111  45959       46249                              iPad. Темная тема iOS   \n",
       "5112  46602       46896  Через приложение vc.ru для iPhone нельзя зарег...   \n",
       "5113  46976       47271                 Не грузятся картинки в комментарии   \n",
       "5114  47809       48110                              vc.ru вы издеваетесь?   \n",
       "\n",
       "                                                   text     date    section  \\\n",
       "0      Команда – это одна из самых главных составляю...  2014-01    Финансы   \n",
       "1      Социальная сеть Path, известная своим красивы...  2014-01    Финансы   \n",
       "2      Популярный краудфандинговый сервис Indiegogo ...  2014-01    Финансы   \n",
       "3      Российская компания Яндекс заключила соглашен...  2014-01    Финансы   \n",
       "4      Всего через пару часов после новости о том, ч...  2014-02    Финансы   \n",
       "...                                                 ...      ...        ...   \n",
       "5110                                           iOS 13.3     в-01  Сломалось   \n",
       "5111   Цвета комментариев чёрные на чёрном. Фото не ...     в-01  Сломалось   \n",
       "5112   Есть возможность только для авторизации, а ре...     в-02  Сломалось   \n",
       "5113   Загружаю картинку на десктопе в комментарий, ...     в-02  Сломалось   \n",
       "5114   Уже 5 ра-з ответил что мячик жёлтый и 3 раза ...     в-03  Сломалось   \n",
       "\n",
       "      votes    views  bookmarks  \\\n",
       "0      23.0  13501.0        0.0   \n",
       "1      14.0   5904.0        0.0   \n",
       "2      11.0   2749.0        0.0   \n",
       "3      14.0   5384.0        0.0   \n",
       "4      11.0   2740.0        0.0   \n",
       "...     ...      ...        ...   \n",
       "5110   -1.0    266.0        1.0   \n",
       "5111    0.0     98.0        1.0   \n",
       "5112   -3.0     83.0        1.0   \n",
       "5113    1.0     58.0        1.0   \n",
       "5114    0.0    175.0        0.0   \n",
       "\n",
       "                                               comments  \\\n",
       "0                                                         \n",
       "1                                                         \n",
       "2                                                         \n",
       "3                                                         \n",
       "4                                                         \n",
       "...                                                 ...   \n",
       "5110   ~#Такое может происходить при автоматической ...   \n",
       "5111   ~#Здравствуйте. \\nПопробуйте обновиться до по...   \n",
       "5112             ~#У меня норм 🤷‍♂️~#Айфон или Андроид?   \n",
       "5113   ~#Да. Сейчас у нас нагрузки на сервера. Из-за...   \n",
       "5114   ~#Мы так нейронку просто обучаем цвета узнава...   \n",
       "\n",
       "                                              good text  \n",
       "0     команда это самый главный составлять успех люб...  \n",
       "1     социальный сеть path известный свой красивый м...  \n",
       "2     популярный краудфандинговый сервис indiegogo п...  \n",
       "3     российский компания яндекс заключить соглашени...  \n",
       "4     пара часы новость сатие наделла утвердить долж...  \n",
       "...                                                 ...  \n",
       "5110                                           ios 13 3  \n",
       "5111  цвет комментарий чёрный чёрный фото давать при...  \n",
       "5112      возможность авторизация регистрироваться комп  \n",
       "5113  загружать картинка десктоп комментарий мигать ...  \n",
       "5114  5 ра з ответить мячик жёлтый 3 зелёный весь со...  \n",
       "\n",
       "[5115 rows x 11 columns]"
      ]
     },
     "execution_count": 8,
     "metadata": {},
     "output_type": "execute_result"
    }
   ],
   "source": [
    "data.reset_index()"
   ]
  },
  {
   "cell_type": "code",
   "execution_count": 10,
   "metadata": {},
   "outputs": [],
   "source": [
    "data = data.join(words)"
   ]
  },
  {
   "cell_type": "code",
   "execution_count": 31,
   "metadata": {},
   "outputs": [],
   "source": [
    "a = np.zeros(data.shape[0])\n",
    "a[:2849] = 1\n",
    "a[2849:] = -1"
   ]
  },
  {
   "cell_type": "code",
   "execution_count": 33,
   "metadata": {},
   "outputs": [],
   "source": [
    "data.fillna(0, inplace=True)"
   ]
  },
  {
   "cell_type": "code",
   "execution_count": 35,
   "metadata": {},
   "outputs": [],
   "source": [
    "data['fin'] = a"
   ]
  },
  {
   "cell_type": "code",
   "execution_count": 45,
   "metadata": {},
   "outputs": [],
   "source": [
    "X_train, X_test, y_train, y_test = train_test_split(data.drop(['fin', 'text', 'good text', 'date', 'title', 'section', 'comments'], axis=1), a, test_size=0.2, random_state=6)"
   ]
  },
  {
   "cell_type": "code",
   "execution_count": 46,
   "metadata": {},
   "outputs": [],
   "source": [
    "sgd = SGDClassifier()"
   ]
  },
  {
   "cell_type": "code",
   "execution_count": 47,
   "metadata": {},
   "outputs": [
    {
     "data": {
      "text/plain": [
       "SGDClassifier(alpha=0.0001, average=False, class_weight=None,\n",
       "              early_stopping=False, epsilon=0.1, eta0=0.0, fit_intercept=True,\n",
       "              l1_ratio=0.15, learning_rate='optimal', loss='hinge',\n",
       "              max_iter=1000, n_iter_no_change=5, n_jobs=None, penalty='l2',\n",
       "              power_t=0.5, random_state=None, shuffle=True, tol=0.001,\n",
       "              validation_fraction=0.1, verbose=0, warm_start=False)"
      ]
     },
     "execution_count": 47,
     "metadata": {},
     "output_type": "execute_result"
    }
   ],
   "source": [
    "sgd.fit(X_train, y_train)"
   ]
  },
  {
   "cell_type": "code",
   "execution_count": 49,
   "metadata": {},
   "outputs": [],
   "source": [
    "pred = sgd.predict(X_test)"
   ]
  },
  {
   "cell_type": "code",
   "execution_count": 51,
   "metadata": {},
   "outputs": [
    {
     "data": {
      "text/plain": [
       "0.45650048875855326"
      ]
     },
     "execution_count": 51,
     "metadata": {},
     "output_type": "execute_result"
    }
   ],
   "source": [
    "accuracy_score(y_test, pred)"
   ]
  },
  {
   "cell_type": "code",
   "execution_count": 53,
   "metadata": {},
   "outputs": [
    {
     "data": {
      "text/plain": [
       "array([[467,   0],\n",
       "       [556,   0]], dtype=int64)"
      ]
     },
     "execution_count": 53,
     "metadata": {},
     "output_type": "execute_result"
    }
   ],
   "source": [
    "confusion_matrix(y_test, pred)"
   ]
  },
  {
   "cell_type": "code",
   "execution_count": 67,
   "metadata": {},
   "outputs": [
    {
     "data": {
      "text/plain": [
       "array([-1., -1.,  1., ...,  1.,  1.,  1.])"
      ]
     },
     "execution_count": 67,
     "metadata": {},
     "output_type": "execute_result"
    }
   ],
   "source": [
    "y_train"
   ]
  }
 ],
 "metadata": {
  "kernelspec": {
   "display_name": "Python 3",
   "language": "python",
   "name": "python3"
  },
  "language_info": {
   "codemirror_mode": {
    "name": "ipython",
    "version": 3
   },
   "file_extension": ".py",
   "mimetype": "text/x-python",
   "name": "python",
   "nbconvert_exporter": "python",
   "pygments_lexer": "ipython3",
   "version": "3.7.4"
  }
 },
 "nbformat": 4,
 "nbformat_minor": 2
}
