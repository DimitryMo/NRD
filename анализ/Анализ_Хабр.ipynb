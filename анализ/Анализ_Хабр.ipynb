{
 "cells": [
  {
   "cell_type": "markdown",
   "metadata": {},
   "source": [
    "## Подготовка данных"
   ]
  },
  {
   "cell_type": "code",
   "execution_count": null,
   "metadata": {},
   "outputs": [],
   "source": [
    "import pandas as pd\n",
    "import numpy as np\n",
    "import matplotlib.pyplot as plt"
   ]
  },
  {
   "cell_type": "code",
   "execution_count": null,
   "metadata": {},
   "outputs": [],
   "source": [
    "df = pd.read_feather('allhabr.feather')"
   ]
  },
  {
   "cell_type": "code",
   "execution_count": null,
   "metadata": {},
   "outputs": [],
   "source": [
    "ind = [34, 61, 130, 132, 153, 228, 270, 351, 366, 392, 435, 475, 477, 512, 518, 538, 550, 663, 685, 698, 780, 781, 788, 809, 880, 951, 1009, 1035, 1070, 1071, 1132, 1144, 1190, 1214, 1221, 1357, 1398, 1411, 1420, 1431, 1442, 1514, 1622, 1651, 1667, 1701, 1754, 1764, 1789, 1807, 1815, 1897, 1899, 1901, 1962, 2034, 2054, 2133, 2154, 2179, 2248, 2333, 2349, 2374, 2412, 2426, 2481, 2509, 2546, 2569, 2584, 2738, 2804, 2872, 2945, 2946, 2948, 3037, 3077, 3161, 3296, 3326, 3353, 3368, 3407, 3443, 3461, 3508, 3541, 3577, 3593, 3594, 3650, 3725, 3735, 3765, 3793, 3856, 3867, 3894, 3897, 4031, 4057, 4108, 4165, 4171, 4247, 4263, 4290, 4351, 4357, 4387, 4444, 4456, 4478, 4531, 4623, 4644, 4645, 4662, 4666, 4676, 4790, 4800, 4856, 4860, 4864, 4921, 4948, 4963, 5010, 5063, 5075, 5111, 5193, 5209, 5267, 5281, 5379, 5539, 5557, 5592, 5616, 5710, 5821, 5833, 5881, 5952, 6005, 6054, 6094, 6096, 6171, 6248, 6391, 6395, 6402, 6424, 6458, 6503, 6529, 6565, 6632, 6633, 6643, 6866, 6878, 6889, 7080, 7161, 7277, 7285, 7287, 7347, 7453, 7544, 7614, 7668, 7731, 7794, 7972, 8090, 8099, 8287, 8295, 8401, 8647, 8780, 8818, 8830, 8902, 8931, 8935, 8948, 8968, 9088, 9109, 9217, 9274, 9311, 9317, 9376, 9479, 9551, 9558, 9611, 9712, 9723, 9818, 9848, 9849, 9900, 9971, 10034, 10050, 10059, 10063, 10118, 10156, 10172, 10208, 10275, 10284, 10335, 10436, 10467, 10519, 10551, 10654, 10698, 10792, 10816, 10845, 10877, 10907, 10965, 11027, 11037, 11114, 11136, 11179, 11186, 11194, 11289, 11370, 11385, 11450, 11475, 11476, 11503, 11604, 11608, 11617, 11701, 11818, 11887, 11902, 11966, 12050, 12053, 12101, 12182, 12275, 12326, 12328, 12369, 12393, 12423, 12460, 12462, 12469, 12515, 12596, 12598, 12615, 12628, 12631, 12642, 12645, 12697, 12703, 12721, 12744, 12745, 12773, 12780, 12783, 12785, 12798, 12807, 12818, 12819, 12864, 12866, 12959, 12973, 12989, 13068, 13091, 13099, 13171, 13188, 13197, 13223, 13239, 13242, 13257, 13314, 13331, 13355, 13373, 13401, 13407, 13416, 13421, 13433, 13435, 13468, 13493, 13495, 13501, 13514, 13533, 13543, 13581, 13586, 13590, 13629, 13634, 13683, 13684, 13720, 13722, 13763, 13780, 13782, 13783, 13806, 13849, 13857, 13860, 13865, 13872, 13910, 13911, 13939, 13943, 13944, 13976, 13978, 13992, 13994, 13998, 14056, 14058, 14081, 14096, 14099, 14105, 14152, 14175, 14199, 14229, 14236, 14241, 14249, 14265, 14278, 14289, 14292, 14293, 14299, 14306, 14307, 14333, 14352, 14355, 14371, 14372, 14374, 14377, 14380, 14398, 14429, 14445, 14555, 14577, 14580, 14582, 14610, 14614, 14631, 14639, 14667, 14675, 14690, 14691, 14705, 14752, 14757, 14765, 14766, 14791, 14801, 14807, 14881, 14904, 14918, 14919, 14921, 14944, 14951, 14992, 15001, 15003, 15029, 15051, 15070, 15091, 15101, 15104, 15111, 15113, 15114, 15116, 15120, 15136, 15140, 15141, 15146, 15147, 15153, 15168, 15170, 15199, 15209, 15219, 15223, 15241, 15251, 15261, 15283, 15293, 15331, 15332, 15343, 15359, 15372, 15393, 15410, 15442, 15473, 15477, 15511, 15526, 15551, 15572, 15588, 15604, 15613, 15620, 15624, 15643, 15645, 15650, 15670, 15678, 15689, 15725, 15732, 15737, 15827, 15842, 15886, 15939, 15944, 15991, 16131, 16151, 16165, 16202, 16260, 16276, 16308, 16311, 16342, 16404, 16436, 16456, 16464, 16466, 16523, 16557, 16562, 16563, 16657, 16675, 16687, 16923, 16932, 16966, 16989, 17079, 17163, 17192, 17193, 17265, 17304, 17321, 17466, 17476, 17525, 17564, 17619, 17625, 17752, 17805, 17836, 17890, 17904, 17920, 17934, 18069, 18189, 18358, 18401, 18415, 18460, 18461, 18502, 18606, 18695, 18721, 18745, 18780, 18834, 18950, 18952, 19037, 19056, 19103, 19132, 19313, 19322, 19342, 19473, 19566, 19574, 19629, 19650, 19663, 19862, 19864, 19868, 19923, 19935, 19959, 19964, 19970, 20009, 20017, 20133, 20145, 20209, 20395, 20411, 20437, 20517, 20566, 20570, 20591, 20593, 20600, 20664, 20690, 20770, 20785, 20793, 20797, 20920, 20929, 20930, 20951, 20965, 20970, 21034, 21070, 21074, 21222, 21249, 21389, 21445, 21474, 21491, 21509, 21609, 21610, 21643, 21686, 21736, 21773, 21783, 21788, 21805, 21821, 21876, 21889, 21896, 21932, 21951, 21956, 21960, 22008, 22012, 22068, 22087, 22102, 22160, 22213, \n",
    "22233, 22236, 22267, 22281, 22296, 22322, 22328, 22337, 22341, 22367, 22396, 22413, 22414, 22432, 22444, 22532, 22551, 22564, 22592, 22631, 22658, 22704, 22759, 22778, 22809, 22835, 22873, 22898, 22900, 22908, 22918, 22979, 22999, 23016, 23027, 23029, 23053, 23057, 23113, 23132, 23146, 23178, 23206, 23213, 23226, 23260, 23346, 23349, 23371, 23399, 23401, 23407, 23416, 23417, 23448, 23462, 23482, 23484, 23498, 23526, 23529, 23559, 23596, 23671, 23700, 23718, 23744, 23752, 23765, 23804, 23819, 23840, 23842, 23858, 23875, 23926, 23928, 23940, 23964, 23968, 23976, 24008, 24032, 24035, 24040, 24056, 24101, 24117, 24131, 24151, 24154, 24159, 24167, 24187, 24304, 24306, 24313, 24325, 24403, 24441, 24450, 24462, 24490, 24521, 24536, 24577, 24617, 24644, 24661, 24682, 24686, 24699, 24715, 24730, 24758, 24761, 24766, 24785, 24806, 24815, 24887, 24911, 24975, 24979, 24989, 25065, 25074, 25080, 25108, 25149, 25153, 25203, 25204, 25288, 25344, 25364, 25477, 25513, 25611, 25614, 25627, 25639, 25675, 25688, 25693, 25720, 25737, 25791, 25810, 25818, 25841, 25868, 25928, 26006, 26016, 26098, 26186, 26259, 26276, 26295, 26334, 26342, 26389, 26439, 26508, 26635, 26647, 26661, 26695, 26727, 26763, 26787, 26795, 26850, 26852, 26862, 26904, 26929, 26930, 26984, 27054, 27084, 27130, 27199, 27265, 27334, 27363, 27372, 27418, 27429, 27444, 27447, 27463, 27546, 27581, 27588, 27678, 27693, 27699, 27701, 27791, 27795, 27803, 27863, 27931, 28004, 28091, 28112, 28115, 28138, 28147, 28150, 28156, 28219, 28262, 28286, 28324, 28325, 28329, 28360, 28389, 28407, 28434, 28436, 28470, 28487, 28488, 28493, 28496, 28514, 28563, 28619, 28637, 28650, 28670, 28677, 28691, 28707, 28717, 28719, 28721, 28736, 28737, 28761, 28765, 28807, 28917, 28936, 28937, 28945, 28948, 28969, 28980, 29002, 29016, 29064, 29084, 29106, 29108, 29126, 29137, 29154, 29213, 29219, 29222, 29269, 29351, 29459, 29501, 29513, 29526, 29541, 29542, 29722, 29726, 29749, 29833, 29897, 29901, 30043, 30053, 30064, 30081, 30129, 30235, 30313, 30374, 30453, 30505, 30506, 30538, 30641, 30698, 30703, 30726, 30809, 30844, 30856, 30878, 30926, 30959, 30964, 31009, 31047, 31065, 31127, 31191, 31198, 31266, 31276, 31288, 31379, 31400, 31416, 31501, 31506, 31561, 31581, 31602, 31741, 31801, 31806, 31815, 31837, 31899, 31903, 31921, 32045, 32074, 32083, 32093, 32094, 32102, 32113, 32116, 32186, 32310, 32319, 32353, 32393, 32399, 32441, 32499, 32554, 32609, 32651, 32652, 32694, 32739, 32775, 32783, 32796, 32831, 32876, 32884, 32897, 32904, 32910, 32952, 33016, 33048, 33067, 33093, 33251, 33252, 33273, 33276, 33280, 33289, 33380, 33388, 33447, 33472, 33494, 33560, 33573, 33593, 33602, 33632, 33674, 33699, 33723, 33773, 33932, 33938, 33964, 34056, 34096, 34144, 34148, 34166, 34213, 34226, 34265, 34279, 34405, 34423, 34480, 34497, 34564, 34569, 34598, 34646, 34658, 34670, 34672, 34694, 34700, 34701, 34705, 34717, 34722, 34744, 34747, 34762, 34767, 34773, 34776, 34801, 34805, 34812, 34818, 34825, 34842, 34853, 34861, 34864, 34904, 34919, 34937, 34944, 34968, 34990, 35025, 35031, 35033, 35065, 35073, 35079, 35082, 35104, 35106, 35107, 35115, 35119, 35125, 35126, 35160, 35175, 35215, 35219, 35253, 35277, 35299, 35300, 35325, 35326, 35329, 35348, 35358, 35362, 35384, 35389, 35413, 35450, 35453, 35458, 35515, 35529, 35539, 35544, 35561, 35585, 35638, 35657, 35662, 35673, 35689, 35699, 35706, 35708, 35716, 35723, 35786, 35881, 35924, 35952, 35966, 35977, 35979, 35998, 36032, 36050, 36074, 36147, 36154, 36161, 36163, 36189, 36199, 36218, 36243, 36250, 36272, 36343, 36357, 36359, 36362, 36444, 36458, 36471, 36474, 36524, 36540, 36641, 36649, 36654, 36663, 36679, 36688, 36728, 36774, 36782, 36806, 36822, 36882, 36904, 36911, 36935, 37065, 37156, 37205, 37288, 37393, 37467, 37550, 37637, 37692, 37700, 37737, 37900, 37983, 38038, 38044, 38075, 38109, 38205, 38214, 38221, 38288, 38346, 38348, 38432, 38454, 38474, 38489, 38491, 38502, 38519, 38565, 38569, 38585, 38615, 38619, 38670, 38678, 38680, 38690, 38778, 38800, 38815, 38884, 39096, 39151, 39166, 39172, 39177, 39182, 39245, 39248, 39256, 39362, 39408, 39428, 39462,\n",
    "39537, 39664, 39697, 39715, 39741, 39753, 39757, 39771, 39794, 39874, 39906, 39939, 40027, 40267, 40294, 40344, 40388, 40479, 40502, 40511, 40526, 40536, 40581, 40627, 40641, 40694, 40732, 40790, 40897, 40931, 40950, 41002, 41016, 41050, 41069, 41070, 41137, 41200, 41238, 41249, 41266, 41306, 41312, 41349, 41367, 41381, 41438, 41467, 41506, 41541, 41562, 41566, 41604, 41631, 41637, 41744, 41970, 42145, 42154, 42169, 42196, 42215, 42223, 42281, 42291, 42294, 42308, 42325, 42337, 42412, 42500, 42503, 42525, 42556, 42766, 42878, 42916, 42935, 43059, 43071, 43112, 43128, 43137, 43165, 43238, 43270, 43277, 43484, 43536, 43562, 43588, 43602, 43618, 43657, 43844, 43878, 43882, 43907, 43924, 43932, 43962, 43987, 44024, 44057, 44069, 44217, 44219, 44240, 44280, 44351, 44432]"
   ]
  },
  {
   "cell_type": "code",
   "execution_count": null,
   "metadata": {},
   "outputs": [],
   "source": [
    "lst = [0] * len(df)\n",
    "for i in ind:\n",
    "    lst[i] = 1"
   ]
  },
  {
   "cell_type": "code",
   "execution_count": null,
   "metadata": {},
   "outputs": [],
   "source": [
    "for i in ind:\n",
    "    print(df['hubs'][i])"
   ]
  },
  {
   "cell_type": "code",
   "execution_count": null,
   "metadata": {},
   "outputs": [],
   "source": [
    "df['fintech_text'] = lst"
   ]
  },
  {
   "cell_type": "code",
   "execution_count": null,
   "metadata": {},
   "outputs": [],
   "source": [
    "shit = ['2008-09','2013-05',\n",
    "       '2013-04', '2012-12', '2011-03', '2012-10', '2011-11',\n",
    "       '2010-10', '2009-05', '2010-01', '2008-10', '2008-11',\n",
    "       '2008-12', '2009-01', '2009-02', '2009-03', '2009-04', '2009-06',\n",
    "       '2009-07', '2009-08', '2009-09', '2009-11', '2009-12', '2010-02',\n",
    "       '2010-03', '2010-04', '2010-05', '2010-11', '2011-01', '2011-02',\n",
    "       '2011-04', '2011-05', '2011-06', '2011-12', '2012-01', '2012-02',\n",
    "       '2012-03', '2012-04', '2012-05', '2012-07', '2012-08', '2012-09',\n",
    "       '2012-11', '2013-01', '2013-02', '2013-03', '2013-06', '2013-07',\n",
    "       '2013-08', '2013-11', '2010-08', '2012-06', '2013-09', '2013-10',\n",
    "       '2008-08', '2009-10', '2010-09', '2011-07', '2011-08', '2011-09',\n",
    "       '2011-10', '2007-07', '2007-08', '2007-09', '2007-10', '2008-01',\n",
    "       '2008-04', '2008-06', '2010-06', '2010-12', '2006-07', '2006-08',\n",
    "       '2006-09', '2006-10', '2006-11', '2006-12', '2007-01', '2007-02',\n",
    "       '2007-04', '2007-05', '2007-06', '2007-11', '2007-12', '2008-02',\n",
    "       '2008-03', '2008-05', '2008-07', '2007-03', '2010-07', '2013-12',\n",
    "       '2006-06', '09:17-12', '09:09-12',\n",
    "       '14:24-12', '11:11-12', '15:36-12']"
   ]
  },
  {
   "cell_type": "code",
   "execution_count": null,
   "metadata": {},
   "outputs": [],
   "source": [
    "df = df[df['date'].isin(set(df['date']) - set(shit))]"
   ]
  },
  {
   "cell_type": "code",
   "execution_count": null,
   "metadata": {},
   "outputs": [],
   "source": [
    "df['comments'] = df['comments'].astype('str')"
   ]
  },
  {
   "cell_type": "code",
   "execution_count": null,
   "metadata": {},
   "outputs": [],
   "source": [
    "df['vot'] = df['votes'] / df['views']"
   ]
  },
  {
   "cell_type": "code",
   "execution_count": null,
   "metadata": {},
   "outputs": [],
   "source": [
    "def countcomm(comm):\n",
    "    return len(comm.split('~#'))\n",
    "\n",
    "sh = df['comments']\n",
    "df['commcount'] = sh.apply(countcomm)"
   ]
  },
  {
   "cell_type": "code",
   "execution_count": null,
   "metadata": {},
   "outputs": [],
   "source": [
    "def getdate(date):\n",
    "    a = date.split('-')\n",
    "    return int(a[0]) * 100 + int(a[1])\n",
    "\n",
    "df['date_for_sort'] = df['date'].apply(getdate)"
   ]
  },
  {
   "cell_type": "code",
   "execution_count": null,
   "metadata": {},
   "outputs": [],
   "source": [
    "df.sort_values(by=['date_for_sort'], inplace=True)"
   ]
  },
  {
   "cell_type": "code",
   "execution_count": null,
   "metadata": {},
   "outputs": [],
   "source": [
    "hubs = set(['финансы','инвестиция', 'фонд', 'HFT', 'фьючерс', 'опцион', 'биржа', 'форекс', 'forex', 'брокер', 'финтех', 'fintech', 'листинг', 'котировка', 'акция', 'облигация', 'трейдинг', 'валюта', 'дивиденд', 'волатильность', 'RegTech', 'РЕПО', 'ETF', 'RPA', 'IPO', 'криптовалюта', 'bitcoin', 'ethereum', 'биткоин', 'ICO', 'NEM', 'ripple', 'litecoin', 'IOTA', 'DASH', 'BitShares', 'Stratis', 'Monero', 'Bytecoin', 'Zcash', 'NEO', 'QTUM', 'OmiseGO', 'BitCoinnect', 'BCC', 'Lisk', 'LSK', 'Cardano', 'Tether', 'USDT', 'Stellar Lumens', 'XLM', 'EOS', 'Hshare', 'HSR', 'Waves', 'альткойн', 'altcoin', 'Асик', 'блокчейн', 'фондовый', 'финтех-стартап', 'финтех-единорог', 'финтех-инвестиция', 'финтех-проект', 'инкубатор', \n",
    "            'акселератор', 'хакатон', 'lendtech', 'govtech', 'PSD2', 'финтех-продукт', 'маркетплейс', 'песочница', 'Финансы в IT', 'Венчурные инвестиции', \n",
    "           'Криптовалюты', 'Платежные системы', ])\n",
    "good = set()\n",
    "for i in df['hubs'].unique():\n",
    "    for j in hubs:\n",
    "        if j in i:\n",
    "            good.add(i)"
   ]
  },
  {
   "cell_type": "code",
   "execution_count": null,
   "metadata": {},
   "outputs": [],
   "source": [
    "df['fintech_hubs'] = df['hubs'].isin(good).apply(int)"
   ]
  },
  {
   "cell_type": "code",
   "execution_count": null,
   "metadata": {},
   "outputs": [],
   "source": [
    "len(set(df[df['fintech_hubs'] == 1]['title']).intersection(set(df[df['fintech_text'] == 1]['title'])))"
   ]
  },
  {
   "cell_type": "markdown",
   "metadata": {},
   "source": [
    "### Нормальный код для Bag of words"
   ]
  },
  {
   "cell_type": "code",
   "execution_count": null,
   "metadata": {},
   "outputs": [],
   "source": [
    "data=[preprocess_text(text) for text in df['text'][:1000]]"
   ]
  },
  {
   "cell_type": "code",
   "execution_count": null,
   "metadata": {},
   "outputs": [],
   "source": [
    "from sklearn.feature_extraction.text import CountVectorizer vectorizer = CountVectorizer(analyzer = \"word\",\n",
    "tokenizer = None,\n",
    "preprocessor = None, stop_words = None,\n",
    "max_features = 5000)"
   ]
  },
  {
   "cell_type": "code",
   "execution_count": null,
   "metadata": {},
   "outputs": [],
   "source": [
    "train_data_features = vectorizer.fit_transform(data) train_data_features = train_data_features.toarray() train_data_features"
   ]
  },
  {
   "cell_type": "code",
   "execution_count": null,
   "metadata": {},
   "outputs": [],
   "source": [
    "vocab = vectorizer.get_feature_names() vocab"
   ]
  },
  {
   "cell_type": "markdown",
   "metadata": {},
   "source": [
    "## Словарь тональности"
   ]
  },
  {
   "cell_type": "code",
   "execution_count": null,
   "metadata": {},
   "outputs": [],
   "source": [
    "dic = pd.read_csv('Dict.csv')"
   ]
  },
  {
   "cell_type": "code",
   "execution_count": null,
   "metadata": {
    "scrolled": true
   },
   "outputs": [],
   "source": [
    "dicdic = dic.set_index('term')['value'].to_dict()\n",
    "known_words = set(dicdic.keys())"
   ]
  },
  {
   "cell_type": "markdown",
   "metadata": {},
   "source": [
    "#### Подготовка текста"
   ]
  },
  {
   "cell_type": "code",
   "execution_count": null,
   "metadata": {},
   "outputs": [],
   "source": [
    "from nltk.corpus import stopwords\n",
    "import nltk\n",
    "import pymorphy2\n",
    "from nltk.tokenize import word_tokenize\n",
    "morph = pymorphy2.MorphAnalyzer()\n",
    "#nltk.download('punkt')\n",
    "#nltk.download('stopwords')"
   ]
  },
  {
   "cell_type": "code",
   "execution_count": null,
   "metadata": {},
   "outputs": [],
   "source": [
    "def numb(word, df=dicdic):\n",
    "    if word:\n",
    "        return dicdic[word]\n",
    "    return 0"
   ]
  },
  {
   "cell_type": "code",
   "execution_count": null,
   "metadata": {},
   "outputs": [],
   "source": [
    "def ne1(comments):\n",
    "    for comment in comments:\n",
    "        for 'не' in comment[:-1]:\n",
    "            if comment"
   ]
  },
  {
   "cell_type": "code",
   "execution_count": null,
   "metadata": {},
   "outputs": [],
   "source": [
    "def ne(comm):\n",
    "    while 'не' in comm[:-1]:\n",
    "        comm[comm.index('не') + 1] *= -1\n",
    "        comm.remove('не')\n",
    "    return comm"
   ]
  },
  {
   "cell_type": "code",
   "execution_count": null,
   "metadata": {},
   "outputs": [],
   "source": [
    "def sentiment(comments, words=known_words):\n",
    "    res = []\n",
    "    comments = comments.replace(' не ',' не')\n",
    "    comments = comments.replace(' Не ', ' Не')\n",
    "    new = [word_tokenize(comment.lower()) for comment in comments.split('~#')]\n",
    "    comments = [[morph.parse(word)[0].normal_form  for word in sublist] for sublist in new]\n",
    "    res = [list(map(numb, (set(comment) & known_words))) for comment in comments]\n",
    "    res = list(map(ne, res))\n",
    "    global cnt\n",
    "    print(cnt)\n",
    "    cnt += 1\n",
    "    return res"
   ]
  },
  {
   "cell_type": "code",
   "execution_count": null,
   "metadata": {},
   "outputs": [],
   "source": [
    "%%time\n",
    "a = list(map(sentiment, df['comments']))"
   ]
  },
  {
   "cell_type": "code",
   "execution_count": null,
   "metadata": {},
   "outputs": [],
   "source": [
    "df['commentstone'] = a"
   ]
  },
  {
   "cell_type": "code",
   "execution_count": null,
   "metadata": {},
   "outputs": [],
   "source": [
    "for i in range(len(a)):\n",
    "    a[i] = list(map(lambda x:sum(x)/(len(x) + 0.00000000001), a[i]))"
   ]
  },
  {
   "cell_type": "code",
   "execution_count": null,
   "metadata": {},
   "outputs": [],
   "source": [
    "df['commr'] = list(map(lambda x:sum(x)/(len(x) + 0.0000000000000001), a))"
   ]
  },
  {
   "cell_type": "code",
   "execution_count": null,
   "metadata": {},
   "outputs": [],
   "source": [
    "plt.scatter(d['vot'], d['commr'])\n",
    "plt.xlabel('vot')\n",
    "plt.ylabel('commr')"
   ]
  },
  {
   "cell_type": "markdown",
   "metadata": {},
   "source": [
    "## Строим графики"
   ]
  },
  {
   "cell_type": "code",
   "execution_count": null,
   "metadata": {},
   "outputs": [],
   "source": [
    "dates = df['date'].unique()\n",
    "years = range(0,74,12)"
   ]
  },
  {
   "cell_type": "code",
   "execution_count": null,
   "metadata": {},
   "outputs": [],
   "source": [
    "fintech_num = np.array([sum(df[df['date'] == date]['fintech']) for date in df['date'].unique()]) \n",
    "fintech_num"
   ]
  },
  {
   "cell_type": "code",
   "execution_count": null,
   "metadata": {},
   "outputs": [],
   "source": [
    "fintech_share = fintech_num / np.array([len(df[df['date'] == date]) for date in df['date'].unique()])"
   ]
  },
  {
   "cell_type": "code",
   "execution_count": null,
   "metadata": {},
   "outputs": [],
   "source": [
    "fig = plt.figure(figsize=(12,7))\n",
    "plt.plot(df['date'].unique(), (fintech_num - np.min(fintech_num))/(np.max(fintech_num) - np.min(fintech_num)), \n",
    "         color='blue', label='Количество финтех статей')\n",
    "plt.plot(df['date'].unique(), fintech_share * 10, color='red', label='Доля финтех статей')\n",
    "plt.plot(df['date'].unique(),(cryp - min(cryp))/(max(cryp) - min(cryp)), '--g', label='Количество крипты')\n",
    "plt.legend()\n",
    "plt.title('Финтех статьи')\n",
    "plt.xticks(ticks=range(0,74,12))\n",
    "plt.show()"
   ]
  },
  {
   "cell_type": "code",
   "execution_count": null,
   "metadata": {},
   "outputs": [],
   "source": [
    "plt.plot(df['date'].unique(), [len(df[df['date'] == date]) for date in df['date'].unique()])\n",
    "plt.xticks(ticks=range(0,74,12))\n",
    "plt.title('Статей на хабре')\n",
    "plt.show()"
   ]
  },
  {
   "cell_type": "code",
   "execution_count": null,
   "metadata": {},
   "outputs": [],
   "source": [
    "cryph = set()\n",
    "for i in df['hubs']:\n",
    "     if 'Криптовалюты' in i:\n",
    "            cryph.add(i)"
   ]
  },
  {
   "cell_type": "code",
   "execution_count": null,
   "metadata": {},
   "outputs": [],
   "source": [
    "cryp = np.array([len(df[(df['date'] == date) & df['hubs'].isin(cryph)]) for date in df['date'].unique()])"
   ]
  },
  {
   "cell_type": "code",
   "execution_count": null,
   "metadata": {},
   "outputs": [],
   "source": [
    "fig, ax = plt.subplots(2, 2, sharey='row', figsize=(15,7))\n",
    "c = 0\n",
    "cs = [(0, 0), (0, 1), (1, 0), (1, 1)]\n",
    "for word in ['Финансы в IT', 'Венчурные инвестиции',\n",
    "            'Децентрализованные сети', 'Разработка под e-commerce']:\n",
    "    k = cs[c]\n",
    "    gd = set()\n",
    "    for i in df['hubs']:\n",
    "        if word in i:\n",
    "            gd.add(i)\n",
    "    y = np.array([len(df[(df['date'] == date) & df['hubs'].isin(gd)]) for date in dates])\n",
    "    ax[k].plot(dates, (y - min(y)) / (max(y) - min(y)), label=word)\n",
    "    ax[k].legend()\n",
    "    c += 1\n",
    "    ax[k].set_xticks(ticks=years)\n",
    "plt.show()"
   ]
  },
  {
   "cell_type": "code",
   "execution_count": null,
   "metadata": {},
   "outputs": [],
   "source": [
    "vot_all = np.array([np.median(df[(df['date'] == date)]['vot']) for date in dates])\n",
    "vot_fint = np.array([np.median(df[(df['date'] == date) & (df['fintech'] == 1)]['vot']) for date in dates])"
   ]
  },
  {
   "cell_type": "code",
   "execution_count": null,
   "metadata": {},
   "outputs": [],
   "source": [
    "fig = plt.figure(figsize=(12,7))\n",
    "plt.plot(dates, vot_all, '--b', label='Vot benchmark')\n",
    "plt.plot(dates, vot_fint, 'r', label='Vot fintech')\n",
    "plt.title('Votes/views')\n",
    "plt.legend()\n",
    "plt.xticks(ticks=years)\n",
    "plt.ylabel('Vot')\n",
    "plt.show()"
   ]
  },
  {
   "cell_type": "code",
   "execution_count": null,
   "metadata": {},
   "outputs": [],
   "source": [
    "fig = plt.figure(figsize=(12,7))\n",
    "plt.plot(dates, vot_fint / vot_all, 'b')\n",
    "plt.ylabel('Vot fintech / Vot benchmark')\n",
    "plt.xticks(ticks=years)\n",
    "plt.title('Fintech / benchmark vot ratio')\n",
    "plt.show()"
   ]
  },
  {
   "cell_type": "code",
   "execution_count": null,
   "metadata": {},
   "outputs": [],
   "source": [
    "views_fin = np.array([np.median(df[(df['date'] == date) & (df['fintech'] == 1)]['views']) for date in dates])\n",
    "views_all = np.array([np.median(df[(df['date'] == date)]['views']) for date in dates])"
   ]
  },
  {
   "cell_type": "code",
   "execution_count": null,
   "metadata": {
    "scrolled": false
   },
   "outputs": [],
   "source": [
    "fig = plt.figure(figsize=(12,7))\n",
    "plt.xticks(ticks=years)\n",
    "plt.plot(dates, np.log(views_fin), 'r', label='Views fintech')\n",
    "plt.plot(dates, np.log(views_all), '--b', label='Views benchmark')\n",
    "plt.legend()\n",
    "plt.show()"
   ]
  },
  {
   "cell_type": "code",
   "execution_count": null,
   "metadata": {
    "scrolled": false
   },
   "outputs": [],
   "source": [
    "fig = plt.figure(figsize=(12,7))\n",
    "plt.plot(dates, views_fin/views_all, 'b')\n",
    "plt.title('Fintech/ all views ratio')\n",
    "plt.xticks(ticks=years)\n",
    "plt.show()"
   ]
  },
  {
   "cell_type": "code",
   "execution_count": null,
   "metadata": {},
   "outputs": [],
   "source": [
    "np.median(views_fin/views_all)"
   ]
  },
  {
   "cell_type": "code",
   "execution_count": null,
   "metadata": {},
   "outputs": [],
   "source": [
    "np.corrcoef(df['fintech'], df['bookmarks'])"
   ]
  },
  {
   "cell_type": "markdown",
   "metadata": {},
   "source": [
    "* Составить список слов для хабов, тегов\n",
    "* Подумать с поиском по тексту\n",
    "* Подумать про вк/фэйсбук\n",
    "* Придумать метрики\n",
    "* Хабр Ку энд Эй"
   ]
  }
 ],
 "metadata": {
  "kernelspec": {
   "display_name": "Python 3",
   "language": "python",
   "name": "python3"
  },
  "language_info": {
   "codemirror_mode": {
    "name": "ipython",
    "version": 3
   },
   "file_extension": ".py",
   "mimetype": "text/x-python",
   "name": "python",
   "nbconvert_exporter": "python",
   "pygments_lexer": "ipython3",
   "version": "3.7.4"
  }
 },
 "nbformat": 4,
 "nbformat_minor": 2
}
